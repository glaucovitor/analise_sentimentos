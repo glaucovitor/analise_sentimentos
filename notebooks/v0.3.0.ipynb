{
 "cells": [
  {
   "cell_type": "markdown",
   "metadata": {},
   "source": [
    "# TCC Augusto e Ícaro\n",
    "## Modelo de automatização das Heurísticas de Nielsen para comentários em reviews de Apps\n",
    "\n",
    "* Versão 0.3.0\n",
    "* Bibliotecas utilizadas: pandas, numpy, texthero, ntlk e corpus do ntlk em português\n",
    "* Dataset utilizado: dataset_v9.csv\n",
    "* Data: 04/07/2020\n",
    "\n",
    "### Objetivos, incrementos e correções:\n",
    "\n",
    "* Encapsulamento da pipeline de pre-processamento\n",
    "* Utilizando dataset com classificação revisada para melhor acurácia\n",
    "* Aumento dos pesos de termos classificados como usabilidade\n",
    "* Foco em detalhar e evoluir o dicionário de radicais classificados"
   ]
  },
  {
   "cell_type": "code",
   "execution_count": 665,
   "metadata": {},
   "outputs": [
    {
     "name": "stdout",
     "output_type": "stream",
     "text": [
      "Requirement already up-to-date: pip in /home/icaro/.pyenv/versions/3.7.3/lib/python3.7/site-packages (20.2.1)\n",
      "Requirement already satisfied: pandas in /home/icaro/.pyenv/versions/3.7.3/lib/python3.7/site-packages (1.0.5)\n",
      "Requirement already satisfied: python-dateutil>=2.6.1 in /home/icaro/.pyenv/versions/3.7.3/lib/python3.7/site-packages (from pandas) (2.8.1)\n",
      "Requirement already satisfied: pytz>=2017.2 in /home/icaro/.pyenv/versions/3.7.3/lib/python3.7/site-packages (from pandas) (2020.1)\n",
      "Requirement already satisfied: numpy>=1.13.3 in /home/icaro/.pyenv/versions/3.7.3/lib/python3.7/site-packages (from pandas) (1.18.5)\n",
      "Requirement already satisfied: six>=1.5 in /home/icaro/.pyenv/versions/3.7.3/lib/python3.7/site-packages (from python-dateutil>=2.6.1->pandas) (1.15.0)\n",
      "Requirement already satisfied: numpy in /home/icaro/.pyenv/versions/3.7.3/lib/python3.7/site-packages (1.18.5)\n",
      "Requirement already satisfied: texthero in /home/icaro/.pyenv/versions/3.7.3/lib/python3.7/site-packages (1.0.9)\n",
      "Requirement already satisfied: gensim>=3.6.0 in /home/icaro/.pyenv/versions/3.7.3/lib/python3.7/site-packages (from texthero) (3.8.3)\n",
      "Requirement already satisfied: unidecode>=1.1.1 in /home/icaro/.pyenv/versions/3.7.3/lib/python3.7/site-packages (from texthero) (1.1.1)\n",
      "Requirement already satisfied: scikit-learn>=0.22 in /home/icaro/.pyenv/versions/3.7.3/lib/python3.7/site-packages (from texthero) (0.23.1)\n",
      "Requirement already satisfied: numpy>=1.17 in /home/icaro/.pyenv/versions/3.7.3/lib/python3.7/site-packages (from texthero) (1.18.5)\n",
      "Requirement already satisfied: pandas>=1.0.2 in /home/icaro/.pyenv/versions/3.7.3/lib/python3.7/site-packages (from texthero) (1.0.5)\n",
      "Requirement already satisfied: nltk>=3.3 in /home/icaro/.pyenv/versions/3.7.3/lib/python3.7/site-packages (from texthero) (3.5)\n",
      "Requirement already satisfied: spacy>=2.2.2 in /home/icaro/.pyenv/versions/3.7.3/lib/python3.7/site-packages (from texthero) (2.3.2)\n",
      "Requirement already satisfied: wordcloud>=1.5.0 in /home/icaro/.pyenv/versions/3.7.3/lib/python3.7/site-packages (from texthero) (1.7.0)\n",
      "Requirement already satisfied: plotly>=4.2.0 in /home/icaro/.pyenv/versions/3.7.3/lib/python3.7/site-packages (from texthero) (4.9.0)\n",
      "Requirement already satisfied: matplotlib>=3.1.0 in /home/icaro/.pyenv/versions/3.7.3/lib/python3.7/site-packages (from texthero) (3.2.2)\n",
      "Requirement already satisfied: tqdm>=4.3 in /home/icaro/.pyenv/versions/3.7.3/lib/python3.7/site-packages (from texthero) (4.46.1)\n",
      "Requirement already satisfied: scipy>=0.18.1 in /home/icaro/.pyenv/versions/3.7.3/lib/python3.7/site-packages (from gensim>=3.6.0->texthero) (1.4.1)\n",
      "Requirement already satisfied: smart-open>=1.8.1 in /home/icaro/.pyenv/versions/3.7.3/lib/python3.7/site-packages (from gensim>=3.6.0->texthero) (2.1.0)\n",
      "Requirement already satisfied: six>=1.5.0 in /home/icaro/.pyenv/versions/3.7.3/lib/python3.7/site-packages (from gensim>=3.6.0->texthero) (1.15.0)\n",
      "Requirement already satisfied: joblib>=0.11 in /home/icaro/.pyenv/versions/3.7.3/lib/python3.7/site-packages (from scikit-learn>=0.22->texthero) (0.15.1)\n",
      "Requirement already satisfied: threadpoolctl>=2.0.0 in /home/icaro/.pyenv/versions/3.7.3/lib/python3.7/site-packages (from scikit-learn>=0.22->texthero) (2.1.0)\n",
      "Requirement already satisfied: python-dateutil>=2.6.1 in /home/icaro/.pyenv/versions/3.7.3/lib/python3.7/site-packages (from pandas>=1.0.2->texthero) (2.8.1)\n",
      "Requirement already satisfied: pytz>=2017.2 in /home/icaro/.pyenv/versions/3.7.3/lib/python3.7/site-packages (from pandas>=1.0.2->texthero) (2020.1)\n",
      "Requirement already satisfied: click in /home/icaro/.pyenv/versions/3.7.3/lib/python3.7/site-packages (from nltk>=3.3->texthero) (7.1.2)\n",
      "Requirement already satisfied: regex in /home/icaro/.pyenv/versions/3.7.3/lib/python3.7/site-packages (from nltk>=3.3->texthero) (2020.6.8)\n",
      "Requirement already satisfied: murmurhash<1.1.0,>=0.28.0 in /home/icaro/.pyenv/versions/3.7.3/lib/python3.7/site-packages (from spacy>=2.2.2->texthero) (1.0.2)\n",
      "Requirement already satisfied: cymem<2.1.0,>=2.0.2 in /home/icaro/.pyenv/versions/3.7.3/lib/python3.7/site-packages (from spacy>=2.2.2->texthero) (2.0.3)\n",
      "Requirement already satisfied: plac<1.2.0,>=0.9.6 in /home/icaro/.pyenv/versions/3.7.3/lib/python3.7/site-packages (from spacy>=2.2.2->texthero) (1.1.3)\n",
      "Requirement already satisfied: catalogue<1.1.0,>=0.0.7 in /home/icaro/.pyenv/versions/3.7.3/lib/python3.7/site-packages (from spacy>=2.2.2->texthero) (1.0.0)\n",
      "Requirement already satisfied: blis<0.5.0,>=0.4.0 in /home/icaro/.pyenv/versions/3.7.3/lib/python3.7/site-packages (from spacy>=2.2.2->texthero) (0.4.1)\n",
      "Requirement already satisfied: srsly<1.1.0,>=1.0.2 in /home/icaro/.pyenv/versions/3.7.3/lib/python3.7/site-packages (from spacy>=2.2.2->texthero) (1.0.2)\n",
      "Requirement already satisfied: preshed<3.1.0,>=3.0.2 in /home/icaro/.pyenv/versions/3.7.3/lib/python3.7/site-packages (from spacy>=2.2.2->texthero) (3.0.2)\n",
      "Requirement already satisfied: setuptools in /home/icaro/.pyenv/versions/3.7.3/lib/python3.7/site-packages (from spacy>=2.2.2->texthero) (47.3.1)\n",
      "Requirement already satisfied: thinc==7.4.1 in /home/icaro/.pyenv/versions/3.7.3/lib/python3.7/site-packages (from spacy>=2.2.2->texthero) (7.4.1)\n",
      "Requirement already satisfied: wasabi<1.1.0,>=0.4.0 in /home/icaro/.pyenv/versions/3.7.3/lib/python3.7/site-packages (from spacy>=2.2.2->texthero) (0.7.1)\n",
      "Requirement already satisfied: requests<3.0.0,>=2.13.0 in /home/icaro/.pyenv/versions/3.7.3/lib/python3.7/site-packages (from spacy>=2.2.2->texthero) (2.23.0)\n",
      "Requirement already satisfied: pillow in /home/icaro/.pyenv/versions/3.7.3/lib/python3.7/site-packages (from wordcloud>=1.5.0->texthero) (7.1.2)\n",
      "Requirement already satisfied: retrying>=1.3.3 in /home/icaro/.pyenv/versions/3.7.3/lib/python3.7/site-packages (from plotly>=4.2.0->texthero) (1.3.3)\n",
      "Requirement already satisfied: kiwisolver>=1.0.1 in /home/icaro/.pyenv/versions/3.7.3/lib/python3.7/site-packages (from matplotlib>=3.1.0->texthero) (1.2.0)\n",
      "Requirement already satisfied: pyparsing!=2.0.4,!=2.1.2,!=2.1.6,>=2.0.1 in /home/icaro/.pyenv/versions/3.7.3/lib/python3.7/site-packages (from matplotlib>=3.1.0->texthero) (2.4.7)\n",
      "Requirement already satisfied: cycler>=0.10 in /home/icaro/.pyenv/versions/3.7.3/lib/python3.7/site-packages (from matplotlib>=3.1.0->texthero) (0.10.0)\n",
      "Requirement already satisfied: boto3 in /home/icaro/.pyenv/versions/3.7.3/lib/python3.7/site-packages (from smart-open>=1.8.1->gensim>=3.6.0->texthero) (1.14.23)\n",
      "Requirement already satisfied: boto in /home/icaro/.pyenv/versions/3.7.3/lib/python3.7/site-packages (from smart-open>=1.8.1->gensim>=3.6.0->texthero) (2.49.0)\n",
      "Requirement already satisfied: importlib-metadata>=0.20; python_version < \"3.8\" in /home/icaro/.pyenv/versions/3.7.3/lib/python3.7/site-packages (from catalogue<1.1.0,>=0.0.7->spacy>=2.2.2->texthero) (1.6.1)\n",
      "Requirement already satisfied: urllib3!=1.25.0,!=1.25.1,<1.26,>=1.21.1 in /home/icaro/.pyenv/versions/3.7.3/lib/python3.7/site-packages (from requests<3.0.0,>=2.13.0->spacy>=2.2.2->texthero) (1.25.9)\n",
      "Requirement already satisfied: certifi>=2017.4.17 in /home/icaro/.pyenv/versions/3.7.3/lib/python3.7/site-packages (from requests<3.0.0,>=2.13.0->spacy>=2.2.2->texthero) (2020.4.5.2)\n",
      "Requirement already satisfied: idna<3,>=2.5 in /home/icaro/.pyenv/versions/3.7.3/lib/python3.7/site-packages (from requests<3.0.0,>=2.13.0->spacy>=2.2.2->texthero) (2.9)\n",
      "Requirement already satisfied: chardet<4,>=3.0.2 in /home/icaro/.pyenv/versions/3.7.3/lib/python3.7/site-packages (from requests<3.0.0,>=2.13.0->spacy>=2.2.2->texthero) (3.0.4)\n",
      "Requirement already satisfied: jmespath<1.0.0,>=0.7.1 in /home/icaro/.pyenv/versions/3.7.3/lib/python3.7/site-packages (from boto3->smart-open>=1.8.1->gensim>=3.6.0->texthero) (0.10.0)\n",
      "Requirement already satisfied: botocore<1.18.0,>=1.17.23 in /home/icaro/.pyenv/versions/3.7.3/lib/python3.7/site-packages (from boto3->smart-open>=1.8.1->gensim>=3.6.0->texthero) (1.17.23)\n",
      "Requirement already satisfied: s3transfer<0.4.0,>=0.3.0 in /home/icaro/.pyenv/versions/3.7.3/lib/python3.7/site-packages (from boto3->smart-open>=1.8.1->gensim>=3.6.0->texthero) (0.3.3)\n",
      "Requirement already satisfied: zipp>=0.5 in /home/icaro/.pyenv/versions/3.7.3/lib/python3.7/site-packages (from importlib-metadata>=0.20; python_version < \"3.8\"->catalogue<1.1.0,>=0.0.7->spacy>=2.2.2->texthero) (3.1.0)\n",
      "Requirement already satisfied: docutils<0.16,>=0.10 in /home/icaro/.pyenv/versions/3.7.3/lib/python3.7/site-packages (from botocore<1.18.0,>=1.17.23->boto3->smart-open>=1.8.1->gensim>=3.6.0->texthero) (0.15.2)\n"
     ]
    },
    {
     "name": "stdout",
     "output_type": "stream",
     "text": [
      "Requirement already satisfied: nltk in /home/icaro/.pyenv/versions/3.7.3/lib/python3.7/site-packages (3.5)\n",
      "Requirement already satisfied: tqdm in /home/icaro/.pyenv/versions/3.7.3/lib/python3.7/site-packages (from nltk) (4.46.1)\n",
      "Requirement already satisfied: joblib in /home/icaro/.pyenv/versions/3.7.3/lib/python3.7/site-packages (from nltk) (0.15.1)\n",
      "Requirement already satisfied: click in /home/icaro/.pyenv/versions/3.7.3/lib/python3.7/site-packages (from nltk) (7.1.2)\n",
      "Requirement already satisfied: regex in /home/icaro/.pyenv/versions/3.7.3/lib/python3.7/site-packages (from nltk) (2020.6.8)\n",
      "Collecting sklearn\n",
      "  Using cached sklearn-0.0.tar.gz (1.1 kB)\n",
      "Requirement already satisfied: scikit-learn in /home/icaro/.pyenv/versions/3.7.3/lib/python3.7/site-packages (from sklearn) (0.23.1)\n",
      "Requirement already satisfied: threadpoolctl>=2.0.0 in /home/icaro/.pyenv/versions/3.7.3/lib/python3.7/site-packages (from scikit-learn->sklearn) (2.1.0)\n",
      "Requirement already satisfied: joblib>=0.11 in /home/icaro/.pyenv/versions/3.7.3/lib/python3.7/site-packages (from scikit-learn->sklearn) (0.15.1)\n",
      "Requirement already satisfied: scipy>=0.19.1 in /home/icaro/.pyenv/versions/3.7.3/lib/python3.7/site-packages (from scikit-learn->sklearn) (1.4.1)\n",
      "Requirement already satisfied: numpy>=1.13.3 in /home/icaro/.pyenv/versions/3.7.3/lib/python3.7/site-packages (from scikit-learn->sklearn) (1.18.5)\n",
      "Building wheels for collected packages: sklearn\n",
      "  Building wheel for sklearn (setup.py) ... \u001b[?25ldone\n",
      "\u001b[?25h  Created wheel for sklearn: filename=sklearn-0.0-py2.py3-none-any.whl size=1315 sha256=8af4c8b9e3e6ecd9548b79d553ec0fcf99b8a44ed5b85391e81df6bd32ed3f38\n",
      "  Stored in directory: /home/icaro/.cache/pip/wheels/46/ef/c3/157e41f5ee1372d1be90b09f74f82b10e391eaacca8f22d33e\n",
      "Successfully built sklearn\n",
      "Installing collected packages: sklearn\n",
      "Successfully installed sklearn-0.0\n"
     ]
    }
   ],
   "source": [
    "import sys\n",
    "!{sys.executable} -m pip install --upgrade pip\n",
    "!{sys.executable} -m pip install pandas\n",
    "!{sys.executable} -m pip install numpy\n",
    "!{sys.executable} -m pip install texthero \n",
    "!{sys.executable} -m pip install nltk\n",
    "!{sys.executable} -m pip install sklearn"
   ]
  },
  {
   "cell_type": "code",
   "execution_count": 753,
   "metadata": {},
   "outputs": [],
   "source": [
    "import pandas as pd\n",
    "import texthero as hero\n",
    "import nltk\n",
    "from nltk.corpus import stopwords\n",
    "import numpy as np\n",
    "# nltk.download()"
   ]
  },
  {
   "cell_type": "markdown",
   "metadata": {},
   "source": [
    "## Pré-processamento"
   ]
  },
  {
   "cell_type": "code",
   "execution_count": 754,
   "metadata": {},
   "outputs": [],
   "source": [
    "DROPLIST_FILENAME='droplist.0.2.0.txt'\n",
    "MODEL_FILENAME='model_v0.2.0.json'\n",
    "DATASET_FILENAME='reviews_v9.csv'"
   ]
  },
  {
   "cell_type": "code",
   "execution_count": 755,
   "metadata": {},
   "outputs": [],
   "source": [
    "def pre_process(df_path, df_cols):\n",
    "    df = pd.read_csv(df_path, index_col=False, usecols=df_cols)\n",
    "    df = df[df['is_classified']==True]\n",
    "    df = df.rename(columns={'Text': 'text'})\n",
    "    df['text'] = hero.preprocessing.clean(df['text'])\n",
    "    pt_stopwords = stopwords.words('portuguese')\n",
    "    df['text'] = hero.remove_stopwords(df['text'], stopwords=pt_stopwords)\n",
    "    df['text'] = hero.stem(df['text'], language='portuguese')\n",
    "    df['text'] = hero.tokenize(df['text'])\n",
    "    df['class_name'] = df.apply(lambda row: 'usability' if row['is_usability'] else 'not_usability', axis=1)\n",
    "    df = df.drop('is_usability', 1)\n",
    "    df = df.to_dict('records')\n",
    "    return df    "
   ]
  },
  {
   "cell_type": "code",
   "execution_count": 756,
   "metadata": {},
   "outputs": [],
   "source": [
    "def split_train_test(df, train_size):\n",
    "    \n",
    "    df_usa = [item for item in df if item['class_name'] == 'usability']\n",
    "    df_not_usa = [item for item in df if item not in df_usa]\n",
    "    \n",
    "    train_usa, test_usa = np.split(df_usa, [int(len(df_usa)*train_size)])\n",
    "    train_not_usa, test_not_usa = np.split(df_not_usa, [int(len(df_not_usa)*train_size)])\n",
    "    \n",
    "    return np.concatenate([train_usa,train_not_usa]), np.concatenate([test_usa,test_not_usa])"
   ]
  },
  {
   "cell_type": "code",
   "execution_count": 757,
   "metadata": {},
   "outputs": [],
   "source": [
    "df = pre_process(DATASET_FILENAME, ['ID', 'Text', 'is_usability', 'is_classified'])\n",
    "train_dataset, test_dataset = split_train_test(df, train_size=0.7)"
   ]
  },
  {
   "cell_type": "code",
   "execution_count": 758,
   "metadata": {},
   "outputs": [
    {
     "name": "stdout",
     "output_type": "stream",
     "text": [
      "train: 650 test: 280\n"
     ]
    }
   ],
   "source": [
    "print(f'train: {len(train_dataset)} test: {len(test_dataset)}')"
   ]
  },
  {
   "cell_type": "code",
   "execution_count": 759,
   "metadata": {},
   "outputs": [
    {
     "name": "stdout",
     "output_type": "stream",
     "text": [
      "[info] total usability train data 497\n",
      "[info] total not_usability train data 153\n",
      "[info] total usability test data 214\n",
      "[info] total not_usability test data 66\n"
     ]
    }
   ],
   "source": [
    "print(f'[info] total usability train data {sum(value[\"class_name\"] == \"usability\" for value in train_dataset)}')\n",
    "print(f'[info] total not_usability train data {sum(value[\"class_name\"] == \"not_usability\" for value in train_dataset)}')\n",
    "print(f'[info] total usability test data {sum(value[\"class_name\"] == \"usability\" for value in test_dataset)}')\n",
    "print(f'[info] total not_usability test data {sum(value[\"class_name\"] == \"not_usability\" for value in test_dataset)}')"
   ]
  },
  {
   "cell_type": "markdown",
   "metadata": {},
   "source": [
    "## Classificador"
   ]
  },
  {
   "cell_type": "code",
   "execution_count": 760,
   "metadata": {},
   "outputs": [],
   "source": [
    "def train(training_data):\n",
    "    corpus_words = {}\n",
    "    for data in training_data: \n",
    "        class_name = data['class_name']\n",
    "        frase = data['text']\n",
    "        if class_name not in list(corpus_words.keys()):\n",
    "            corpus_words[class_name] = {}\n",
    "        for word in frase:\n",
    "            if word not in list(corpus_words[class_name].keys()):\n",
    "                corpus_words[class_name][word] = 1\n",
    "            else:\n",
    "                corpus_words[class_name][word] += 1\n",
    "    return corpus_words"
   ]
  },
  {
   "cell_type": "code",
   "execution_count": 761,
   "metadata": {},
   "outputs": [],
   "source": [
    "def drop_low_score(corpus_words, min_value, by_key):\n",
    "    fitered_dict = {}\n",
    "    for k in corpus.keys():\n",
    "        if by_key:\n",
    "            if k == by_key:\n",
    "                fitered_dict.update({k: { key:value for (key,value) in corpus[k].items() if value > min_value }})\n",
    "            else:\n",
    "                fitered_dict.update({k: { key:value for (key,value) in corpus[k].items() }})\n",
    "        else:\n",
    "            fitered_dict.update({k: { key:value for (key,value) in corpus[k].items() if value > min_value }})\n",
    "    return fitered_dict"
   ]
  },
  {
   "cell_type": "code",
   "execution_count": 762,
   "metadata": {},
   "outputs": [],
   "source": [
    "def classificate(corpus, sentence):\n",
    "    def calculate_class_score(corpus_words, sentence, class_name):\n",
    "        score = 0 \n",
    "        for word in sentence:\n",
    "            if word in corpus_words[class_name]:\n",
    "                score += corpus_words[class_name][word]\n",
    "        return score\n",
    "    classifications = []\n",
    "    for class_name in corpus.keys():\n",
    "        classifications.append({'class_name': class_name, 'score': calculate_class_score(corpus, sentence, class_name)})    \n",
    "    return classifications"
   ]
  },
  {
   "cell_type": "code",
   "execution_count": 763,
   "metadata": {},
   "outputs": [],
   "source": [
    "def normalize_scores(classification):\n",
    "    total_score = sum(score['score'] for score in classification['scores'])\n",
    "    if total_score != 0:\n",
    "        for score in classification['scores']:\n",
    "            score['score'] = score['score']/total_score\n",
    "    return classification"
   ]
  },
  {
   "cell_type": "code",
   "execution_count": 764,
   "metadata": {},
   "outputs": [],
   "source": [
    "def boost_score_targets(corpus, targets, boost_val):\n",
    "    boosted_dict = {}\n",
    "    for k in corpus.keys():\n",
    "        if k in targets:\n",
    "            boosted_dict.update({k: { key:value*boost_val for (key,value) in corpus[k].items() }})\n",
    "        else:\n",
    "            boosted_dict.update({k: { key:value for (key,value) in corpus[k].items() }})\n",
    "    return boosted_dict"
   ]
  },
  {
   "cell_type": "code",
   "execution_count": 765,
   "metadata": {},
   "outputs": [],
   "source": [
    "def get_accuracy(classifications):\n",
    "    accuracies = {\n",
    "        'usability': 0,\n",
    "        'not_usability': 0,\n",
    "        'draws': 0\n",
    "    }\n",
    "    class_usa = []\n",
    "    for classification in classifications:\n",
    "        scores = [item['score'] for item in classification['scores']]\n",
    "        is_draw = len(set(scores)) == 1\n",
    "        if is_draw:\n",
    "            accuracies['draws'] +=1\n",
    "            continue\n",
    "        highest_score = max(classification['scores'], key=lambda x:x['score'])\n",
    "        is_draw = False\n",
    "        if classification['test_data']['class_name'] == highest_score['class_name']:\n",
    "            accuracies[highest_score['class_name']] += 1\n",
    "            if(classification['test_data']['class_name']=='usability'):\n",
    "                class_usa.append(classification)\n",
    "        else:\n",
    "            if(classification['test_data']['class_name']=='not_usability'):\n",
    "                print(classification)\n",
    "    return accuracies, class_usa"
   ]
  },
  {
   "cell_type": "code",
   "execution_count": 766,
   "metadata": {},
   "outputs": [],
   "source": [
    "def drop_unwanted_words(corpus, droplist):\n",
    "    filtered_dict = {}\n",
    "    for k in corpus.keys():\n",
    "        filtered_dict.update({k: { key:value for (key,value) in corpus[k].items() if key not in droplist }})\n",
    "    return filtered_dict"
   ]
  },
  {
   "cell_type": "code",
   "execution_count": 767,
   "metadata": {},
   "outputs": [],
   "source": [
    "droplist = open(DROPLIST_FILENAME).read().splitlines()\n",
    "corpus = train(train_dataset)\n",
    "# corpus = drop_low_score(corpus, 10, 'usability') # magic number\n",
    "# corpus = drop_low_score(corpus, 10, 'not_usability') # magic number\n",
    "# corpus = drop_unwanted_words(corpus, droplist)\n",
    "corpus = boost_score_targets(corpus, ['usability'], 1) # magic number\n",
    "corpus = boost_score_targets(corpus, ['not_usability'], 20) # magic number"
   ]
  },
  {
   "cell_type": "code",
   "execution_count": 768,
   "metadata": {},
   "outputs": [
    {
     "name": "stdout",
     "output_type": "stream",
     "text": [
      " total words for usability: 820 \n",
      " total words for not_usability: 91 \n"
     ]
    }
   ],
   "source": [
    "for key in corpus.keys():\n",
    "    print(f' total words for {key}: {len(corpus[key].keys())} ')"
   ]
  },
  {
   "cell_type": "code",
   "execution_count": 769,
   "metadata": {},
   "outputs": [],
   "source": [
    "classifications = [{'test_data': test_data, 'scores': classificate(corpus, test_data['text'])} for test_data in test_dataset]\n",
    "classifications = [normalize_scores(classification) for classification in classifications]"
   ]
  },
  {
   "cell_type": "code",
   "execution_count": 770,
   "metadata": {},
   "outputs": [
    {
     "name": "stdout",
     "output_type": "stream",
     "text": [
      "{'test_data': {'ID': 'gp:AOqpTOEmhvarDkCoCfNQu-lfNPAwf4Z5TsoSTiYAy7g-5EMe5jZRiy8J5K1RgZONAqQfaBlrkzxAxjVGbN097Q', 'text': ['claudi', 'faustin', 'silv'], 'is_classified': True, 'class_name': 'not_usability'}, 'scores': [{'class_name': 'usability', 'score': 1.0}, {'class_name': 'not_usability', 'score': 0.0}]}\n",
      "{'test_data': {'ID': 'gp:AOqpTOGtFeGleSuBGO7J2-LkfApYVTCwreQ6DFYzcHvM2nJrAdKkzqssyd2_9UaoUKLq69MP5cI4bk3J06xTig', 'text': ['complic', 'afff'], 'is_classified': True, 'class_name': 'not_usability'}, 'scores': [{'class_name': 'usability', 'score': 1.0}, {'class_name': 'not_usability', 'score': 0.0}]}\n",
      "{'test_data': {'ID': 'gp:AOqpTOEsw_yh3duqNyisljbcST0EAWAy4V9dDjBa0nXUe-M2yFgwdoZO70s8CBJwndG2m1mEjqNC9gcQqLU74g', 'text': ['nao', 'consegu', 'cadastr'], 'is_classified': True, 'class_name': 'not_usability'}, 'scores': [{'class_name': 'usability', 'score': 0.8366394399066511}, {'class_name': 'not_usability', 'score': 0.1633605600933489}]}\n",
      "{'test_data': {'ID': 'gp:AOqpTOEqtzZDbJr2ZjY2WGOhiQ0dHrGH8CX7YlgquUazJZJe-DQQyBfUGCEA1T9RBSnxyNfLQyvOC7sZ2Rlckg', 'text': ['vou', 'test', 'dou'], 'is_classified': True, 'class_name': 'not_usability'}, 'scores': [{'class_name': 'usability', 'score': 0.5121951219512195}, {'class_name': 'not_usability', 'score': 0.4878048780487805}]}\n",
      "{'test_data': {'ID': 'gp:AOqpTOFX_3jV_5DLLTAR8GTNKAT9l0qCvkZx-_UTGPf_5FkHIWlV7fy_x_dfFbA9XnMU-qgxqgov2PYFRyu1Ww', 'text': ['lixa', 'nao', 'prest', 'app'], 'is_classified': True, 'class_name': 'not_usability'}, 'scores': [{'class_name': 'usability', 'score': 0.7139451728247914}, {'class_name': 'not_usability', 'score': 0.2860548271752086}]}\n",
      "{'test_data': {'ID': 'gp:AOqpTOGzqe20CFRVeaOXtAYE7xcEoirFYiGkmRZsSoNcqvQOCYLmnGv6avZM9AmtY5GUbMZzGFm2JKIoy_cSYw', 'text': ['quer', 'tir', 'carteir', 'trabalh'], 'is_classified': True, 'class_name': 'not_usability'}, 'scores': [{'class_name': 'usability', 'score': 1.0}, {'class_name': 'not_usability', 'score': 0.0}]}\n",
      "{'test_data': {'ID': 'gp:AOqpTOGaLOZOvWlaJ2FRprAF2pBvJSXJcrxrtG0HHQBBkyCRufHlhFULRnD0ha11TcGDP88JQToZ_F67Et1IhQ', 'text': ['nao', 'porqu', 'impossivel'], 'is_classified': True, 'class_name': 'not_usability'}, 'scores': [{'class_name': 'usability', 'score': 0.8198198198198198}, {'class_name': 'not_usability', 'score': 0.18018018018018017}]}\n",
      "{'test_data': {'ID': 'gp:AOqpTOHSxqkQd3cR2YrF-R7VYiIpx8ylZSvdQEyg_l513x4TjVoVyX6n9HgE4JPhLBXFhqwZ0I3j7hAa5O6yLw', 'text': ['primeir', 'vez', 'particip'], 'is_classified': True, 'class_name': 'not_usability'}, 'scores': [{'class_name': 'usability', 'score': 1.0}, {'class_name': 'not_usability', 'score': 0.0}]}\n",
      "{'test_data': {'ID': 'gp:AOqpTOHvNjE3NZpxNwJbKPHL5r965IMXtq40C2D_KxsgEc0XTEG4nIu_Unbo6w1RPWbn-a9C6GOt7XttWwc-fQ', 'text': ['recom', 'fcilidad', 'uso'], 'is_classified': True, 'class_name': 'not_usability'}, 'scores': [{'class_name': 'usability', 'score': 1.0}, {'class_name': 'not_usability', 'score': 0.0}]}\n",
      "{'test_data': {'ID': 'gp:AOqpTOFZIazhcsvkm63kIwysVutfK5qm3rO1guBsjGBhgPlJyvqNhduJxVH8OLejA6-ulR-0s1qLHGi7BNW4KA', 'text': ['pior', 'nao', 'fic', 'esper', '[?]'], 'is_classified': True, 'class_name': 'not_usability'}, 'scores': [{'class_name': 'usability', 'score': 0.8230088495575221}, {'class_name': 'not_usability', 'score': 0.17699115044247787}]}\n",
      "{'test_data': {'ID': 'gp:AOqpTOEjTY7qu7VvbViAAMs0ynhX1DkpiVLmUdI3IA2v8KJBavcHPMXd577XM9DCk3FQuDK2xN8rAIDn4Qq_AA', 'text': ['cadastr', 'segur', 'desempreg'], 'is_classified': True, 'class_name': 'not_usability'}, 'scores': [{'class_name': 'usability', 'score': 0.8048780487804879}, {'class_name': 'not_usability', 'score': 0.1951219512195122}]}\n",
      "{'test_data': {'ID': 'gp:AOqpTOFtaMEuExrjLNOrpdPhu12mDNfgUy9KZCs8xqaS3MY50lUOaxb7H0mwTRbQqEIL5qRBpSqIUs59OhDm9A', 'text': ['acess', 'primeir', 'vez'], 'is_classified': True, 'class_name': 'not_usability'}, 'scores': [{'class_name': 'usability', 'score': 0.7101449275362319}, {'class_name': 'not_usability', 'score': 0.2898550724637681}]}\n",
      "{'test_data': {'ID': 'gp:AOqpTOHLkR9CITLRA0hewivXEsfSuC5k7LYlxlgBWCdqTnn6h1KyIYrF05HsMqT6gn8_MSrf-926pouXbDtOFg', 'text': ['aplic', 'merec', 'estrel'], 'is_classified': True, 'class_name': 'not_usability'}, 'scores': [{'class_name': 'usability', 'score': 0.7894736842105263}, {'class_name': 'not_usability', 'score': 0.21052631578947367}]}\n",
      "{'test_data': {'ID': 'gp:AOqpTOEEGLjGV-OcR_EFGDCrfdeLLcB_xRxbeFUUUJ1RITHIK8AB--A0HmnmDqwBygqNMUlFts-AUFX7AYQXnw', 'text': ['aplic', 'precis', 'ser', 'melhor'], 'is_classified': True, 'class_name': 'not_usability'}, 'scores': [{'class_name': 'usability', 'score': 0.6571428571428571}, {'class_name': 'not_usability', 'score': 0.34285714285714286}]}\n",
      "{'test_data': {'ID': 'gp:AOqpTOGfaSA0KubAN-HYxvdY1sZoNp7IKXxYGtorbOWLp-kf-xfcAB46ogSFSRx8YYf3ycco25XsChi6qwgqdQ', 'text': ['total', 'sent', 'ness', 'moment'], 'is_classified': True, 'class_name': 'not_usability'}, 'scores': [{'class_name': 'usability', 'score': 1.0}, {'class_name': 'not_usability', 'score': 0.0}]}\n",
      "{'test_data': {'ID': 'gp:AOqpTOGwNYK49SiPNb5_6L-ENj_h5cWUFw61osWNbuXNDushFa5mQk59WYzPYeX5XRLCENLaEIt1RP4DuJaR2Q', 'text': ['nao', 'abaix', 'pior', 'aplic', 'exist'], 'is_classified': True, 'class_name': 'not_usability'}, 'scores': [{'class_name': 'usability', 'score': 0.8125836680053548}, {'class_name': 'not_usability', 'score': 0.18741633199464525}]}\n",
      "{'test_data': {'ID': 'gp:AOqpTOEOiMhF-S9R5G7cCiWBJAHuMGO2UTAc6pfgah6nJngOdjma_pYYEnp5-SfEiR_zEcldeKicDEY83fVhTQ', 'text': ['pessim', 'app', 'nao', 'ajud', 'ajud', 'nad'], 'is_classified': True, 'class_name': 'not_usability'}, 'scores': [{'class_name': 'usability', 'score': 0.563581640331076}, {'class_name': 'not_usability', 'score': 0.436418359668924}]}\n",
      "{'test_data': {'ID': 'gp:AOqpTOEeR77Gc-rwa5ZeJ3PMxbipAl3xPxfg4RDaZIIMR2QNf8KteaLGHPYWsBIgxyDowuVrWWGFi1Wu75SBlw', 'text': ['frald', 'algu', 'quer', 'peg', 'dad', 'pesso'], 'is_classified': True, 'class_name': 'not_usability'}, 'scores': [{'class_name': 'usability', 'score': 1.0}, {'class_name': 'not_usability', 'score': 0.0}]}\n",
      "{'test_data': {'ID': 'gp:AOqpTOHZA5qyMXaBEw3nJoX-2TTv1XGEQWa8AqqnC05batC0vrvBIBUEphfW1U1yOd9rgmf1pzvDUSMhLgFE3g', 'text': ['horrivel', 'app', 'perd', 'temp', 'nao', 'merec', 'estrel'], 'is_classified': True, 'class_name': 'not_usability'}, 'scores': [{'class_name': 'usability', 'score': 0.624765478424015}, {'class_name': 'not_usability', 'score': 0.37523452157598497}]}\n",
      "{'test_data': {'ID': 'gp:AOqpTOEIogBvGRveqNSKLDsVL9BvcsfblD5kM0R6buSjh7FyqLObwRdGcXSwr9gbmzBiMpVQ6JsELpRn1xB3Ag', 'text': ['app', 'ridicul', 'ja', 'vi', 'apps', 'ruins', 'super'], 'is_classified': True, 'class_name': 'not_usability'}, 'scores': [{'class_name': 'usability', 'score': 0.5698924731182796}, {'class_name': 'not_usability', 'score': 0.43010752688172044}]}\n",
      "{'test_data': {'ID': 'gp:AOqpTOGSi2CcVIY9gmnT4jrP3Miv1TRsHVu-Qum00PQqWtUzzsyV2wl4d-I2Lsr5m2WXTNtpRdo1BHO0Twrfrg', 'text': ['pior', 'lix', 'cham', 'aplic', 'ja', 'exist', 'nao', 'val'], 'is_classified': True, 'class_name': 'not_usability'}, 'scores': [{'class_name': 'usability', 'score': 0.7465681098204857}, {'class_name': 'not_usability', 'score': 0.25343189017951423}]}\n",
      "{'test_data': {'ID': 'gp:AOqpTOEjhRufV_TbyyfRKcaiPWWlCNOqXCYwCqFI4FOG-mPxmuTuT1UFoiXeD3sbRB2WKkvVu6-N1gBA73dsIA', 'text': ['govern', 'super', 'faz', 'aplic', 'ruim', 'nao', 'acert'], 'is_classified': True, 'class_name': 'not_usability'}, 'scores': [{'class_name': 'usability', 'score': 0.6245733788395904}, {'class_name': 'not_usability', 'score': 0.37542662116040953}]}\n",
      "{'test_data': {'ID': 'gp:AOqpTOHhhSiqR63yjImrK2Jxda0YjDX0Jpuo_ytd5lW7HYIf7PlEaE8yoSh1i8qOp1CFFWhByzS-eYijRW_Daw', 'text': ['fiz', 'validaca', 'facial', 'pois', 'cnh', 'digital', 'espetacul'], 'is_classified': True, 'class_name': 'not_usability'}, 'scores': [{'class_name': 'usability', 'score': 1.0}, {'class_name': 'not_usability', 'score': 0.0}]}\n",
      "{'test_data': {'ID': 'gp:AOqpTOHo6Cp4tYReoE6ZFzNfm0-5ceWx9RmaCFhDxrRREtv0uydqVcMLLK8xW1GSFXrUK5LYLjVfka2g7MkS4w', 'text': ['gost', 'cad', 'dia', 'atecnolog', 'estar', 'aprxim', 'gov', 'populaca'], 'is_classified': True, 'class_name': 'not_usability'}, 'scores': [{'class_name': 'usability', 'score': 0.5918367346938775}, {'class_name': 'not_usability', 'score': 0.40816326530612246}]}\n",
      "{'test_data': {'ID': 'gp:AOqpTOGS1vAfX8t1F5_nfAqdJbUOgx1q10VpCjbwZh0uoHSO5Szm2sfTDXMi-saEes3diZT0pyAG5no6Q3fZzw', 'text': ['aplic', 'desgrac', 'ser', 'exclu', 'dest', 'loj'], 'is_classified': True, 'class_name': 'not_usability'}, 'scores': [{'class_name': 'usability', 'score': 0.7122302158273381}, {'class_name': 'not_usability', 'score': 0.28776978417266186}]}\n",
      "{'test_data': {'ID': 'gp:AOqpTOEjpMpGYgSNkNenG1AF-pf7dL25BEF_kH5vRc7128BSksCJYdzwkUNphSNU1K1kF6ltnJrJXspVs_ZwXQ', 'text': ['aplic', 'sod', 'cert', 'nao', 'precis', 'ai', 'abre', 'rap', 'aprov'], 'is_classified': True, 'class_name': 'not_usability'}, 'scores': [{'class_name': 'usability', 'score': 0.7621878715814506}, {'class_name': 'not_usability', 'score': 0.23781212841854935}]}\n",
      "{'test_data': {'ID': 'gp:AOqpTOHsBth3qOZmrPE_dotliVWjDvZqK13ZLdXFslMmevibka2XkFKuh9EYJJSg5L8UDVlm11oLDVRhHdzDDg', 'text': ['sempr', 'aplic', 'trabalh', 'vez', 'resolv', 'problem'], 'is_classified': True, 'class_name': 'not_usability'}, 'scores': [{'class_name': 'usability', 'score': 0.8601398601398601}, {'class_name': 'not_usability', 'score': 0.13986013986013987}]}\n",
      "{'test_data': {'ID': 'gp:AOqpTOE76SwAgHK9UOQbhmsgk0mTu4TDdOei5ZjIqYvCNWCwBhAvJLesZfFXE57SPkBEfpET-yfVhjj2vxSKRg', 'text': ['bem', 'pens', 'pessim', 'execut', 'geit', 'nao', 'serv', 'pra', 'nad'], 'is_classified': True, 'class_name': 'not_usability'}, 'scores': [{'class_name': 'usability', 'score': 0.5695618754803997}, {'class_name': 'not_usability', 'score': 0.4304381245196003}]}\n",
      "{'test_data': {'ID': 'gp:AOqpTOFfUocGBw2J5YSTYmklg9dCVLPIPIwE2WIlJU0EmFJJe1XEIUoFMYavVomvA2hLAim2lc2moJ1iCdyRtg', 'text': ['precis', 'voc', 'concert', 'porqu', 'absurd', 'pra', 'estud'], 'is_classified': True, 'class_name': 'not_usability'}, 'scores': [{'class_name': 'usability', 'score': 0.7777777777777778}, {'class_name': 'not_usability', 'score': 0.2222222222222222}]}\n",
      "{'test_data': {'ID': 'gp:AOqpTOEKcZriJuY69sRWl_7uN9qzf6fyPRuDJ4in-kosXkOObMgn7Yh6L9dNbI1wDI4ZoqX1uLW88rBlo3Llpw', 'text': ['gost', 'tant', 'baix', 'pra', 'redefin', 'senh', 'funcion', 'nad', 'reclam'], 'is_classified': True, 'class_name': 'not_usability'}, 'scores': [{'class_name': 'usability', 'score': 0.803921568627451}, {'class_name': 'not_usability', 'score': 0.19607843137254902}]}\n",
      "{'test_data': {'ID': 'gp:AOqpTOFY3fsUzd3ZdKQilLkhh7qOpjsFKZPN9ZYUp8ifwWfn5K2DNs2y7mP8n_5OeHAmnvLWZxAYMItDFf09BA', 'text': ['inic', 'import', 'acess', 'servic', 'digit', 'facilit', 'desburocratiz'], 'is_classified': True, 'class_name': 'not_usability'}, 'scores': [{'class_name': 'usability', 'score': 0.5675675675675675}, {'class_name': 'not_usability', 'score': 0.43243243243243246}]}\n",
      "{'test_data': {'ID': 'gp:AOqpTOFxwACCgoU8jGF5nDIXQE3Oh09qMkafPugR7FZKq9CfZHUJxy8jm0J39uqo8poGZ6UEnqK-Rfx2PHLPmQ', 'text': ['apric', 'aind', 'ta', 'test', 'previst', 'dezembr', 'vai', 'ser', 'util', 'tud', 'gov', 'vai', 'ser', 'nel'], 'is_classified': True, 'class_name': 'not_usability'}, 'scores': [{'class_name': 'usability', 'score': 0.5098039215686274}, {'class_name': 'not_usability', 'score': 0.49019607843137253}]}\n",
      "{'test_data': {'ID': 'gp:AOqpTOHk7i1lmPcGqrGwvWZnLvq8ldSTsHxbL5CFd81-cRlWxJwURyXD9Sx86BwZyW6kIiRYTXWo2pAYxM0aPA', 'text': ['promess', 'burrocrac', 'app', 'funcion', 'restant', 'dinheir', 'contribuint', 'jog'], 'is_classified': True, 'class_name': 'not_usability'}, 'scores': [{'class_name': 'usability', 'score': 0.5172413793103449}, {'class_name': 'not_usability', 'score': 0.4827586206896552}]}\n",
      "{'test_data': {'ID': 'gp:AOqpTOFXa8P90T0yVYMxQAR04Dn1RtinEAFdDfg1Lc2zmOtVIszvB1VN18TynWMZdR6po-KBxxQcMKvRnBBpag', 'text': ['aplic', 'horivel', 'igual', 'tod', 'tip', 'benefici', 'oferec', 'populaca', 'nao', 'dou', 'zer', 'estrel', 'pq', 'nao'], 'is_classified': True, 'class_name': 'not_usability'}, 'scores': [{'class_name': 'usability', 'score': 0.8048780487804879}, {'class_name': 'not_usability', 'score': 0.1951219512195122}]}\n",
      "{'test_data': {'ID': 'gp:AOqpTOGRWPHtuDPSDDA4jKwxkaDDg-dk_hfBxaXbtAg_229uQt05vAoU2Cp5ZjZ0s5eurCaSlQkbJUuEqyv31w', 'text': ['lix', 'dinheir', 'populaca', 'pass', 'mao', 'objet', 'clar', 'faz', 'algo', 'nao', 'serv', 'pra', 'nad', 'ludibri', 'populaca'], 'is_classified': True, 'class_name': 'not_usability'}, 'scores': [{'class_name': 'usability', 'score': 0.726027397260274}, {'class_name': 'not_usability', 'score': 0.273972602739726}]}\n",
      "{'test_data': {'ID': 'gp:AOqpTOE370HK4ezXvbTjsBNL-mC61Z_8d_HDYY08s11Huy7uQ1CeucpOc7GNT0zR8PSRZFeAAnpoKVNpIq6xeQ', 'text': ['excelent', 'baix', 'app', 'recuper', 'senh', 'ppr', 'leitur', 'facial', 'deu', 'cert', 'resolv', 'problem', 'facil', 'usar', 'recom'], 'is_classified': True, 'class_name': 'not_usability'}, 'scores': [{'class_name': 'usability', 'score': 0.6571428571428571}, {'class_name': 'not_usability', 'score': 0.34285714285714286}]}\n",
      "{'test_data': {'ID': 'gp:AOqpTOGAz_GgftcZsRIBgBLSpwGibeEMJCErgu8lvyYgmFViFo4x7sXqlJhSOaeHIutTkzf4STwPgS79fxxH5g', 'text': ['coloc', 'estrel', 'pra', 'pod', 'coment', 'app', 'referenc', 'nov', 'ordem', 'mundial', 'chip', 'gad', 'estud', 'sobr', 'asunt', 'nao', 'ment', 'nao', 'aprofund', 'estud'], 'is_classified': True, 'class_name': 'not_usability'}, 'scores': [{'class_name': 'usability', 'score': 0.7510373443983402}, {'class_name': 'not_usability', 'score': 0.24896265560165975}]}\n",
      "{'test_data': {'ID': 'gp:AOqpTOG_wmvP6n3lzwIQlMTngAFuY0uarNTZKcOeknJ06as3GD9tko6DGmybXlAuEGOyKRvAbUNosl9WBiJFmg', 'text': ['tend', 'problem', 'cadastr', 'carteir', 'trabalh', 'digital', 'estar', 'const', 'cpf', 'cadastr', 'atrav', 'aplic', 'reconhec', 'facial', 'consegu', 'faz', 'cadastr'], 'is_classified': True, 'class_name': 'not_usability'}, 'scores': [{'class_name': 'usability', 'score': 0.9575821845174973}, {'class_name': 'not_usability', 'score': 0.042417815482502653}]}\n"
     ]
    }
   ],
   "source": [
    "accuracy, cls_usa = get_accuracy(classifications)"
   ]
  },
  {
   "cell_type": "code",
   "execution_count": 771,
   "metadata": {},
   "outputs": [
    {
     "name": "stdout",
     "output_type": "stream",
     "text": [
      "Right answers Usability: 213 of 214 (0.9953271028037384)\n",
      "Right answers Not Usability: 25 of 66 (0.3787878787878788)\n",
      "Draws: 3\n"
     ]
    }
   ],
   "source": [
    "print(f'Right answers Usability: {accuracy[\"usability\"]} of {len([data for data in test_dataset if data[\"class_name\"]==\"usability\"])} ({accuracy[\"usability\"]/len([data for data in test_dataset if data[\"class_name\"]==\"usability\"])})')\n",
    "print(f'Right answers Not Usability: {accuracy[\"not_usability\"]} of {len([data for data in test_dataset if data[\"class_name\"]==\"not_usability\"])} ({accuracy[\"not_usability\"]/len([data for data in test_dataset if data[\"class_name\"]==\"not_usability\"])})')\n",
    "print(f'Draws: {accuracy[\"draws\"]}')"
   ]
  },
  {
   "cell_type": "code",
   "execution_count": 772,
   "metadata": {},
   "outputs": [
    {
     "name": "stdout",
     "output_type": "stream",
     "text": [
      "{'test_data': {'ID': 'gp:AOqpTOEUCSHVdGKLJoAOML9wZpHzkD0A8Xavn9KPgidxzcGilmD8CjyuT35NYKiIQa2nk-sKYzCbu0qJsVE6dg', 'text': ['nao', 'boa'], 'is_classified': True, 'class_name': 'not_usability'}, 'scores': [{'class_name': 'usability', 'score': 0.7245179063360881}, {'class_name': 'not_usability', 'score': 0.27548209366391185}]}\n",
      "{'test_data': {'ID': 'gp:AOqpTOGycTCJ9fSb3Flzi-E7KWoPeWpGhoH03kkRc5XNaa7YurpjLwVNyp-OvJPjM_QLkhaVe_nnK0DCaQR46w', 'text': ['funcion'], 'is_classified': True, 'class_name': 'not_usability'}, 'scores': [{'class_name': 'usability', 'score': 0.7802197802197802}, {'class_name': 'not_usability', 'score': 0.21978021978021978}]}\n",
      "{'test_data': {'ID': 'gp:AOqpTOGyXTwzF9TQXXZPQOgXid8XoG2-tMi_SkEb2xyJutEd0JquYxnC6YJqxBtOPMo-1AFaQtpJYkb8yE055Q', 'text': ['nao', 'consegu', 'entrar'], 'is_classified': True, 'class_name': 'not_usability'}, 'scores': [{'class_name': 'usability', 'score': 0.7886393659180978}, {'class_name': 'not_usability', 'score': 0.21136063408190225}]}\n",
      "{'test_data': {'ID': 'gp:AOqpTOFgwwe6S-sYI6whuPRba1iJCjy3oxyQyJuvEpHygPM2je5gAVHky7ysnIU18jiq121xE4OBk_5Xa5QEcw', 'text': ['nao', 'consig', 'acess'], 'is_classified': True, 'class_name': 'not_usability'}, 'scores': [{'class_name': 'usability', 'score': 0.7894736842105263}, {'class_name': 'not_usability', 'score': 0.21052631578947367}]}\n",
      "{'test_data': {'ID': 'gp:AOqpTOFyJvai8TkvQ3WkYYuOxR7kQk-HEVEMCfYLhIpFUtWfevUNLzn6v4-l8KDz8URi3VM1xHGv1D811S-u1w', 'text': ['nao', 'consig', 'acess'], 'is_classified': True, 'class_name': 'not_usability'}, 'scores': [{'class_name': 'usability', 'score': 0.7894736842105263}, {'class_name': 'not_usability', 'score': 0.21052631578947367}]}\n",
      "{'test_data': {'ID': 'gp:AOqpTOFtcP6nAZP1Vl-u1OIg2ip6EX1vR9_1BoPmD_nzI4rHcRBnmZrinaWbUNklxmy3pMjPmnVxNV9cjPgKOw', 'text': ['horrivel', 'nao', 'carreg'], 'is_classified': True, 'class_name': 'not_usability'}, 'scores': [{'class_name': 'usability', 'score': 0.6515679442508711}, {'class_name': 'not_usability', 'score': 0.34843205574912894}]}\n",
      "{'test_data': {'ID': 'gp:AOqpTOE0Uw4lWL8MatIOv5Hh4RG9mlq20uorKH-B_9Id_8xzVlFcEd4KeqD0qKDEbSe057rst4AnxmFW7l4RAw', 'text': ['nao', 'serv', 'nad'], 'is_classified': True, 'class_name': 'not_usability'}, 'scores': [{'class_name': 'usability', 'score': 0.782016348773842}, {'class_name': 'not_usability', 'score': 0.21798365122615804}]}\n",
      "{'test_data': {'ID': 'gp:AOqpTOHwznlfaqsm_S2dSTppnI9gEOxDYPWTTSJIvLyeKN6TV6jV73tRXldvWHtkGazQ0Q9TISq6iSXxdx2Ueg', 'text': ['import', 'pra', 'mim'], 'is_classified': True, 'class_name': 'not_usability'}, 'scores': [{'class_name': 'usability', 'score': 0.5348837209302325}, {'class_name': 'not_usability', 'score': 0.46511627906976744}]}\n",
      "{'test_data': {'ID': 'gp:AOqpTOEmhvarDkCoCfNQu-lfNPAwf4Z5TsoSTiYAy7g-5EMe5jZRiy8J5K1RgZONAqQfaBlrkzxAxjVGbN097Q', 'text': ['claudi', 'faustin', 'silv'], 'is_classified': True, 'class_name': 'not_usability'}, 'scores': [{'class_name': 'usability', 'score': 1.0}, {'class_name': 'not_usability', 'score': 0.0}]}\n",
      "{'test_data': {'ID': 'gp:AOqpTOGtFeGleSuBGO7J2-LkfApYVTCwreQ6DFYzcHvM2nJrAdKkzqssyd2_9UaoUKLq69MP5cI4bk3J06xTig', 'text': ['complic', 'afff'], 'is_classified': True, 'class_name': 'not_usability'}, 'scores': [{'class_name': 'usability', 'score': 1.0}, {'class_name': 'not_usability', 'score': 0.0}]}\n",
      "{'test_data': {'ID': 'gp:AOqpTOEsw_yh3duqNyisljbcST0EAWAy4V9dDjBa0nXUe-M2yFgwdoZO70s8CBJwndG2m1mEjqNC9gcQqLU74g', 'text': ['nao', 'consegu', 'cadastr'], 'is_classified': True, 'class_name': 'not_usability'}, 'scores': [{'class_name': 'usability', 'score': 0.8366394399066511}, {'class_name': 'not_usability', 'score': 0.1633605600933489}]}\n",
      "{'test_data': {'ID': 'gp:AOqpTOEqtzZDbJr2ZjY2WGOhiQ0dHrGH8CX7YlgquUazJZJe-DQQyBfUGCEA1T9RBSnxyNfLQyvOC7sZ2Rlckg', 'text': ['vou', 'test', 'dou'], 'is_classified': True, 'class_name': 'not_usability'}, 'scores': [{'class_name': 'usability', 'score': 0.5121951219512195}, {'class_name': 'not_usability', 'score': 0.4878048780487805}]}\n",
      "{'test_data': {'ID': 'gp:AOqpTOFX_3jV_5DLLTAR8GTNKAT9l0qCvkZx-_UTGPf_5FkHIWlV7fy_x_dfFbA9XnMU-qgxqgov2PYFRyu1Ww', 'text': ['lixa', 'nao', 'prest', 'app'], 'is_classified': True, 'class_name': 'not_usability'}, 'scores': [{'class_name': 'usability', 'score': 0.7139451728247914}, {'class_name': 'not_usability', 'score': 0.2860548271752086}]}\n",
      "{'test_data': {'ID': 'gp:AOqpTOGzqe20CFRVeaOXtAYE7xcEoirFYiGkmRZsSoNcqvQOCYLmnGv6avZM9AmtY5GUbMZzGFm2JKIoy_cSYw', 'text': ['quer', 'tir', 'carteir', 'trabalh'], 'is_classified': True, 'class_name': 'not_usability'}, 'scores': [{'class_name': 'usability', 'score': 1.0}, {'class_name': 'not_usability', 'score': 0.0}]}\n",
      "{'test_data': {'ID': 'gp:AOqpTOGaLOZOvWlaJ2FRprAF2pBvJSXJcrxrtG0HHQBBkyCRufHlhFULRnD0ha11TcGDP88JQToZ_F67Et1IhQ', 'text': ['nao', 'porqu', 'impossivel'], 'is_classified': True, 'class_name': 'not_usability'}, 'scores': [{'class_name': 'usability', 'score': 0.8198198198198198}, {'class_name': 'not_usability', 'score': 0.18018018018018017}]}\n",
      "{'test_data': {'ID': 'gp:AOqpTOHSxqkQd3cR2YrF-R7VYiIpx8ylZSvdQEyg_l513x4TjVoVyX6n9HgE4JPhLBXFhqwZ0I3j7hAa5O6yLw', 'text': ['primeir', 'vez', 'particip'], 'is_classified': True, 'class_name': 'not_usability'}, 'scores': [{'class_name': 'usability', 'score': 1.0}, {'class_name': 'not_usability', 'score': 0.0}]}\n",
      "{'test_data': {'ID': 'gp:AOqpTOHvNjE3NZpxNwJbKPHL5r965IMXtq40C2D_KxsgEc0XTEG4nIu_Unbo6w1RPWbn-a9C6GOt7XttWwc-fQ', 'text': ['recom', 'fcilidad', 'uso'], 'is_classified': True, 'class_name': 'not_usability'}, 'scores': [{'class_name': 'usability', 'score': 1.0}, {'class_name': 'not_usability', 'score': 0.0}]}\n",
      "{'test_data': {'ID': 'gp:AOqpTOFZIazhcsvkm63kIwysVutfK5qm3rO1guBsjGBhgPlJyvqNhduJxVH8OLejA6-ulR-0s1qLHGi7BNW4KA', 'text': ['pior', 'nao', 'fic', 'esper', '[?]'], 'is_classified': True, 'class_name': 'not_usability'}, 'scores': [{'class_name': 'usability', 'score': 0.8230088495575221}, {'class_name': 'not_usability', 'score': 0.17699115044247787}]}\n",
      "{'test_data': {'ID': 'gp:AOqpTOEjTY7qu7VvbViAAMs0ynhX1DkpiVLmUdI3IA2v8KJBavcHPMXd577XM9DCk3FQuDK2xN8rAIDn4Qq_AA', 'text': ['cadastr', 'segur', 'desempreg'], 'is_classified': True, 'class_name': 'not_usability'}, 'scores': [{'class_name': 'usability', 'score': 0.8048780487804879}, {'class_name': 'not_usability', 'score': 0.1951219512195122}]}\n",
      "{'test_data': {'ID': 'gp:AOqpTOFtaMEuExrjLNOrpdPhu12mDNfgUy9KZCs8xqaS3MY50lUOaxb7H0mwTRbQqEIL5qRBpSqIUs59OhDm9A', 'text': ['acess', 'primeir', 'vez'], 'is_classified': True, 'class_name': 'not_usability'}, 'scores': [{'class_name': 'usability', 'score': 0.7101449275362319}, {'class_name': 'not_usability', 'score': 0.2898550724637681}]}\n",
      "{'test_data': {'ID': 'gp:AOqpTOHLkR9CITLRA0hewivXEsfSuC5k7LYlxlgBWCdqTnn6h1KyIYrF05HsMqT6gn8_MSrf-926pouXbDtOFg', 'text': ['aplic', 'merec', 'estrel'], 'is_classified': True, 'class_name': 'not_usability'}, 'scores': [{'class_name': 'usability', 'score': 0.7894736842105263}, {'class_name': 'not_usability', 'score': 0.21052631578947367}]}\n",
      "{'test_data': {'ID': 'gp:AOqpTOEEGLjGV-OcR_EFGDCrfdeLLcB_xRxbeFUUUJ1RITHIK8AB--A0HmnmDqwBygqNMUlFts-AUFX7AYQXnw', 'text': ['aplic', 'precis', 'ser', 'melhor'], 'is_classified': True, 'class_name': 'not_usability'}, 'scores': [{'class_name': 'usability', 'score': 0.6571428571428571}, {'class_name': 'not_usability', 'score': 0.34285714285714286}]}\n",
      "{'test_data': {'ID': 'gp:AOqpTOGfaSA0KubAN-HYxvdY1sZoNp7IKXxYGtorbOWLp-kf-xfcAB46ogSFSRx8YYf3ycco25XsChi6qwgqdQ', 'text': ['total', 'sent', 'ness', 'moment'], 'is_classified': True, 'class_name': 'not_usability'}, 'scores': [{'class_name': 'usability', 'score': 1.0}, {'class_name': 'not_usability', 'score': 0.0}]}\n",
      "{'test_data': {'ID': 'gp:AOqpTOGwNYK49SiPNb5_6L-ENj_h5cWUFw61osWNbuXNDushFa5mQk59WYzPYeX5XRLCENLaEIt1RP4DuJaR2Q', 'text': ['nao', 'abaix', 'pior', 'aplic', 'exist'], 'is_classified': True, 'class_name': 'not_usability'}, 'scores': [{'class_name': 'usability', 'score': 0.8125836680053548}, {'class_name': 'not_usability', 'score': 0.18741633199464525}]}\n",
      "{'test_data': {'ID': 'gp:AOqpTOEOiMhF-S9R5G7cCiWBJAHuMGO2UTAc6pfgah6nJngOdjma_pYYEnp5-SfEiR_zEcldeKicDEY83fVhTQ', 'text': ['pessim', 'app', 'nao', 'ajud', 'ajud', 'nad'], 'is_classified': True, 'class_name': 'not_usability'}, 'scores': [{'class_name': 'usability', 'score': 0.563581640331076}, {'class_name': 'not_usability', 'score': 0.436418359668924}]}\n",
      "{'test_data': {'ID': 'gp:AOqpTOEeR77Gc-rwa5ZeJ3PMxbipAl3xPxfg4RDaZIIMR2QNf8KteaLGHPYWsBIgxyDowuVrWWGFi1Wu75SBlw', 'text': ['frald', 'algu', 'quer', 'peg', 'dad', 'pesso'], 'is_classified': True, 'class_name': 'not_usability'}, 'scores': [{'class_name': 'usability', 'score': 1.0}, {'class_name': 'not_usability', 'score': 0.0}]}\n",
      "{'test_data': {'ID': 'gp:AOqpTOHZA5qyMXaBEw3nJoX-2TTv1XGEQWa8AqqnC05batC0vrvBIBUEphfW1U1yOd9rgmf1pzvDUSMhLgFE3g', 'text': ['horrivel', 'app', 'perd', 'temp', 'nao', 'merec', 'estrel'], 'is_classified': True, 'class_name': 'not_usability'}, 'scores': [{'class_name': 'usability', 'score': 0.624765478424015}, {'class_name': 'not_usability', 'score': 0.37523452157598497}]}\n",
      "{'test_data': {'ID': 'gp:AOqpTOEIogBvGRveqNSKLDsVL9BvcsfblD5kM0R6buSjh7FyqLObwRdGcXSwr9gbmzBiMpVQ6JsELpRn1xB3Ag', 'text': ['app', 'ridicul', 'ja', 'vi', 'apps', 'ruins', 'super'], 'is_classified': True, 'class_name': 'not_usability'}, 'scores': [{'class_name': 'usability', 'score': 0.5698924731182796}, {'class_name': 'not_usability', 'score': 0.43010752688172044}]}\n",
      "{'test_data': {'ID': 'gp:AOqpTOGSi2CcVIY9gmnT4jrP3Miv1TRsHVu-Qum00PQqWtUzzsyV2wl4d-I2Lsr5m2WXTNtpRdo1BHO0Twrfrg', 'text': ['pior', 'lix', 'cham', 'aplic', 'ja', 'exist', 'nao', 'val'], 'is_classified': True, 'class_name': 'not_usability'}, 'scores': [{'class_name': 'usability', 'score': 0.7465681098204857}, {'class_name': 'not_usability', 'score': 0.25343189017951423}]}\n",
      "{'test_data': {'ID': 'gp:AOqpTOEjhRufV_TbyyfRKcaiPWWlCNOqXCYwCqFI4FOG-mPxmuTuT1UFoiXeD3sbRB2WKkvVu6-N1gBA73dsIA', 'text': ['govern', 'super', 'faz', 'aplic', 'ruim', 'nao', 'acert'], 'is_classified': True, 'class_name': 'not_usability'}, 'scores': [{'class_name': 'usability', 'score': 0.6245733788395904}, {'class_name': 'not_usability', 'score': 0.37542662116040953}]}\n",
      "{'test_data': {'ID': 'gp:AOqpTOHhhSiqR63yjImrK2Jxda0YjDX0Jpuo_ytd5lW7HYIf7PlEaE8yoSh1i8qOp1CFFWhByzS-eYijRW_Daw', 'text': ['fiz', 'validaca', 'facial', 'pois', 'cnh', 'digital', 'espetacul'], 'is_classified': True, 'class_name': 'not_usability'}, 'scores': [{'class_name': 'usability', 'score': 1.0}, {'class_name': 'not_usability', 'score': 0.0}]}\n",
      "{'test_data': {'ID': 'gp:AOqpTOHo6Cp4tYReoE6ZFzNfm0-5ceWx9RmaCFhDxrRREtv0uydqVcMLLK8xW1GSFXrUK5LYLjVfka2g7MkS4w', 'text': ['gost', 'cad', 'dia', 'atecnolog', 'estar', 'aprxim', 'gov', 'populaca'], 'is_classified': True, 'class_name': 'not_usability'}, 'scores': [{'class_name': 'usability', 'score': 0.5918367346938775}, {'class_name': 'not_usability', 'score': 0.40816326530612246}]}\n",
      "{'test_data': {'ID': 'gp:AOqpTOGS1vAfX8t1F5_nfAqdJbUOgx1q10VpCjbwZh0uoHSO5Szm2sfTDXMi-saEes3diZT0pyAG5no6Q3fZzw', 'text': ['aplic', 'desgrac', 'ser', 'exclu', 'dest', 'loj'], 'is_classified': True, 'class_name': 'not_usability'}, 'scores': [{'class_name': 'usability', 'score': 0.7122302158273381}, {'class_name': 'not_usability', 'score': 0.28776978417266186}]}\n",
      "{'test_data': {'ID': 'gp:AOqpTOEjpMpGYgSNkNenG1AF-pf7dL25BEF_kH5vRc7128BSksCJYdzwkUNphSNU1K1kF6ltnJrJXspVs_ZwXQ', 'text': ['aplic', 'sod', 'cert', 'nao', 'precis', 'ai', 'abre', 'rap', 'aprov'], 'is_classified': True, 'class_name': 'not_usability'}, 'scores': [{'class_name': 'usability', 'score': 0.7621878715814506}, {'class_name': 'not_usability', 'score': 0.23781212841854935}]}\n",
      "{'test_data': {'ID': 'gp:AOqpTOHsBth3qOZmrPE_dotliVWjDvZqK13ZLdXFslMmevibka2XkFKuh9EYJJSg5L8UDVlm11oLDVRhHdzDDg', 'text': ['sempr', 'aplic', 'trabalh', 'vez', 'resolv', 'problem'], 'is_classified': True, 'class_name': 'not_usability'}, 'scores': [{'class_name': 'usability', 'score': 0.8601398601398601}, {'class_name': 'not_usability', 'score': 0.13986013986013987}]}\n",
      "{'test_data': {'ID': 'gp:AOqpTOE76SwAgHK9UOQbhmsgk0mTu4TDdOei5ZjIqYvCNWCwBhAvJLesZfFXE57SPkBEfpET-yfVhjj2vxSKRg', 'text': ['bem', 'pens', 'pessim', 'execut', 'geit', 'nao', 'serv', 'pra', 'nad'], 'is_classified': True, 'class_name': 'not_usability'}, 'scores': [{'class_name': 'usability', 'score': 0.5695618754803997}, {'class_name': 'not_usability', 'score': 0.4304381245196003}]}\n",
      "{'test_data': {'ID': 'gp:AOqpTOFfUocGBw2J5YSTYmklg9dCVLPIPIwE2WIlJU0EmFJJe1XEIUoFMYavVomvA2hLAim2lc2moJ1iCdyRtg', 'text': ['precis', 'voc', 'concert', 'porqu', 'absurd', 'pra', 'estud'], 'is_classified': True, 'class_name': 'not_usability'}, 'scores': [{'class_name': 'usability', 'score': 0.7777777777777778}, {'class_name': 'not_usability', 'score': 0.2222222222222222}]}\n",
      "{'test_data': {'ID': 'gp:AOqpTOEKcZriJuY69sRWl_7uN9qzf6fyPRuDJ4in-kosXkOObMgn7Yh6L9dNbI1wDI4ZoqX1uLW88rBlo3Llpw', 'text': ['gost', 'tant', 'baix', 'pra', 'redefin', 'senh', 'funcion', 'nad', 'reclam'], 'is_classified': True, 'class_name': 'not_usability'}, 'scores': [{'class_name': 'usability', 'score': 0.803921568627451}, {'class_name': 'not_usability', 'score': 0.19607843137254902}]}\n",
      "{'test_data': {'ID': 'gp:AOqpTOFY3fsUzd3ZdKQilLkhh7qOpjsFKZPN9ZYUp8ifwWfn5K2DNs2y7mP8n_5OeHAmnvLWZxAYMItDFf09BA', 'text': ['inic', 'import', 'acess', 'servic', 'digit', 'facilit', 'desburocratiz'], 'is_classified': True, 'class_name': 'not_usability'}, 'scores': [{'class_name': 'usability', 'score': 0.5675675675675675}, {'class_name': 'not_usability', 'score': 0.43243243243243246}]}\n",
      "{'test_data': {'ID': 'gp:AOqpTOFxwACCgoU8jGF5nDIXQE3Oh09qMkafPugR7FZKq9CfZHUJxy8jm0J39uqo8poGZ6UEnqK-Rfx2PHLPmQ', 'text': ['apric', 'aind', 'ta', 'test', 'previst', 'dezembr', 'vai', 'ser', 'util', 'tud', 'gov', 'vai', 'ser', 'nel'], 'is_classified': True, 'class_name': 'not_usability'}, 'scores': [{'class_name': 'usability', 'score': 0.5098039215686274}, {'class_name': 'not_usability', 'score': 0.49019607843137253}]}\n",
      "{'test_data': {'ID': 'gp:AOqpTOHk7i1lmPcGqrGwvWZnLvq8ldSTsHxbL5CFd81-cRlWxJwURyXD9Sx86BwZyW6kIiRYTXWo2pAYxM0aPA', 'text': ['promess', 'burrocrac', 'app', 'funcion', 'restant', 'dinheir', 'contribuint', 'jog'], 'is_classified': True, 'class_name': 'not_usability'}, 'scores': [{'class_name': 'usability', 'score': 0.5172413793103449}, {'class_name': 'not_usability', 'score': 0.4827586206896552}]}\n",
      "{'test_data': {'ID': 'gp:AOqpTOFXa8P90T0yVYMxQAR04Dn1RtinEAFdDfg1Lc2zmOtVIszvB1VN18TynWMZdR6po-KBxxQcMKvRnBBpag', 'text': ['aplic', 'horivel', 'igual', 'tod', 'tip', 'benefici', 'oferec', 'populaca', 'nao', 'dou', 'zer', 'estrel', 'pq', 'nao'], 'is_classified': True, 'class_name': 'not_usability'}, 'scores': [{'class_name': 'usability', 'score': 0.8048780487804879}, {'class_name': 'not_usability', 'score': 0.1951219512195122}]}\n",
      "{'test_data': {'ID': 'gp:AOqpTOGRWPHtuDPSDDA4jKwxkaDDg-dk_hfBxaXbtAg_229uQt05vAoU2Cp5ZjZ0s5eurCaSlQkbJUuEqyv31w', 'text': ['lix', 'dinheir', 'populaca', 'pass', 'mao', 'objet', 'clar', 'faz', 'algo', 'nao', 'serv', 'pra', 'nad', 'ludibri', 'populaca'], 'is_classified': True, 'class_name': 'not_usability'}, 'scores': [{'class_name': 'usability', 'score': 0.726027397260274}, {'class_name': 'not_usability', 'score': 0.273972602739726}]}\n",
      "{'test_data': {'ID': 'gp:AOqpTOE370HK4ezXvbTjsBNL-mC61Z_8d_HDYY08s11Huy7uQ1CeucpOc7GNT0zR8PSRZFeAAnpoKVNpIq6xeQ', 'text': ['excelent', 'baix', 'app', 'recuper', 'senh', 'ppr', 'leitur', 'facial', 'deu', 'cert', 'resolv', 'problem', 'facil', 'usar', 'recom'], 'is_classified': True, 'class_name': 'not_usability'}, 'scores': [{'class_name': 'usability', 'score': 0.6571428571428571}, {'class_name': 'not_usability', 'score': 0.34285714285714286}]}\n",
      "{'test_data': {'ID': 'gp:AOqpTOGAz_GgftcZsRIBgBLSpwGibeEMJCErgu8lvyYgmFViFo4x7sXqlJhSOaeHIutTkzf4STwPgS79fxxH5g', 'text': ['coloc', 'estrel', 'pra', 'pod', 'coment', 'app', 'referenc', 'nov', 'ordem', 'mundial', 'chip', 'gad', 'estud', 'sobr', 'asunt', 'nao', 'ment', 'nao', 'aprofund', 'estud'], 'is_classified': True, 'class_name': 'not_usability'}, 'scores': [{'class_name': 'usability', 'score': 0.7510373443983402}, {'class_name': 'not_usability', 'score': 0.24896265560165975}]}\n",
      "{'test_data': {'ID': 'gp:AOqpTOG_wmvP6n3lzwIQlMTngAFuY0uarNTZKcOeknJ06as3GD9tko6DGmybXlAuEGOyKRvAbUNosl9WBiJFmg', 'text': ['tend', 'problem', 'cadastr', 'carteir', 'trabalh', 'digital', 'estar', 'const', 'cpf', 'cadastr', 'atrav', 'aplic', 'reconhec', 'facial', 'consegu', 'faz', 'cadastr'], 'is_classified': True, 'class_name': 'not_usability'}, 'scores': [{'class_name': 'usability', 'score': 0.9575821845174973}, {'class_name': 'not_usability', 'score': 0.042417815482502653}]}\n"
     ]
    }
   ],
   "source": [
    "# is this correct?\n",
    "classifications = [{'test_data': test_data, 'scores': classificate(corpus, test_data['text'])} for test_data in df]\n",
    "classifications = [normalize_scores(classification) for classification in classifications]\n",
    "accuracy = get_accuracy(classifications)"
   ]
  },
  {
   "cell_type": "code",
   "execution_count": 773,
   "metadata": {},
   "outputs": [
    {
     "ename": "TypeError",
     "evalue": "tuple indices must be integers or slices, not str",
     "output_type": "error",
     "traceback": [
      "\u001b[0;31m---------------------------------------------------------------------------\u001b[0m",
      "\u001b[0;31mTypeError\u001b[0m                                 Traceback (most recent call last)",
      "\u001b[0;32m<ipython-input-773-1a79bdc57da7>\u001b[0m in \u001b[0;36m<module>\u001b[0;34m\u001b[0m\n\u001b[0;32m----> 1\u001b[0;31m \u001b[0mprint\u001b[0m\u001b[0;34m(\u001b[0m\u001b[0;34mf'Right answers Usability: {accuracy[\"usability\"]} of {len([data for data in df if data[\"class_name\"]==\"usability\"])} ({accuracy[\"usability\"]/len([data for data in df if data[\"class_name\"]==\"usability\"])})'\u001b[0m\u001b[0;34m)\u001b[0m\u001b[0;34m\u001b[0m\u001b[0;34m\u001b[0m\u001b[0m\n\u001b[0m\u001b[1;32m      2\u001b[0m \u001b[0mprint\u001b[0m\u001b[0;34m(\u001b[0m\u001b[0;34mf'Right answers Not Usability: {accuracy[\"not_usability\"]} of {len([data for data in df if data[\"class_name\"]==\"not_usability\"])} ({accuracy[\"not_usability\"]/len([data for data in df if data[\"class_name\"]==\"not_usability\"])})'\u001b[0m\u001b[0;34m)\u001b[0m\u001b[0;34m\u001b[0m\u001b[0;34m\u001b[0m\u001b[0m\n\u001b[1;32m      3\u001b[0m \u001b[0mprint\u001b[0m\u001b[0;34m(\u001b[0m\u001b[0;34mf'Draws: {accuracy[\"draws\"]}'\u001b[0m\u001b[0;34m)\u001b[0m\u001b[0;34m\u001b[0m\u001b[0;34m\u001b[0m\u001b[0m\n",
      "\u001b[0;31mTypeError\u001b[0m: tuple indices must be integers or slices, not str"
     ]
    }
   ],
   "source": [
    "print(f'Right answers Usability: {accuracy[\"usability\"]} of {len([data for data in df if data[\"class_name\"]==\"usability\"])} ({accuracy[\"usability\"]/len([data for data in df if data[\"class_name\"]==\"usability\"])})')\n",
    "print(f'Right answers Not Usability: {accuracy[\"not_usability\"]} of {len([data for data in df if data[\"class_name\"]==\"not_usability\"])} ({accuracy[\"not_usability\"]/len([data for data in df if data[\"class_name\"]==\"not_usability\"])})')\n",
    "print(f'Draws: {accuracy[\"draws\"]}')"
   ]
  },
  {
   "cell_type": "code",
   "execution_count": null,
   "metadata": {},
   "outputs": [],
   "source": [
    "corpus"
   ]
  },
  {
   "cell_type": "code",
   "execution_count": null,
   "metadata": {},
   "outputs": [],
   "source": [
    "texts = []\n",
    "for c in df:\n",
    "    texts.append(c['text'])\n",
    "texts"
   ]
  },
  {
   "cell_type": "code",
   "execution_count": 774,
   "metadata": {},
   "outputs": [
    {
     "name": "stdout",
     "output_type": "stream",
     "text": [
      "['ok', 'hh', 'ok', 'top', 'boa', 'bom', 'bom', 'amo', 'boa', 'bom', 'bom', 'boa', 'gea', 'bom', '', 'bom', 'bom', 'bom', 'bom', 'bom', 'bom', 'bom', 'bom', 'top', 'ruim', 'ruim', 'joi', 'bom', 'ruim', 'ruim', 'util', 'zer', 'lix', 'lix', 'ruim', 'otim', 'otim', 'med', 'legal', 'legal', 'otim', 'bost', 'otim', 'otim', 'otim', 'otim', 'otim', 'otim', 'bost', 'pecim', 'belez', 'inutil', 'not', 'pessim', 'pessim', 'mt ruim', 'lix', 'nao boa', 'otim', 'pessim', 'mbbnb', 'pessim', 'pessim', 'pessim', 'pessim', 'pessim', 'pessim', 'horrivel', 'parabens', 'terrivel', 'horrivel', 'pessim', 'horrivel', 'horrivel', 'pessim', 'horrivel', 'excelent', 'bom', 'sim otim', 'excelent', 'parabens', 'agil', 'bom', 'bom', 'bom', 'funcion', 'bom', 'bom', 'bom', 'bom', 'bom', 'bom', 'satisfaz', 'excelent', 'gost', 'ruim', 'ruim', 'drog', 'ruim', 'acessivel', 'bom', 'bom', 'bom', 'bom', 'ruim', 'ruim', 'ruim', 'ruim', 'facil', 'otim', 'horrivel', 'bom dem', 'legal', 'pessim app', 'excelent ok', 'decepcion', 'orient', 'profissa', 'ruim pront', 'obrig', 'servic ger', 'bom otim', 'bom pra naveg', 'pessim', 'pessim pessim', 'vcs sao lix', 'fraud complet', 'realment otim', 'vo test agor', 'bem bol', 'app fak cuid', 'app lix', 'bom especial', 'drog app', 'pod ser melhor', 'nao consegu entrar', 'segur hip segur', 'aplic pessim', 'nao consig acess', 'nao consig acess', 'experienc horrivel', 'app bom', 'tud cert bem rap', 'motor categor', 'sint noj govern', 'horrivel nao carreg', 'perfeit maravilh', 'aprov', 'nao serv nad', 'gabrielvitor sant', 'import pra mim', 'orivel app', 'bom esclarecedor', 'horrivel atrapalh', 'claudi faustin silv', 'aplic pessim', 'complic afff', 'nao consegu cadastr', 'henriqu bell', 'horrivel aplic', 'pedrer construca civil', 'boa respons', 'vou test dou', 'lixa nao prest app', 'nao consig valid rost', 'quer tir carteir trabalh', 'nao porqu impossivel', 'burocraticoooooooooooooooooo', 'primeir vez particip', 'aplic parec ser bom', 'recom fcilidad uso', 'app mal planej estrutur', 'pior nao fic esper [?]', 'cadastr segur desempreg', 'acess primeir vez', 'parabens app pratic', 'aplic merec estrel', 'aplic precis ser melhor', 'total sent ness moment', 'nao abaix pior aplic exist', 'otim app consig usar tranquil', 'sup feliz app gov br', 'pessim app nao ajud ajud nad', 'test aind parec ser bom', 'aplic pessim pessim', 'boa tard anunci app excelent', 'ruim pior tod aplic', 'es palm temp bom qualidad ministr cur', 'app ruim n aconselh ningu ussar', 'aplic pessim ruim', 'frald algu quer peg dad pesso', 'horrivel app perd temp nao merec estrel', 'app ridicul ja vi apps ruins super', 'pior lix cham aplic ja exist nao val', 'gent app bom melhor nao bom', 'pessim app complic vid trabalh brasileir', 'govern super faz aplic ruim nao acert', 'fiz validaca facial pois cnh digital espetacul', 'gost cad dia atecnolog estar aprxim gov populaca', 'simples horrivel cham pesso decent pra mont app', 'aplic desgrac ser exclu dest loj', 'bom ser agil agent transit', 'app excelent funcion perfeit comig erro nenhum bug', 'nao consig acess pois dand erro cadastr fot porqu', 'experienc boa pos consegu asses tud precis', 'aplic sod cert nao precis ai abre rap aprov', 'apnic ruim nao consig cadastr dad porqu sempr erro', 'coloc dat emissa cnh bota ir gov', 'sempr aplic trabalh vez resolv problem', 'bem pens pessim execut geit nao serv pra nad', 'traz informaco incorret sus numer carta sus nao permit corrig', 'precis voc concert porqu absurd pra estud', 'nao cnh assim coloc cpf ped cnh nao sei fac', 'gost tant baix pra redefin senh funcion nad reclam', 'sim facilit vari servic import sair cas', 'aplic horrivel coloc estagiari pra program der praz 6h pod', 'bom ter aplic mant inform tud aposentador', 'inic import acess servic digit facilit desburocratiz', 'pod ter opca faz cadastr necess cnh pois tod mund cnh', 'apric aind ta test previst dezembr vai ser util tud gov vai ser nel', 'promess burrocrac app funcion restant dinheir contribuint jog', 'aplic horivel igual tod tip benefici oferec populaca nao dou zer estrel pq nao', 'horrivel nunc fiz cadastr inform q ja dad cadastr mail cont aind telefon tent mud nao consig', 'lix dinheir populaca pass mao objet clar faz algo nao serv pra nad ludibri populaca', 'fac obter cod fal ler comput nao comput onde aproxim faz leitur q r cod', 'horrivel inform ja cont nao pra recuper senh confirm pergunt pesso inform divergent', 'excelent baix app recuper senh ppr leitur facial deu cert resolv problem facil usar recom', 'coloc estrel pra pod coment app referenc nov ordem mundial chip gad estud sobr asunt nao ment nao aprofund estud', 'tend problem cadastr carteir trabalh digital estar const cpf cadastr atrav aplic reconhec facial consegu faz cadastr', 'nao consig entrar cont nao entrar outr form', 'ruim dem reconhec facial pessim dev ganh viu', 'app nao consig faz validaca facial nao consig faz qr cod', 'ruim nao consig acess dar entrad segur desempreg', 'nao cadastr reconhec facial realment lix app perd temp', 'pessim experienc tecnolog ruim reconhec facial nao comport biometr', 'nao consegu acess aplic coloc celul pra ler cod inform erro', 'nao gost nao informaca biometr nao direit acess patif', 'aplic ped cadastr biometr biometr cadastr titul nao entend', 'nao consig faz prov vid diz nao possu biometr bas dad mei cpf', 'app horrivel coloqu cpf senh ped pra tir fot pra prov vid fal nao biometr nao acess app', 'simples ridicul form cadastr acess dess aplic cheg ser constrangedor exclu recri outr aplic pois voc cri piad mal gost pass ser humilh', 'pra serv lix nao util nenhum nao app fak dinheir contribuint jog lix pod estar otimiz outr ferrament exempl cnis auxili emergencial neg fac algo util', 'nao consig entrar', 'aplic serv pra quer', 'erro pessim aplic', 'identificaca biometr pessim', 'autenticaca dess app ridicul', 'nao reconhec fac pessim', 'deus pod usar cnh', 'nao entra inval voc faz tud nao vai', 'pra nao carteir habilitaca aind faz', 'nao consig faz prov vid reconhec facial', 'nao consig registr facial nao consig cancel opca', 'nao prest orrivel nao consegu acess leitur facial pessim', 'pod facilit troc senh muit burocrac', 'pessim tod vez tent entra usuari senh inval', 'app nao faz recuperaca senh fic dificil ne [?]', 'impossivel recuper senh app faz recadastr sup insatisfeit', 'pessim trav ja exist cont nunc feit nao conseg redefin senh', 'fac pra acess esta diz ja cadastr senh nunc fiz senh', 'pessim', 'nao abre', 'complic', 'nao fucion', 'nao funcion', 'nao funcion', 'nao funcion', 'nao funcion', 'nao funcion', 'nao tir fot', 'app nao funcion', 'dificil usar', 'pessim nao peg', 'pessim erro', 'impossivel usar', 'inutil nao funcion', 'lix nao funcion', 'pessim nao funcion', 'nao consegu instal', 'nao consegu acess', 'nao reconhec rost', 'nao consig cri cont', 'nao consig acess', 'nao funcionacom rost', 'pessim nao reconhec', 'nao atualiz dad', 'nao consig alter fot', 'ultraj funcion', 'complic nao funcion', 'simplis nao funcion', 'nao consig faz cadastr', 'nao funcion pessim app', 'sempr erro servidor', 'dificil consegu', 'nao consegu entrar app', 'nao consig acess app', 'diz ja cadastr', 'pessim bem abre ja trav', 'falt opca troc senh', 'temp curt prov', 'nao consig recuper senh', 'erro reconhec facial', 'validaca facial nao funcion', 'nao consig abrir negoci', 'n consig redefin senh', 'fot nao aceit sit', 'impossivel recuper senh niss', 'nao consegu erro', 'nao gost nao consegu entrar', 'esquec senh faz', 'recuper senh horrivel', 'tod jeit fac nao cert', 'nao consig recuper senh', 'nao consig faz validaca facial', 'reconhec facial nao funcion', 'nao consig faz cadastr facial', 'pessim prov vid nao funcion', 'dis cadastr nuc vis', 'nao funcion nao possu cnh', 'reconhec facial nao funcion', 'nao ha opca recuperaca senh', 'nao ta digit nad nao acess', 'dev ter pratic clarez', 'horrivel nunc ta bom centralizaca', 'nao opca esquec senh', 'aplic ta seri problem', 'ache pouc dificil idad', 'pessim trav reconhec facial', 'erro tod vez tent entrar', 'nao ha atualiz dad pesso', 'horrivel nao cumpr nad promet', 'nao consig acess nao lembr senh', 'pessim nao faz reconhec facil', 'impossivel faz reconhec facial', 'nao consig valid dad cadastr', 'lent simples nao funcion', 'quer recuper senh nao consig', 'nao funcion sistem validaca facil', 'pessim horrivel work', 'nao cnh fac agor deus', 'lix reconhec facial nao funcion', 'fac pra recuper senh scrre', 'temp verificaca fot curt', 'nao possivel faz identificaca facial', 'mei dificil faz ocul deu cert', 'bom dia coloc cpf diz ser inval', 'ruim dificult entrar nest ap', 'reconhec facial chat dificil', 'sit ridicul aplic pior aind', 'camp senh nao receb digitaca', 'pessim sempr tent entrar nao cert', 'pessim pessim pessim nad nel funcion', 'serv cnh aplic inutil', 'nao consig nenhum tip recuperaca senh', 'pessim experienc quatr tentat exit', 'nao lembr senh dev faz', 'nao ha temp abil validaca facil orrivel', 'nao consig faz fot app fal erro', 'horrivel pessim complic pra reculper senh', 'pessim prov vid aff nao temp suicient', 'nao consegu reconhec facial', 'nao serv pra nad nao acess pessim', 'aind nao consegu estal lo celul ta', 'n consig faz nad n cheg email pra mim', 'identific facial nao funcion corret', 'podr nao dar erro reconhec facil', 'nao consegu faz reconhec facial', 'app nao faz reconhec facial pod usar', 'nao conseg faz reconhec facial erro', 'nao consig cadastr onde acho numer cadastr', 'pessim reconhec facial nao funcion nunc', 'orrivel prov vid erro tod temp afff', 'aplic lix hor tent nao entra', 'ruim comig funcion nao consig cadastr', 'impossivel recuperaca senh pessim funcional', 'pesso cadastr nao sai biometr', 'nao consig recuper senh aplic complic', 'prov vid ridicul absolut nao funcion', 'ja const cot cpf fraud nunc cadastr', 'nao consegu baix app porqu nao consig', 'pessim nao recuper senh ja trav', 'horrivel lent nao abre nad sempr dand erro', 'nao funcion ped senh tempor nao envi', 'nao consig valid ident facial erro final', 'aplic fic faz palhac cam', 'pessim leitor facial tent var ves nao consegui', 'complic mex aind erro cad pagin', 'ta fal ja cadastr send nunc entre', 'esta utiliz cpf cont nao consig entrar', 'pessim nao consig redefin senh q cri', 'mud mail inss nao consig entrar fac', 'nao consig acess recuper senh dand erro', 'validaca facial nao funcion bem qr cod cnh', 'nunc disponivel indisponivel tent tard', 'nao consig acess cont af fac pra acess', 'nao fiz cadrast nenhum gov diz q ja cadrast', 'nao consig recuper cont digit codig erro', 'pessim reconhec facial nao funcion form algum', 'ruim fic ped pra vir rost nunc cert', 'erro tent acess pra obter segur desempreg', 'fac pra recuper senh nao consig jeit nenhum', 'aplic erro abrir fech nao consig acess app', 'app sit problem part recuper senh', 'nao consegu tir coloc ocul var vez', 'app horrivel nao quer opca mud senh refaz la', 'nao consegu recuper senh ruim program', 'lix vc fiz cadastr nao opca exclu cont', 'erro cpf ja cadastr nunc fiz cadastr', 'nao consig recuper senh nao mostr opco email sms', 'pessim horrivel recuper senh nunc cri vsf', 'funcion realment volt baix app lamentavel', 'nao cadastr validaca facial nao funcion validaca facial', 'nao consegui faz proc vid sempr acab temp', 'ruim nao consig entrar vou tir fot nao vai', 'mim servent ano consig recup senh agor', 'fal nao le biometr inval desist lix app', 'ache basic dev dispor servic fal br exempl', 'nao reconhec fac aff complic q acess', 'lix aplic diz nao reconhec propri codig ger', 'app ruim nao ta lend telemetr oq ta acontec', 'nao consig acess diz q cadastr nao reconhec fac', 'nao entra simples nao entra voc precis resolv', 'nao consig cadastr erro nao reconhec rost fac', 'pqp pra dificult tant criaca inscrica enem dess ano', 'fot nunc dar cert tir var fot sistem nunc aprov', 'vergonh nao funcion nad nunc fiz cadastr ness aplic', 'tent cadastr fal ja possu cadastr nao fiz', 'nao consig entrar prov vid dar erro tod hor ruim', 'nao entend app pod entrar cnh tod mund', 'bom dia nao consig entrar tamb nao opca mud senh', 'ajud recuper senh nao comig entrar cont', 'esquec sait nao mand outr senh consegu entrar sait', 'aplic ruim lent nao conseg identific reconhec facial', 'consig acess diz ja cont cadastr nao', 'gent pra serv entre cadastr td cert nao serv pra nad', 'nao lembr senh nao mail faz pra recuper senh', 'lix aplic nao abri validaca facial nad dess mund', 'aplic pessim tod sent principal acess desist', 'fac pra recuper senh banc itau ta dificil pra refaz', 'pessim nao atualiz numer tel nao cheg msg email nao serv p nad', 'ser govern horrivel horrivel nao consig ter acess', 'nao consig recuper senh entrar pagin particip enem', 'alem demor reconhec facial imag fic total pret', 'problem diz ja cadastr nunc entre sit', 'pessim nao consig recuper senh indo gov br recup senh', 'instal agor tent cadastr diz ja cont nao consig acess', 'nao consig faz validaca facial diz nao cadastr send', 'nao consig entrar segur desempreg nao consig cadastr biometr facial', 'nao reset senh nao le qr cod carteir resum nao funcion', 'nao funcion nao reconhec dad inform nao const bas biometr', 'nao cnh nao consig faz autenticaca numer consig contat', 'tent acess por inform nao const informaco biometr algo assim', 'acab cadastr digit senh nao aceit ruim aplic', 'entro fal ja cadastr nunc fiz sei senh fass', 'nao consig acess diz ja cadastr nao recuper senh', 'pessim app nao conclu dad biometr repet erro tal', 'otim por bom implement nov funcional mud dad pesso', 'ruim aplic fal cpf cadrastr nunc baix aplic antes', 'app pessim ja faz hor tent redefin senh nao consig', 'recup senh tir fot agr nao entra mand verific credenc', 'nao cnh nao cidada aplic vist nao consegu acess lo', 'app nao funcion fac proced rost aparec nao const registr', 'tent abrir aplic fech ja desinstal instal nov nad', 'nao le qr voc habilitaca sonh reconhec fac mau projet', 'pessim tant tecnolog facial nao funcion nao perc temp nao instal', 'futur nao reconhec facial quas tud govern assim nao funcion clar', 'nao send possivel acess nenhum app plataform gov br certific neoid', 'pessim app nao possibilit recuperaca senh seri erros informaco', 'nunc cadastr diz ja cadastr nao opca esquec senh nao app', 'pessim nao lembr senh cadastr nao opca recuper senh inutil', 'quer recuper senh nao acess email cadastr fac', 'esquec senh opca esquec senh nao aparec mail telefon fac', 'nao consegu baix aplic observ numer cel errad', 'lix aplic vergonh simples nao funcion sequ consig inic', 'tent faz cadastr fal ja cadastr fac pra recuper cadastr', 'caimbr boc olhos sec tant sorr pisc nao deu nad aff', 'cheg ser ridicul ter faz reconhec facial nao ter acess nad', 'digit senh vc nao nao lembr nao bota recuper senh', 'dificil faz prov vid ja tent umas vez temp nao pra conclu', 'diz cadastr mail telefon aparec nao conhec nao consig acess', 'nao gost ja cadastr nunc entra senh fic volt cpf sac', 'quer sab fac recuper senh nao altern email', 'nao consegu faz nad problem senh mim ajud favor obrig', 'nao consig termin validaca biometr porqu nao cnh nao entend requisit', 'ola tod app govern lastim app ta dificil registr fac cadrastr', 'baix app nao cadastr aparec cadastr poss faz', 'app golp diz cont nel nunc ter acess cuid pessoal', 'precis ajud redefin nov senh acess aplic favor ajud', 'nao consig faz login diz ja cadastr nao sei senh nao consig mud', 'cadastr email antig trabalh agor nao consig ger nov senh proced', 'codig nao cheg dest ontem comec fic preocup vou perd inscrica', 'faz pra recuper senh gov perd cel n numer algu ajud', 'ja cont cnh digital ativ problem nao reconhec rost nest aplic', 'pox ja possu cadastr nao consegu entra porqu fic ped cnh assim nao', 'nao consig faz cadastr ped pra troc senh gmail pior aind deus viu', 'fac pra dad inscrica enem precis tir bolet nao encontr', 'nao facilit pra voc faz alteraco dad cadastr ache pessim aplic', 'pessim pois ped senh tempor nao senh tempor nao consig acess', 'horrivel app tent faz login por cont antig nao val rost odi viu', 'sistem ta indisponivel cri cont ja faz alguns dias coloc senh tempor', 'cpf ja exist nao consig entrar cadrast enem ped pra entrar aqu app', 'nao consig termin cadastr tend respond questionari sempr erro requisica', 'perd senh nao consegu assess cont nao opsa pra faz putr senh', 'voc pass dia rind pisc nao reconhec car nao pra usar aplic', 'lix diss nao const biometr facial aff serv nad reconhec rost', 'reconhec facial nao funcion nao etap ser ignor pra continu cadastr', 'tud govern coloc mao app lix nao ajud nad contrari', 'part ds prov vid app nao funcion nunc consegu entrar faz tud ped app', 'ruim nao acess mail cadastr fic impossivel acess aplic', 'gost bastant apes dificuldad reconhec facial ser chat faz bom', 'app ruim consegu cri cont pois hor fot nao aparec cam pra tir fot', 'nao consig acess pois ta fal ja cadastr cpf nao co sig redefin senh', 'funcion tent realiz cadastr receb mensag ja exist nunc use ap', 'aparec ja cadastr email eo numer nao sao nao sei oqu faz', 'pessim nao permit acess nao faz leitur biometr trav nao opca recuper senh', 'feit cadastr outr email esquec senh email fac pra recuper', 'nunc cadastr cadastr ja cadastr nao entend nao consig acess', 'problem alter senh cnh apos inform dat ultim emissa bota avanc nao funcion', 'algu pod ajud fac pra cancel cadastr gov nao opca exclu ajud', 'ruim nao consig conclu reconhec facial verdad dev ter pra entrar app', 'pessim diz q ja cadastr nao consig acess opca redefin senh pessim', 'diz nao reconhec bas dad biometr precis aprimor app corrig erros', 'digit cpf nao dao opco nom mae dat nasciment corret conform document', 'ruim voc fic igual retard mov rost aplic encerr reconhec fac', 'horrivel nao abre coloc senh diz incorret troc assim nao consig acess horrivel', 'ide boa prov vid faz palhac uns 40min n funcion fic dand erro final', 'nunc fiz cadastr app diz ja email cadastr pra recuper senh nao faz', 'complet lix nao perc temp nao funcion nad pur enganaca dev ser pres band lix', 'pessim nao consig ha duas seman tir fot segu frent conclu gov br', 'entre cadastroacess gov br recuperarcadastr inform nao funcion nao aparec nenhum caminh', 'vou entrar cont fic autentificaca nao sai la nao aparec nad fic branc', 'coloc cpf dis ja cadastr nao senh nao opca redefin agor', 'nao consig entrar ja cadastr fot hor analis diz nao cadastr biometr', 'negoci reconhec facialna funcion nao pra fic dia tod niss nao arrum favor', 'tent recuper senh nao aparec opco reenvi codig via sms mail', 'algu usand cadastr digit cpf fal ja tou cadastr poss verific', 'senh tempor obrigator cri senh cpf hor log solicit senh tempor', 'sistem mapeament facial simples nao funcion pra recuper senh novel sistem pessim', 'entro cadastr ped tir fot fic const q nao bat biometr solicit', 'app ruim fal gent cadastr send q nunc fiz senh consig faz outr ta dificil', 'tent recuper senh diz nao exist email tent faz outr cont diz cpf cadastr', 'algu cri cont nom cpf telefon ddd nao far regulariz ps email', 'numc sab tip asses agor esto problem pra faz escrica enem raiv viu', 'dificil faz cadastr facial codig qr ger aplic erro leitor qr dev usad', 'ha cont cri cpf nao redefin senh pois aparec email numer nunc vi vid', 'perd senh chip bloqu nao cnh cont banc fic impossivel recuper acess', 'app pessim nao consig recuper senh ate agor nao sei fiz inscrica pois n consig acess', 'lix tentat econhec facial exit dur depend dest soluco govern cri', 'horrivel pod vir dess govern lix antes funcion maravilh agor ningu conseg acess', 'ta aprecent numer pra mim receb codig sei vo troc senh dess jeit', 'esper men estress pois dad recuperaca senh nao confer atual procedent', 'nao consig recuper senh tant aplic sit esta seri problem relaca', 'nao consig cadastr pois ped senh tempor nao acess tent dias nao consig', 'opte leitur facial nao cnh fiz leitur diz nao const document oqu fac', 'nao consig cadastr senh definit mensag erro codig send tod dad esta corret', 'olha pessim app tent anos recuper senh nunc consig voc pod simplific ne aff', 'indign porqu nao consig recadastr senh inss fic diz outr email candratod', 'algu usand cpf nao consig ter acess jeit nenhum pessim atend nao atend necess', 'nao avali app horrivel nao consig cadastr ped senh nao receb aff desgast', 'terrivel nao consig maneir nenhum entrar esquec senh nao consig recuper vou prest enem', 'ache rap objet por nunc rost fic dorm aplic solicit temp curt', 'nao consig acess porqu ped reconhec facial nao reconhec pra cnh pessim', 'nao consig acess aplic nao permit baix lo aplic problem precis acess urgent', 'precis muit melhor identific facial nao funcion faz jeit solicit sempr erro', 'final dess app fiz cadastr acess nao aparec nad q cpf fot qrcod', 'dei estrel porqu nao poss dar ruim ja fiz var tentat pra recuper senh erro', 'pessim inutil pois ped faz vari moviment nunc reconhec nao deix ter acess aplic', 'diz ja cadastr tent entrar senh diz incorret nao recuper senh app', 'horrivel nao consig acess sempr ped fot prov vid tir fot fal q nao biometr', 'ruim nao consig nemhum form recup senh fez atualizaco prejudic muit pesso', 'total desorganiz nenhum funco val app pod funca nao der val', 'ja cadastr nao acess email confirmaca telefon fac recuper cont', 'nao compr fiz inserca enem agor aparec cpf nao cadastr nao cont ajud', 'app diss q ja cadastr nao cont branc brasil ta dificil vou denunc app frald', 'n consegu acess cont vou cadastr diz q ja cadastr n pod ajud', 'par funcion nao aceit senh permit reemisa aparec descrica erro internal serv favor corrig', 'ola gost sab tod vez digit senh cost incoret porqu att edson silv sant', 'nao consig acess auxili fac pra entrar aplic sim precis sab abert cont digital pra mim', 'nao consegu cadastr pod ter informaco sobr segur desempreg ja q orga fisic nao atend', 'pessim nao consig recuper senh inep nao ajud nad aguard respost solucion problem', 'precis alter numer cadastr cad unic pod valid cadastr aplic caix caix', 'deus nao conseg faz prov vid cois ja sao tao dific aind dificult vid cidada', 'horrivel nao consig cri cont jeit nenhum not estrel porqu pesso conseg avali dess form', 'interess nao oportun faz uso tel dess aplic poss facil trac senh verificaca facial', 'usar cpf pra cri cont agor nao consig ter acess precis faz enem nao poss acess dad', 'horrivel nunc vir aplic sit nao ter possibil recuperaca senh affff nunc vir tant dificuldad', 'pessim nao atend ae esper nao le codig qrcod avanc recuperaca senh experienc horrivel', 'nao funcion nunc fiz fac biometr pra banc brasil ped algo tip nao consig acess pag', 'precis muit repar fas bet pq reconhec facial funcion misericord faz vergonh app', 'burocrac pra cri cont validaca codig demor tamb temp comec tud nov', 'nao consig acess tent aparec mensag mail ja cadastr nao lembr ter feit algum cadastr', 'pessim aplic nao consig ter licenc digital mod algum fal fot nao mesm banc dad', 'app erro envi fot aparec x vermelh vou finaliz inscrica ter acess cont afff', 'acompanh solicitaca inserca enem vou sab aprov inserca diz obrigatori sit', 'imagin aplic complic long ser funcional pratic not zer deix voc andand circul progressa', 'nao funcion corret perd temp serv estress cidada trav sempr vai faz reconhec facial', 'consig recuper senh numer celul nao atualiz onde atualiz cadastr porqu app nao ajud nad', 'nao consig ter acess facil carteir habilitaca porq qr cod faz leitur aind fod vid gent', 'identificaca facial nao funcion gent app ser gov pod ser melhor inves aproxim afast', 'quer entend pq vou faz cadastr diz ja email cadastr nunc vir vid', 'nao const bas informaco biometr document tent acess mensag fac', 'cont gov br por log ped pra envi fot envi diz nao const bas dad reconhec facial', 'nao consig acess cont tent entrar aparec dad nao sao numer telefon celul cont banc', 'sempr tent acess aparec usuari senh inval fac resolv aparec cadastr nao', 'aplic problem nao consig cri cadastr tent atrav cpf nao sai primeir fas corrig urgenc', 'fac refaz nov cadastr porqu coloc cpf diz ja cadastr nao fiz cadastr', 'exist cadastr cpf nao cri mail nunc cri nao ha lug pra mud seguranc', 'lamentavel pessim funcion app validaca facial nao funcion form algum respost cop col retorn util', 'pessim cam celul congel pass minut congel pod faz nad ai qd acab temp aparec menssag erro', 'oi cham glauc cadastr cnh digital descobr ja cadastr algu pass dev faz', 'pessim nao funcion aind fic bob sorr pisc olhos tamb servic govern funcion pra acredit', 'dad esta desatualis sit nao lembr senh nao consig ter acess nad gost numer telefon pra contat', 'fac pra acess cont nao consegu mud senh email pq nao aparec opca tant pagin app', 'app nao acess login instal aplic bloqu tod plataform acess cont nao atualiz', 'dad cont gov br nom mae errad fac p corrig nao consig ter acess dad ctps digital', 'tent verificaca inval nao consig recuper lamentavel onde precis tant ultiliz ness dias quarenten', 'aplic nao serv nad gost sab vou pag bolet ser nao acess nunc fiz cadastr la const fiz', 'edit nao adiant tent princip naveg pagin fic estagn formulari nao funcion obrig ajud voc', 'part reconhec facial recuper senh nao funcion fic solicit var form imagens rost erro final', 'nao cnh faz filh nao conseg recuper tal senh dess tal cadastr diz cpf ja cadastr', 'nao cadastr outr pesso usand dad tent tod jeit link alter cadastr nao consig ai fic dificil', 'aplic inutil tent cadastr nao consig nao caracterist cadastr aplic govern pod espeper', 'absurd vcs complic vid perd senh nao tou consegu faz outr inutil sit aapp resolv leu problem', 'nao funcion direit perd maior temp tent faz etap reconhec facial erro resum faz raiv aplic', 'pass raiv fic ped reconhec fac ja fiqu ate cabec baix nao reconhec ate agor pass raiv aqu', 'pessim pra reconhec facial dor pescoc tant fic vira rost pra tir selfi final acab expir', 'horrivel app nao consegu entrar pois ped pra tir confirmaca facial fiqu quas mei hor fot nunc sai', 'horrivel nao opca recuperaca senh mei boc vam melhor brasil dess jeit nao ne respeit cidada', 'nao consig recuper senh cheg mensag validaca celul sms sit nao abre espac pra digit horrivel aplic', 'quant temp lev faz validaca facial fiqu hor rind pisc nenhum respost irrit absurd', 'precis ger bolet enem nao consig acess conclu nenhum opco recuper senh nao sei faz ness aplic', 'raiv aparec cadastr nunc fiz cadastr nao senh nao parec cri nov senh nao serv pra nad aplic', 'nao consig utiliz cadastr nov usuari diz ja exist nao cadastr senh moment algum dai mensag user senh inval', 'nao consegu form algum recuper senh ja tent tod form fac pod ter troc senh complic dem', 'fiz inscrica enem tent entrar email outr numer cadastr q nao nao consegu ter acess ajud', 'ha algu cadastr cpf nao explic pois nao acess cont pq ha algu outr nom pass mim', 'app hor faz reconhec facial diz fot nao correspond cadastr nao fiz nenhum cadastr antes possivel', 'aplic ser interess prov vid recurs nao funcion voc segu orientaco nao consegu valid', 'diz cadastr assim termin inscrica enem nao agor vou consegu acompanh inscrica senh', 'pessim diz ja cont send nunc fiz nenhum ped senh recuper encaminh pra baix outr app mesm', 'nao consegu entrar pra faz carteir trabalh diz nao cnh send nao precis faz carteir trabalh digital', 'nao cadastr coloc cpf inform ja cadastr tent recup senh email telefon nao sao', 'digit cpf pra cadastr ai pagin trav reinic pagin pra tent nov deu cpf ja cadastr resolv situaca', 'pessim tent faz reconhec fac pra redefin senh nunc cadastr erro nao reconhec rost app frac inoper', 'aplic erro temp tod nao serv pra nad tent faz reconhec facial var vez fiz tod gest certinh deu erro', 'entre pagin reconhec vid dai ped qr cod nao ta cert ai nao ti outr opca pront nao vai lug nenhum nao cnh digital', 'assunt interess por relaca curs deix desej tamb faz seman tent inscrev curs profoc nao consig', 'send experienc terrivel precis dess cadastr pro enem ped senh nao consig sequ redefin la favor ajud', 'nao funcion coloc cadastr nov const ja exist cadastr cpf entra cpf const nao ha dad biometr cadastr', 'aparec ja login email envi pra recuper senh nao precis entrar app dev ver cois sobr enem ningu resolv', 'diz q ja cadastr nunc cadastr hor recuper senh nunc fiz aparec mail telefon q ridicul', 'cont nao reconhec facial obvi nenhum fot govern tir sorr ali ped pra pisc olhos sorr assim nao ne', 'nao consig acess cont fac proced validaca facial nao dar sequenc vou cri cont diz ja send q nao proced', 'tent entrar diz ja cont send nunc fiz cont pra troc senh nao aparec opca email nad fic agor', 'aplic trav impossibilit faz consult menu principal diz dad confront nao deix vc atualiz cadastr', 'impossivel recuper senh voc cnh voc coloc qr cod ler faz doid nao le arrum', 'nao mud senh diz q incorret tent faz outr nao cert hor faz self tbm diz q nao correspond document', 'nao consegu faz prov vid acab temp ea cam nao capit moviment rost ter outr jeit', 'ola net fez cadastr aplic escol cpf coloc nom agor quer mud nom coloc fic dad', 'aplic horrivel login senh nao termin login jeit nenhum diz senh incorret pec mud senh erro', 'pessim nao consig acess dev prov vid nunc reconhec diz nao ha registr biometr pra document nao lib acess', 'dei estrel porqu nao cont aplic cont ja possu cont fac acess aplic gov br obrig', 'imag fot pret fiz ped pisc sorr dand erro poss atualiz dad coloc fac biometr', 'nao carteir habilitaco gent faz tod process fot rap nao deix agent ler direit faz process ja vai finaliz', 'terrivel nao val fot nunc precis valid celul nao funcion sit comput aqu app nad funcion govern ta drog', 'tent redefin senh sempr pec envi codig celul volt pagin inicial precis redefin senh', 'tir opca valid senh email tent valid senh nad vou pra validaca codig celul nao aparec camp pra valid', 'horrivel consegu log pq aplic nao reconhec rost tod outr aplic govern pra atrapalh vid', 'pessim precis cham imprens pra faz queix sobr maquin parec mesm respost tod usuari jog tv pov', 'horrivel nao nenhum opca reset senh nunc cadastr nenhum senh vou consegu acess nao exist opca reinic senh absurd', 'quer sab cadastr send nunc entre ness negoci app horrivel nao consegu faz nad quer fal responsavel fac', 'fiz cadastr esquec senh vou tent recuper dad esta errad mail senh ja tent tod form nao sei oqu faz', 'app horrivel quer entrar pagin particip inep fal cont send nunc cadastr nao consig mud senh jeit nenhum', 'nao comsig recuper senh vou faz cadastr fal ja nuc fiz pess app presiss dar emtrad seugur desempreg', 'pessim nao reconhec qrcod propri sit tamb nao funcion apen erro nao possivel faz autentificaca usand reconhec facial', 'horrivel tent recuper senh mand vari envi pra tal faq fiz exat ped erro pagin resum horrivel impossivel acess', 'gent nao consig entrar ness aplic faz dias tent vou faz prov vid nao consig pass algu pod ajud', 'ser app govern aplic amador opco necess prossegu precis imediat pag bolet enem revolv log aplic inutil', 'nao consig acess cont nao lembr senh ja pegu codig acess internet banking caix assim nao consig conclu inscrica enem', 'horrivel pior fbi pra receb algo gent duv tao burocrat gent tir tod fot notific sobr expiraca temp', 'senh envi via sms nao aceit resolv nao funcion ja test sms senh cheg nao acess problem sit aplic voc verifiqu', 'boa tard nao consig acess nad apk clic entrar posicion rost dist diz q nao cadastr biometr sit nao valid dad', 'pessim nao receb aind nao sei diz tent tard hor aparec diz dad divergent nao diz ate agor nao receb', 'horrivel tent cadastr ja cadastr ajud recuper senh algu soub recuper senh favor ajud obrig', 'nao cert hor fotograf fic mand vir pra esquerd direit sorr fech olhos fiz var vez nenhum deu cert acab temp', 'nao consig receb senh mail fiz cpf nao cont cnh consig receb senh ajud ae nao consegu nao far enem', 'indign revolt ter direit trabalh proib degred covid unic apoi dev ter auxili emergencial send neg', 'trat app utiliz tbm idos pod ser simpl objetiv facil deficient sem visu nao total deficient', 'cpf mail assoc nunc use pra redefin senh quas impossivel dao opco banc validaca cnh nenhum funcion pessim', 'serv pra nad ja dentr esta outr apps ja vam viv commoditi pra sempr pang modern desinstal', 'fraud permit acess pesso possu cnh realiz biometr facial minim duvid ja li recomend la fac nao solucion nad', 'fac pra ter senh ness aplic ruim voc fal cadastr opca senh voc der pra faz cadastr cois senh', 'mostr q ja cadastr mail nao celul algum pesso roub dad melhor favor achem soluco pra resolv log', 'pessim esta diz ja cadastr nunc fiz nenhum cadastr cont nao opca usar email algum numer celul recuper senh', 'tent recuper senh gov trav avanc nao sequenc process complic epoc pandem nao pra fic servic public funcion', 'nao possivel faz acompanh inscrica enem nao fat ser isent tent faz acompanh nao consig sent nesci', 'pessim aplic apos faz login temp necessari faz login nov pod adicion funcional app mostr bem ineficienc estad', 'hor faz prov vid cam mand vir direit esquerd centraliz rost sorr fech olhos final nao cert aplic ruim', 'app ped pra faz login registr rost hor verific pesso por diz n encontr nad cadastr biometr nao consig usar motiv', 'bom dia precis dess cadastr realiz inscrica enem problem tod entre sit voc ja recomend carreg pagin', 'aplic pessim fiz cadastr mae vou acess aparec usuari senh inval inval ja mud senh nad resolv favor', 'horrivel fiz inscrica dad tod cert por nao consig acess senh vou alter senh codig vai outr numer nao', 'negoci fic pisc sorr pra prov ta viv nao funcion dev pens outr cois caus diss nao consig acess aplic mau pens', 'app pessim tud erro nao funcion nao atend necess nao resolv problem nao opca solucion nad nao cumpr final pessim horrivel', 'pessim nao consig recuper senh enem mail sei la nao nenhum opca recuper mei celul outr mail pessim', 'app horrivel infeliz nao consig registr captur imag facial nao sei burocrat dem tud ger senh pod acompanh enem', 'nunc cri cont fal q ja cont nao entend vou tent recuper aparec numer email nao sao ser algu roub cpf', 'dias tent recuper senh nao consig canal ajud nao tir duv tent recuper inss sucess tamb quer soluca problem', 'pod vc pod faz cadastr carteir motor fal seri nao muit gent tamb nad ver quer diz pra dinheir vergonh pais', 'esquec senh carteir trabalh digital fac fac nov senh aparec q senh incorret ser q poss exclu cont faz nov cont', 'app ate interess dev ter camp exclu cont pc ate exist informaca form nenhum ser possivel exclu cadastr realiz absurd', 'boa noit carteir habilitaca digital hor faz validaca fot facil segund erro faz tdo cert vcs lig', 'faz cadastr descobr ja send nunc fiz nenhum cadastr ness app sit mail cadastr nao fac pra resolv', 'aind nao consig realiz prov vid atrav cam celul qualidad imag fic bem ruim assim nao conseg reconhec rost segu proced', 'nao consig cadastr coloc cpf diz detect inconsistenc dad cadastr bas cpf unic informaca coloqu cpf inconsistenc', 'ja fiz var tentat baix aplic nao consig acess celul consegu acess outr aparelh ter baix aplic problem', 'possivel faz biometr prov vid entretant nao saiu comprov prov vid faz ter certez realiz nao problem inss', 'gent amor deus nao ia dar not nenhum deix estrel pra ver vcs melhor tal reconhec facial fiqu hor olhand pra cam nao consegu nad', 'bem nunc use app por cri cont la ja inform cadastr coloc recuperaca senh aparec inic mail telefon nunc vi vid', 'pessim ja const cadastr ped senh nao cri senh algum tent recuper senh solicit reconhec facil ta vam la apos tentat frustrant bor desinstal', 'aplic red govern sao piad nad funcion repartico public nao funcion diz govern bom basic nao funcion nao acess erro', 'utlil dess aplic nao funca algum ano nad funcion dess aplic govern assim govern tamb nao funcion bem', 'mes tent usar app pai nao consig nao lib bendit questionari laboral fic dand erro definit ide nao facilit vid', 'ruim dev ter vergonh coloc app ness condico informaco pur perd temp brincadeir faz usuari sint verdadeir lix', 'baix app pq nao consegu recadastr faq vcs mand agent ir la nov agor oqu faz nao consigu la aqu la nao aparec opca mail pq', 'pior app govern ja fiz conseg acess cnh nao cnh nao consig acess maneir nenhum pec favor verifiqu oferec suport melhor', 'nao ajud nad ja fiz tod proced clic esquec senh q nao receb email mesag celul pra recup senh ja perd enem ser q vou perd nov', 'pessim voc pod facilit recuperaca senh enem pagin particip fic complic form atual pod envi senh mail antes agor horrivel', 'nao sei faz nao cont mai digit cpf diz ja cont precis urgent faz pra ter acess cont particip enem nao sei faz', 'diz ja cadastr nao nao consig faz imped acess pagin particip enem sab inscrica finaliz nao dev faz', 'app horrivel nunc fiz cadastr ness aplic nao cnh digital acess cpf fal ja cadastr esta usand cpf arrum urgent fac cois direit', 'nao sei senh pq nunc abri cont gov agor pec pra revup senh opca inval nao cnh nao cont banc brasil numer nao fac', 'cas fal ja cont tod senh col inval ruim nao atualiz cadastr nao opca quer ser tud digital nao dao opca dificil', 'ola gost sab fac alter dad pois algu entrou cpf agor nao consig recuper senh pq coloc numer outr pesso mail mim ajud', 'nao coloqu estrel negat porqu nao lix nao valid codig facial ja tent faz hor segu aind nad cpf cert', 'tent entrar aplic fic ped inicial reconhec facial send feit final diz dad nao const bas dad assim ja cadastr', 'tent faz reconhec facial avo quas nunc cert hor selfi erro fac avo anos nao vou lev lo banc ness pandem', 'quer inscrev enem ja cadastr gov br assim diz entrar gov br ache pagin complex nao opca exclu cadastr pod resolv', 'faz cadastr cpf ja aparec cadastr nao telefon email recuper senh nao sao porfavor soluca algu utiliz cpf aplic', 'tent cri cont cri diz ja cadastr vou redefin senh aparec dad nao sao ja entre sit resolv sit dand erro', 'nao consig imprim bolet faz enem inscrev dia nad dess bolet tent cadastr outr numer oqu fac cas contrari nao vou consegu faz enem', 'ultim atualizaca inutiliz aplic ped pra faz nov validaca facial nao sequenc par funcion pront ja hav feit validaca facial agor app morr', 'nao consig efetu login pq cpf ja cadastr por nao fiz cadastr vou troc senh email desconhec nao permissa tent numer celul', 'problem login dad estar incorret mail telefon contat despach vc realiz algum servic solicit informaco esper ter ajud', 'ped ler qrcod pod acess aplic abro comput erro diz aplic le qr cod compativel send qrcod propri govern vai entend', 'boa noit bot cpf fal ja cadastr vou redefin senh aparec email nao conhec numer telefon tamb nao conhec fac pra consegu redefin senh', 'nao sei acontec tir fot aparec nao disponivel document contador indic link fac tud certinh nao consig vou receb ta tao burocrat', 'app pessim nao cri cont erro temp tod dias tent faz cadastr pra verific metad pagament nao consig acess metod validaca facial pessim', 'amor deus acontec nao consig faz nov senh fic ped senh tempor pra faz nov soub antig pra ia faz denov precis entrad segur nad', 'algu usand dad pois inform ja cadastr por nunc fiz recuperaca senh mail telefon nao pod acontec tip cois crim', 'app nao send util dias tent faz validaca nao consig tir fot aparec nao const dad sistem nao consig faz alteraca mei caus diss', 'tent entrar aparec ja usuari nao cri cont fal disposit trav bug acho augu usand cpf fac recuper acess', 'tent recuper senh pra entrar pagin enem tod hor aplic ped reconhec facial log segu tod hor erro vez ajud atrapalh aind', 'dias tent recuper senh nad aguard sms nunc cheg pra simplific vid torn cois fac ja tent tod senh possiv entra', 'tent acess diz ja cont abri primeir vez cadastr ness ano provavel feit cpf cadastr precis ajud sab acontec', 'complic quer ped agend pesso nao sistem embaralh tud jog caminh chei duv precis simplific atend internet', 'perd acess mail tamb esquec senh acess enem fiz cadastr ness gov br consig recuper grat respond cas consig respond dou estrel', 'simples frustrant primeir etap ped q vc preench formulari reproduca audi ingles aind cim distorc aind verific ajud qdo acess tbm tud ingles', 'pessim nao consig recuper senh pois email cadastr ta inval nao alter precis faz inscrica enem nao consig faz acess gov br arrum sit horrivel', 'fac pra entrar cont enem app cadastr nao consegu acess pagin enem fal ja cadastr vou tent recuper senh nunc cert', 'funca recuper cont validaca facial sempr segund etap coloc dat emissa habilitaca nao avanc form algum precis faz login urgent cont', 'nao consig cadastr jeit nenhum diz cpf cadastr nao email aparec ja tent entrar tod lug nao consig pior algu usa cpf possivel', 'nao comsig cri cont acho vou comsequ sempr fal cpf ja casatr cadastr nad fac pra acess cont email mostr errad numer cel tamb', 'nao opca mail recuper senh cont voc fic mand link ajud mostr imag mail coloqu opca mail par dificult cois vergonh', 'ate mail fornec erro precis acess obter document app nao intuit falh q imped acess nunc cadastr diz q ja cadastr poss resolv', 'seri nao consig entrar aplic ja seman porqu ped prov vid fac tod proced duas tres quatr vez repet nad enta quer diz perd tud', 'tend dificuldad plataform precis urgenc envi mail corrig alguns erros solicit segur desempreg nao atend mail poss entrar contat', 'trabalh sistem tao burocrat sincer viv realidad diferent pq nao simplific acess acess sistem finalizaca qualqu process nest sistem pessim', 'nao consegu entrar ness app primeir acess senh email antig pod exist dad senh pesso mud pra faz enem quer ver vai fic', 'horrivel nao consig cadastr fal ja exist cadastr fez numer pessim nao consig fal gravaca cai ligaca poup temp fech fac solicit segur desempreg', 'cadastr consig acess cont n consig entrad segur desempreg porqu diz q cost divergenc dad cadastr q q valid dad habilit dad fac pra resolv', 'parabens imediat respost hilari pitoresc estapafurd diversa garant nao consig par rir reconhec facial divert lembr grav vid compartilh alegr', 'nao consegu recuper senh sms nao envi mail nao opca ja ate tent codig qr app fal nao compativel aplic precis chn digital', 'aplic nao opca recuper senh via sms mail aind acab prejudic muit gent precis resolv situaca aind sab tud cert referent enem', 'melhor tud opco dao send nao acess mail nao cnh cont banc epoc celul pra pod coloc numer seri comparaca', 'esquec senh tent entra nao dar aparec esquec senh dai tent comput fal vai mand codig dai cheg codig nao aparec lug nenhum coloc codig', 'vou cadastr fal ja cadastr nunc fiz cadastr nenhum dev ser don aplic fic cadastr outr usand outr email outr numer telefon cpf outr', 'gost ajud pois fiz cadastr nao consig acess dand senh incorret nao ta incorret ja salv automat tent recuper voc envi codig verificaca nao senh tempor', 'nao consig entrar tamb app mensag ja cadastr send nunc cadastr pergunt si ja cai outr cont outr banc inform rh empres trabalh', 'onde list servic disponibiliz govern federal nao ache nad nao coloc titul carta sus cnh passaport etc tud aqu inss assim gent acess tud app', 'pessim nao consig realiz cadastr porqu nao cnh errad pois possu problem saud imped agor app imped visualiz andament benefici nao ter cnh', 'senh uso pra entrar aplic nao serv diz errad alter senh algum pqp pior sab nao exist nenhum form recuper senh funcion governinh bagunc', 'direit benefici emergencial fiz cadastr ness sit caix banc vez nao const nad cpf dev faz receb ja empres aleg nao pod faz nad', 'precis recuper senh por mail cadastr nao acess validaca facil nao funcion direit sempr erro tod hor mand faz movimentaca cabec nunc cert', 'gent nao consig acess nunc fiz cadastr ai entrar fac diz q ja cont opca redefin senh nao telefon cadastr nao email cadastr nao entrar', 'esquec senh mand codic verificaca sai pra ver qd volt aplic volt inici tamb tent autentificaca fac aplic nao reconhec favor arrum', 'pessim dias tent usar const ja cont ped senh tempor sei senh horrivel vou perd faz enem caus dess aplic horrivel opco redefin senh', 'favor ajud precis entrar pra ver inscrica aceit nao consig diz q ja fiz cadastr ultim vez q fiz enem lembr mail men senh coloqu fac', 'bem muit dificuldad cri login nest app tent cpf nao deu ate cit mesm cois nao nad logim gov br nao usar app sin facil arrum erros logim', 'ruim sistem fic ped pra centraliz rost vir pra direit nao nenhum result posit nao consegu acess caus dest besteir fot nao consegu acert desisntal porqu nao prest', 'nao email cadastr enem perd senh mud email consig entrar lug nenhum fiz inscrica enem ano inscrit onde envi email ajud nao poss baix app internet acab', 'nao consig cadastr ja faz quas seman tent fal ja cadastr send nunc cadastr tent redefeni apresent email nunc vi ser algu pass mim', 'ide boa comput part cri cont validaca facial segund item dad pesso complet dad bota avanc nao funcion assim nao prosegu nao sai segund pagin', 'bom dia dias nao consig recuper senh acess cont precis mesm realizaca inscrica enem parec tant sit quant aplic si apresent irregular dev faz', 'lix nao funcion nao deix vc acess recuper senh are digit senh falt marret tecl pra inser algum dad nao reconhec nad respond desenvolvedor fiz sit app nad funcion', 'tav tud cert entrav tud tranquil ai ped verificaca facial nao lembr ter feit por sempr diz nao confer dad fot envi nao mesm fot comparaca fac pra resolv obrig', 'nao sei senh cadastr quer solicit segur desempreg nao consig cont dess senh var opco resgat senh unic opca disponivel confirmaca dad nao abre sit', 'pessim diz cpf ja cadastr nunc fiz cadastr ness sit vou alter senh aparec qie nao exist email cadastr numer qie cadastr paran mor joinvill sant cat', 'nao consig atualiz numer telefon ja tent celul comput ped pra atualiz cep tamb cep comec zer sistem nao aceit apag dev faz edit use gov br naveg', 'tend muit dor cabec nao consig form algum refaz senh porqu ped senh provisor nao precis resolv cois import aplic nao consig ultim atualizaca pior', 'ta aparec cpf ja cadastr nunc fiz cadastr nenhum alem tud dad aparecenc vincul cpf nao sao aind cim nao consig acess dad oqu dificult acess app enem', 'nao ache qr cod sit gov br aqu oit tentat consegu log reconhec facial legal inic cri sit app login unic precis exig integraca login qndo sistem capaz faz', 'lixooo miseravel tud govern ja possu cont n consig entrar cont imoral reconhec facial pod hipocrit desgrac q projet aplic fuleir dess fuleir propri aplic', 'bom dia tend dificuldad verificaca facial pois circul vermelh nao fic par amarel fic part cim lad direit tel alguns moment aparec part central nao fic la form constant', 'pessim aplic nunc cri cont nest app fal ja login senh nao conseg refaz nov senh app dificil ser usad pouc explicaca pra facilit pra populaca aind ness epoc pandem not', 'aplic horrivel pois nao redefin senh acess pois aparec email numer telefon nao nao conseg ler carteir digital ja fiz tod pass pass vcs diss continu geit', 'pessim horrivel nao consig recuper senh mail coloc pra recuper aparec dad desconhec muit irrespons vcs esta cad vez prejudic estud cad vez complicaco', 'dou menor not possivel caus nao consig recuper senh poss mud mail caus ter perd antig outr celul resolv porqu impossivel recuper senh situaca q sit obrig', 'nunc fiz cont diz q ja cadastr pod app ser tao inutil necessit document carr instal carteir digital transit mesm tamb diz q ja cadastr nunc cadastr fac pra acess dad', 'pessim sistem cad vez dificult vid cidada pagu doc veicul nao consig acess extingu papel doc port obrigatori obrig usar app lix nao funcion vou acion justic', 'inutil nao vonsig faz cont ver acompanh enem pois diz cpf ja cadastr send numer recuperaca senh complet desconhec alem nao possu habilitaca reconhec facial', 'pass probelm parec nao vai resolv coloc senh diz inval send q nn email ja nao consig acess entro faq pra tent resolv faz redirecion sit nenhum tip ajud', 'prov vid facil dificil pass rod etap solicit pra confirm voc voc propri sistem aplic inform dev voc nao ter cnh nao possivel liber acess grand falt respeit', 'olha nao dou estrel porqu app ta primeir versa pois depend dess app ness versa nao vou consegu bot fot nel qr cod dev ser val tod document pois nao cnh pq nao sei dirig', 'boa tard app diz cpf ja ja cadastr nao consig renov senh pois vcs preench dad numer celul antig referent app inss nao consig alter favor trag soluca pois precis acompanh enem', 'ola tent ajud amig lembr senh nao conseg entrar part recuper senh aparec banc inss validaca cnh nenhum email celul nao aparec inscrica termin hoj auxil niss', 'boa tard nao possu comput nao faz leitur qr cod bax app agor pouc nao poss cnh assim const cadastr biometr facial solicit ajud soluca pod acess app favor aguard desd ja obrig', 'ridicul app sit nad funcion dias tent entrad segur nunc finaliz cont senh tempor inval favor tent nov nunc sai diss ai desrespeit enorm gesta federal burr incompetent', 'nao consig acess gov br nao lembr senh sit nao conseg faz atualizaca senh pois fal vai envi link pra alter nunc cheg link quer realiz cadastr enem nao consig pk dad esta desatualiz nao atualiz', 'fiz cont cheg senh tempor entant const incorret valid cont app nao erro digitaca pois sao apen digit milha tentat ja fiz problem nao const faq sempr desenvolvedor suger', 'fiz cadastr app cpf digital dia junh exit tent acess apps cnh digital detran rj gov br n exit seguint informaca senh cpf inval mesm senh cpf digital consig acess normal', 'pessim servic gov b tent faz segur desempreg recuper senh send nunc cadastr ness aplic nenhum outr cpf diz ja cadastr agor tod atend facil fech nao consig resolv problem', 'aplic sit sao inut nao funcion desenvolvedor nao sab coloc funcion simpl aplic respost sempr mesm verific orientaco faq duv tod sab problem nad diz la funcional', 'pessim nao consig entra faz duas seman tent redefin senh nao consig ja tent tod tip sit mand ja fiz tud nao consegu redefin senh pod ger bolet enem ai vou ped ano culp voc', 'cadastr cpf diss ja cont ai entrar nenhum senh coloqu deu cert tamb nao consig mud senh nad nunc cadastr app diz sim agor inscrica enem ser prejudic propri govern', 'nao record ter cri perfil tent entrar diz cpf ja cadastr nao numer nao cheg nad mail poss acess ja fiz proced nad alteraca senh cois assim necessit entrar n soluco', 'horrivel aplic diz cpf cadastr acess gov br nunc cadastr nad tip ai mand gent pra sit la mand pra outr final cont nao acess porqu sit nao segur precis respost', 'nao consegu acess senh pois esquec nao aparec opca email mud mostr sobr cont banc tud nao precis pra entrar pagin particip enem ja faq ajud nao aparec opca email celul', 'gov nao funcion jeit nenhum aplic diz ja cont cadastr nao opco recuperaca ja tent tod mei nao funcion pior pra acess pagin particip enem exig cont nao sei faz', 'bom dia instal aplic gov celul por nao consig usa lo pois solicit fac leitur qr cod comput nao consig localiz opca sit onde fic opca comput poss acess gov via celul', 'fal cont senh inval aparec mail telefon nao acess nao consig alter senh dev ter central atend pra poss resolv precis consult pagament acord individual nao consig', 'gost sab pq nao consig faz cadastr send aparec outr email nao nao opca troc email ai fic dificil hein numer contat aparec ja fal ja cont send nunc fiz agor quer faz nao', 'gov br nao diss precis acess cont pra faz inscrica enem contrari precis entra pagin particip enem entra acess sit gov br quer entrar pagin peg numer inscrica pass nao consig entrar', 'aplic ruim nao consig faz verificaca facil dias tent entrar dia q cert entrar verificaca facil fic quas hor tent tir fot nao jeit nenhum cnh assim nao dar faz precis ajud', 'acho interess prov vid reconhec facial reconhec precis ser melhor demor instruco dad olho fech assim vir pra ca vir pra la sorr etc pass temp nao cert precis mud', 'olha baix app cel sucess abrir msm primeir ped pra autentic fot rost segu comand var vez nad liber acess parec brincadeir car nao recom complicaco msm ofec acess', 'coloc cadastr pois ate onde sei nao cadastr fac proced tir fot aparec mensag nao biometr banc dad incoerent app horrivel pessim funcional ali maior ferrament govern', 'duv pior experienc ja aplic feit ser irracion pod alem tud descriminatori exig tir ocul tir fot angul necessari ler tel comand pesso usa ocul porqu precis pra ler', 'mau uso dinheir public nao sei pretend lanc app tao imatur favor volt pra pranchet par ped pro suport dar respost gener nao resolv problem biometr nao funcion nel precis melhor pra ser consider ruim', 'pod ser especif simplific acess suport consegu solucion problem senh men inval caract espec nao not avis quant dev ter men der trabalh respond obrig atenca', 'aplic ridicul acus ja cadastr nunc ter feit tent alter senh diz cpf cadastr email nao quer dar possibil alter ja faq tent soluco nad horrivel confus desorganiz', 'app ridicul pass raiv ness aplic nao facilit pouc vid nao sei ide incrivel coloc opco recuper senh pq melhor altern tav antes sit mud ta lix genteee amor deus', 'tent finaliz cadastr por nao consegu dev biometr ja tir fot tod maneir possiv nenhum result fot sempr fic qualidad escur aplic celul use mesm cam fot sai nit aguard respost', 'precis faz enem ano inscrica coloqu mail telefon nao lembr senh gov br nao poss peg bolet pag nao pod recuper cont mail telefon enta voc ped email tud nao co sig recuper', 'algu usand dad faz cadastr diz ja cadastr email telefon coloc nao sao precis faz login inscrev enem cas prejudic pergunt ajud sit oferec nao ajud nad resolv problem', 'lix aplic nao ha contr cri cpf diz aplic ha ha nao opca acess tao pouc opca redefin senh impressa pass funca dificult qualqu tip process precis pass simples inutil', 'part nunc entre cpf ness gov br nao recuper senh pq nao coloc email telefon explicaca pra pesso cpf cadastr gov br nunc cadastr nao vem recuper senh nao', 'dev exist outr form recuperaca senh pois email numer telefon aparec nao pertenc fal chegu cri cont insist diz usuari possu cont dess form nao consig ter acess informaco enem send prejudic', 'atualiz app nao lembr senh fac proced tod hor faz reconhec facial pagin erro favor arrum pois trabalh motoboy precis cnh pois perd papel deem respost util pois qie vcs respond fic vag nao ajud nad obrig', 'horrivel aplic faz cadastr diz cpf ja cadastr opca recuper senh numer celul celul cadastr nao recuperaca cnh nao funcion resum algu usand cpf pass mim fac desfaz cont irregul', 'esquec senh tent faz realizaca verificaca fot nao consig ped centraliz rost vir direit vir esquerd temp acab faz retom senh form diferent eficaz ja tent men vez nao consegu registr cnh', 'aqu dev respond ctps ta problem quer acess benefici nao aparec fic aprec pra mim respod uns questionari nao aparec nenhum pergunt fic dand erro requisica tod vez ja ligu nunc cert ja pra perd segur desempreg caus diss', 'desesper recuper senh anos lut dedicaca estud vestibul enem sofr humilhaco cheg ate aqu impossibilit inscrev enem unic opca esper proxim ano favor implor ajud situaca desagradavel', 'horrivel nao consegu faz login pois diz cpf ja cadastr coloc esquec senh aparec numer telefon nunc vi vid ja tent tod mod mud ate agor nad precis ter acess pra pod acompanh inscrica enem', 'const cpf cadastr email telefon nao sao sistem recuper senh falh tod opco nao lev lug algum torn impossivel recuper cont quer cri tod possiv soluco recuper senh nao bat opco disponiv', 'boa tard n consig cadastr aplicat const ke ja usuari nunc acess aplicat numer telefon ddd ke nunc vi email ke sei onde kem n adiant fal pra verific email telefon si n opca algu usand dad engan', 'pessim app assim vai tent cadastr ja utiliz cpf cri cont ja send utiliz email telefon nao sao precis bolet enem pra recuper senh total horrivel nao ter opca decent pra nao quer respost automat', 'senhor precis alter capital social empres sit apos inser login senh abre tel pur branc ger erro gateway tim instal bendit aplic por nao possu cnh imediat arremess app precis auxili aguard retorn', 'pur descas pesso sistem ti precis form nov equip nao profissional competent criaca aplic bom nad funcion ped pra ler qr cod nad funcion esper criador leam consert vergonh precis print mal funcion dess sistem', 'pessim ja cadastr fiz reconhec facial final aleg n biometr cadastr n cnh fac ja segund vez mud dia pagament auxili emergencial dess vez n dat n fal gost soluca precis urgenc dess liberaca', 'boa tard favor solicit auxili proced soluca problem acab baix app tent acess nao consegu const cadastr biometr facial nao fiz cadastr possu cnh fac ter acess aplic agor aguard desd ja obrig', 'vai respeit cidada ningu molequ nao ok pra vcs coloc prov vid mand vir rost pra direit esquerd ped pra sorr coit usar dentadur vai ate fic constrang falt dent frent fic constrang tbm vai respeit cidada camb faz', 'pens ia recuper acess ne pois nunc mor sp aparec ja cadastr numer sp tent recuper ai vei apk pra ajud ai hor vou ler qrcod nao cert pois diz inval send busc pra ler qrcod outr apk ai le normal', 'nao consig entrar aplic pois diz pra digit senh nunc fiz senh algum dai tent recuper senh nao consig pois numer telefon pra ser envi mensag recuperaca senh nao numer ai fic dificil viu ache pessim pois nao consig acess form algum', 'nao consig acess nenhum plataform govern caus senh entant tent recuper senh nao consig simples orga public esta paralis nao dar entrad benifici segur desempreg caos atend onlin presencial atend brasil par', 'aplic nao funcion precis dar entrad segur desempreg nao faz leitur qr cod procur advog entrar process relaca sempr erro hor finaliz infeliz poupatemp fech dev covid infeliz jeit nao receb segur desempreg', 'nao consegu acess diz cont send nunc entre ness aplic mail ta cadastr nao acess nao ta cadastr nenhum numer celul nao sei fac pert receb benefici trabalh nao vou pod receb caus diss', 'aplic nao funcion nao finaliz reconhec facial dias tent alter senh ja fiz reclamaca escrit ja ligu nao apresent ate moment form acess cont ressalt ha urgenc acess cont vist ha praz ser cumpr junt inss junt document', 'aplic lix fal ja fiz cadastr send nunc fiz vid precis ver acontec nao ter receb dinheir acord empres trabalh govern venc dia ate agor nad receb simples nao consig sab acontec aplic nao ta ajud nad', 'possivel migr servic onde poss utiliz cnh agor antes acess normal cpf senh agor consig faz prov vid desbloquei leitur biometr fac nao respond lei faq ja li nao nad resolv maldit problem soluco resolv problem', 'realiz recuperaca senh receb mail vou faz login solicit senh tempor cri nov senh tempor precis ir ate agenc qua encontr fech moment enta faz internet banking possu cont caix nao encontr opca cri nov senh', 'ide boa aind falt algum cois afast trabalh desd mai acord preservaca empreg ja grup risc receb empres por gov ate agor nad nao sei onde reclam gov cad vez entro tir fot faz prov vid precis ajud', 'quer sab recuper senh la inform nao possu email cadastr telefon cadastr la nao comig cnh nao digital tent assoc banc aplic vcs envi mensag celul nao possu ptecis ger bolet enem vcs esta deix maos atad', 'boa tard algu usand dad coloc cpf inform ja possu cadastr por email numer desconhec ate numer outr ddd diferent coloc pra recuper senh altern mail numer sao destint nao conhec mail numer cadastr', 'app lix tent entrar ja diz cont nunc ter cadastr pod ai recuper senh abriu pagin outr mail nao numer telefon ddd send ddd final telefon nao esper resolv rap possivel', 'pessim nunc cadastr ness sit cpf cadastr dad outr pesso ja mand solicitaca mudanc dad respond maquin ped faz q ja feit enem pra faz recei nao pod faz lo pois nao consig resolv problem desgast situaca estress', 'ped pra faz prov vid parec ridicul orientaco aparec tel lid temp orient fech olhos vir rost lad bol tent var vez impossivel ped ajud algu ler tel temp sempr espir antes conclu ridicul', 'bom algu utiliz cpf ness sistem outr pesso fez cadastr porqu nao feit cadastr gov br coloc opca esquec senh numer outr pesso tent inscrev enem fal ja inscrit nao feit inscrica faz pod respond favor', 'pessim nunc acess nao redefin senh diz ja ter cont cri send mer ment pois nao cri nad pel sit concig redefin vergonh trat app govern proteca algum qualqu cpf gent cri supost cont vc conseg redefin vc nao cri vergonh', 'cadastr cpf app aparec q ja cadastr cliqu esquec senh aparec envi pra email celul q nunc vi precis ter acess plataform enem link q vc mand entro pagin pass pass apos ped pra clic pod ajud clic sit falh', 'nao consegu recuper senh ja tent var vez coloc receb codig celul n acess pagin recuperaca senh ja tent reconhec facial ja li faq login aind assim n consig mud senh precis diss pod verific bolet pagament inscrica enem precis ajud', 'tent log diz usuari senh incorret nao aparec opca recuperaca senh tent cadastr diz ja possu cadastr nao adiant mand opca sit ajud pois tent tod nenhum funcion usuari fic feit barat tont segu pass ajud vcs total diferent sistem assim nao funcion', 'boa noit ja faz dois mes q tent cadastr ness sit n consig pois fic ped senh tempor nunc ate pq cadastr nunc pass dess part ja tent divers maneir ate pra recuper senh q nunc precis urgenc acess sit pra entrar pagin particip enem pfv facilit vid', 'esquec senh perd acess email cadastr ai nao pra troc senh falt respeit vou sab local prov enem agor vou process voc defensor nao mand mensag aqu pra ir sit cois tal envi fot selfi fot document nao adiant ja mand var vez sacanag', 'nao consig entrar diz ja cadastr send nunc cadastr email senh la recuper cadstr nunc vi nao ja vi outr comentari vi respost ja entre ness link vcs mand tod entrar nao adiant nad jeit vi nao unic problem resolv', 'app dev facilit nao complic vid usuari ja tent faz biometr facial divers vez nao consig conclu proced coloc rost tod posico solicit expir temp tod app govern faz inutil enta lib opca entrar senh nov ja biometr nao funcion adequ', 'nao consig tir fot tud erro posica pessim experienc viv ningu conseg tir fot ja tent tod posico possiv digit pq viv uai cham agent bob aplic vai evolu vai pior antes sup facil revis burocrac tir fot pisc olho val bast voc vao confer', 'aplic ultil funcion reconhec facial validaca precis evolu pouc sistem nao acham aind coloc unic document cadastr recuperaca cnh amig nao tod mund dispo r habilit poup poup hipocris voc achar pais deg mund simplifiqu ajud dev', 'nao consig acompanh inscrica enem pois dificuldad cadastr sit gov br pois moment cadastr diz usuari ja cadastr send nunc fiz cadastr ness sit aparec opco alter senh mail numer telefon pfv consert pois precis conclu inscrica enem ger bolet pra pod pag inscrica', 'ide app otim por nao funcion plen ja feit reclamaca soluco dad nao sao passiv realiz porqu valid fot cnh opco recuper senh mail sms simples nao exist nao sao visiv usuari tant app brows ajeite nao possivel tip cois plen', 'pessim diz ness aplic ja cadrast acontec nao coloc cpf ped senh coloc senh diz ta inval tent recuper senh aparec mail nao cadrastr nao fiz mail nao resum nao consig acess cont pq segund aplic ja cadastr vou consegu entrar misericord', 'pessim aplic nao funcion validaca facial nao envi codig celul cadastr email desconhec nao ha opca sab agenc inss fech nao peg demonstr rendiment impost rend extrat benefici desenvolv primari plataform govern dev ter respeit cidada nao adiant ir faq', 'pra mim nao send util desesper dand divergenc cadastr nao consegu entrad segur desempreg presencial cidad diss aplic nao consegu sint sozinh nest situaca vou ter coloc advog ter direit ter jeit ferrament facil complicaca resolv situaca', 'horivel entre primeir vez baix crvl carr diz ja cadastr tent recuper senh nao funcion nenhum opco validaca facial pagin web nao encontr inss erro tent tard nao entrar contat ningu caix econom nao opco ger codig inss pessim resolv rap cheg respost padra ger maquin', 'pessim tentat recuperaca senh sms nunc cheg nao oferec outr opco fac pratic recuperaca senh muit cas candidat enem nao consegu acess pagin particip acompanh inscrica ate alter dad pag bolet falt preocupaca pov apen acrescent opco recuperaca senh nao funcion', 'aplic bom moment nunc pesso conseg recup senh aind gent envi sms ger codig send nunc codig cheg deem atenca app pesso poss ter acess mesm form reconhec facial pesso pass tard pisc olhos sorr nao cert don aplic agiliz situaca dificil quant pesso precis usar', 'app pessim precis urgent carr tent entrar app diz ja cadastr poss afirm nunc fiz ai vou aba recuper senh opco nenhum confer dad email numer telefon parec app nao segur outr pesso cri cont cpf tent divers vez envi email respost sempr vem automat nenhum soluca', 'nao consig recuper senh pois nao nenum banc credenc nao cnh nao cont banc brasil numer recuperaca senh ja nao possu nao aparec recuper email favor ajud precis dess senh pod receb dinheir govern pois afast trabalh tamb preciss acess pagin particip enem ajud favor', 'nao consig acess pagin particip ver tax pagament pois sit diz ja cadastr por senh diz incorret tent refaz cadastr diz q cadastr tent redefin senh nao aparec nenhum opca celul email send assim nao consig tir bolet decepcion situaca descas govern pra ser simpl caus dor cabec aflit', 'ide app otim execuca pessim mand pra validaca biometr retorn diz nao nenhum tip cadastr biometr junt govern enta diz passaport biometr nao emit govern brasileir aind titul eleitoral biometr colet nao serv pra nad esper melhor app ha muit servic populaca pod ter acess atrav dess plataform', 'tent acess app inform usuari senh esta inval send sempr acess nunc exist problem ja tent refaz cadastr inform ja possu cadastr ja redefin senh continu mensag usuari senh inval gost respost algum problem app pois ja preocup quer acess outr plataform govern nao consig caus aguard retorn previdad', 'aplic inutil cad ano pass complic aind acess prov alem tax car absurd aind invent aplic nao funcion desd abriu inscrica tent acess nad ate agor pois nao consig defin senh nov ped vinculaca pergunt ser respond nao opca redefin senh aplic ridicul inutil total inutil sit fal pq ped direcion aplic', 'pessim precis acompanh acord empres tent realiz primeir cadastr inform ja possu por solicit alteraca senh nenhum dad inform sao numer total estranh cod are sp send mor rs lamentavel send precis sab exat necessit auxili acord fraud utiliz indevid dad autorizaca fraud brasileir', 'precis acess enem tent acess gov br cai aba recuperaca cont ped senh tempor dois dias tent consegu internet pois outr opca ir inss mei lockdown procur suport unic cois faq nao ajud nad links pra ir diret local possibil perd enem pq nao consig ter acess pagin particip imprim bolet', 'inutil cadastr sit gov br cadastr carteir trabalh digital digsus inss outr sit alem cont poupanc caix anos senh email telefon tod atualiz alem enderec ness servic unic aplic quer coloc senh dad corret nao consig termin login caus reconhec facial prov vid nunc reconhec', 'pessim experienc nov plataform nao consig recuper acess nenhum opco fornec quer volt acess transtorn acess dev ser facil execut tend vist muit pesso nest moment dificuldad precis estar present virtual cad dia dificil lamentavel prov vid cam centraliz ped ate pra fech olhos hack desenvolv algo tao amador', 'tod vez tent entrar cont diz senh incorret ja tent tod senh possivel nao consig entrar jeit nenhum ai tent cri cont nov diz ja cadastr nao sei senh cadastr tod vez tent mud senh mand codig verificaca nao serv nad nao aparec opca mud senh resolv algu pod respond favor', 'pior experienc ja vid app faz cadastr diz cpf ja cadastr opca recuper senh celul celul cadastr nao recuperaca cnh nao funcion resum algu cadastr usand cpf pass mim fac pra acess desfaz cont irregul ja fiz boletim ocorrenc vist clar exist uso indev cpf quer soluca nao mensag pront', 'seri app nom cpf fot nao pod ser alter qr cod vej maior reclam recuperaca senh qualqu conseg faz acess diret googl chrom permit salv senh ningu precis ter notebook pra recuper senh necessari acess diret gov br cliqu esquec senh app total util outr funco nao faz nenhum sent instal', 'nao entend servent app imagin app pra guard tod dad cpf ident pis pasep cnh segur social nao entend final tir umas fot rost pq enquadr fac fiz perfil olhos fech lad esquerd direit sorr seri conform solicit termin solicitaco camis pra surpres fot inadequ parabens form negat criador app expliqu melhor final', 'ja faz vari dias tent cadastr nao consig sair primeir tel nao rob nao acontec nad fal expir temp precis faz nov consegu cadastr ja lucr pra faz cadastr ja lut imagin acess informaco indign precis usar servic detran agor precis usar servic carteir trabalh digital nao consig sequ cadastr', 'nao consig jeit nenhum cadastr diz ja cadastr send nunc cadastr precis ter acess pagin particip enem mim ger bolet finaliz inscrica nao nao consig faz enem faq nao prest pra nad recup senh cont men aind diz nao precis cont acess ped ter cont acess precis concert log govern inutil cidada', 'pessim nao consegu ver bolet enem aparec la hav cadastr fiz portant nao sei senh coloc troc opca utiliz banc brasil numer telefon nao usar maneir alem validaca facial nao funcion tent milh vez nao voc pod coloc opca troc senh email sab iri facilit vid muit gent', 'aplic seri problem realiz recuperaca senh primeir nao aparec opca recuperaca senh mail sms limit recuperaca senh utiliz internet banking banc disponiv cnh recuper senh confirmaca dad previdenciari bug tent recuper senh acess mae ha dias sucess pois nao usa internet banking cnh', 'app horrivel nao consegu ter acess pagin particip imprim bolet enem tent tod links cit comentari nad pod indic email telefon val aceit ligaca celul pois nao obrig ter telefon fix favor suport funcion sena nao consegu realiz enem ano temp ja expir ne cas contrari deix pagin particip jeit antes', 'gent ceu email numer telefon cadastr cadastr gov br nao sao cpf sim relat acim nao sab ja cadastr tent recuper senh nao cont bb negoci certific digit nuv sei cnh ta burocrat favor quer recuper senh pq nao deix opca livr adicion nov numer email pra receb codig quer senh nov', 'aplic horrivel nao app plataform tod dess gov br irma nao cosegu faz senh pra acess inscrica enem ja senh send aind cri pra recuper aparec opca banc ai onde ensin recuper aparec opca recuper email sms opco nao banc inss bagunc mal explic ano pass nao nad diss tud email celul bem facil', 'tent entrar n q fal q cod ja cadastr send q nunc entre ness aplic vcs q responsabiliz men numer q dess pra gent lig pra consegu tir duv agor aqu ter aces q la mostr outr numer vcs sempr sao mesm respost tod si quer dar atenca verdad sacanag vcs atras cois q n atenca q pesso q nunc fez cadastr cont q ja', 'horrivel impossivel recuperaca senh nao funcion antig nov qualqu diz dad esta inval nao pod ser verdad porqu receb tod vez confirmaca mail declar nov senh cadastr sucess caus dess servic mal feit nao consig faz inscrica pro enem verific carteir trabalh digital alteraca empreg suport tamb nao funcion ja tent tud jog trac ate hoj', 'gov br adcion fot opca onlin acess chrom acho ate bom app pec reconhec facial vam venh ver concord comig ness quisit sempr cidada entrar app gov br fac impressa facial app dig realiz sucess ano seguint pesso engord emagrec fisionom nao ano anterior ai fic app vai exig impressa facial vai diz deu erro', 'problem coloc cpf inform ja cadastr fraud pois nunc fiz cadastr tent recuper senh aparec numer telefon nao opco voc ja der nao esta val nad nao consig recuper acess agor outr pesso usou cpf vai receb dinheir empres inform nao conseg ter acess pra resolv sistem seguranc dess aplic dev ser segur nao falh', 'aplic nao funcion esquec senh n contat gmail q la unic opco sao entra caix send q n cont la fzr trem la facial n cnh vcs quer recuper precis entra portal enem n consig pq vcs n coloc algo pra recuperaca senh tod mund fzr tranquil sei la confirm cpf pod fzr troc gmail pra ocorr confirmaca precis mud', 'nao consig faz cadastr porqu inform ja possu nunc cadastr nad numer const recuper senh nao ja entre faq pra inform sobr pagin sempr erro finaliz solicit envi ja tent chrom internet explor hav dit erro pers nao consig ter exit fac precis ajud nunc fiz nenhum cadastr algum numer poss lig algum mail precis resolv', 'quer fal algu responsavel dess app inadimissivel ja cadastr sit acess antes baix carteir digital espos la ja const cadastr assim fez outr fiz tod process cadastr recuper senh atrav telefon opca banc nunc entrou vid agor explic possivel quer sab solucion preferenc hj', 'pessim infeliz muit falh mensagens erro temp inteir falt ser funcional acess direit tao trabalh desanim usar aplic dev ser acessivel opca recuper senh nao funcion tent inum vez sucess dem opco recuperaca tamb nao funcion ruim temp perd sucess ness aplic dev ser corrig problem favor desenvolvedor deem olhad niss', 'link inform quebr nao segur ja tent tod form acess vari naveg equip nao abre continu afirm vou perd enem dest ano cont incompetenc dess desastr govern tod sit mund vai hav algum mudanc acess migr outr plataform exist avis facilitaca acess ate ocorr mudanc nao duv document dad nao usad tent abrir part ai', 'dand estrel pq pra pod faz feedback verdad app merec nenhum estrel pq inadmissivel vc pod entrar app cnh vcs esta louc pera ver entend pra pesso ser reconhec govern federal ter carr agor entend pq pov ric ta ganh auxili emergencial vcs sao piad pront prejudic pobr agor tod precis cnh pra govern federal not gent traduca va roub pra ter carr', 'nao funcion nao consig recuper senh falt abas nao consig acess ruim pessim', 'sit pessim tent mes tent entrar cadastr segur desempreg nao consig cad dia divergenc respost esper hs tent nov nunc consig tent tod respost maos ja lig sucess caix econm sucess ministeri trabalh sucess mand procur pats nao sei onde fic regia nao encontr ab c esto desesper rum sab faz precis orientaca adequ precis resolv problem precis receb pag aluguel algu resolv dias dar entrad cadastr pec ajud respost favor', 'esta usand cpf entro app diz recuper senh mail nao sei telefon algu nao']\n"
     ]
    }
   ],
   "source": [
    "documents = []\n",
    "for test_data in texts:\n",
    "    documents.append(' '.join(test_data))\n",
    "print(documents)"
   ]
  },
  {
   "cell_type": "code",
   "execution_count": 782,
   "metadata": {},
   "outputs": [
    {
     "name": "stdout",
     "output_type": "stream",
     "text": [
      "10 palavras mais frequentes por cluster:\n",
      "Cluster 0:\n",
      " bom\n",
      " pessim\n",
      " ruim\n",
      " aplic\n",
      " app\n",
      " ser\n",
      " parec\n",
      " especial\n",
      " esclarecedor\n",
      " dem\n",
      " naveg\n",
      " erro\n",
      " test\n",
      " agil\n",
      " transit\n",
      " nel\n",
      " agent\n",
      " melhor\n",
      " dia\n",
      " inval\n",
      "Cluster 1:\n",
      " nao\n",
      " cadastr\n",
      " senh\n",
      " consig\n",
      " ja\n",
      " acess\n",
      " recuper\n",
      " cont\n",
      " diz\n",
      " tent\n",
      " nunc\n",
      " cpf\n",
      " fiz\n",
      " faz\n",
      " email\n",
      " pra\n",
      " entrar\n",
      " aparec\n",
      " enem\n",
      " fac\n",
      "Cluster 2:\n",
      " funcion\n",
      " nao\n",
      " facial\n",
      " reconhec\n",
      " pessim\n",
      " faz\n",
      " validaca\n",
      " erro\n",
      " app\n",
      " consig\n",
      " rost\n",
      " cadastr\n",
      " lix\n",
      " fac\n",
      " ruim\n",
      " facil\n",
      " identific\n",
      " consegu\n",
      " pra\n",
      " complic\n",
      "Cluster 3:\n",
      " otim\n",
      " realment\n",
      " sim\n",
      " tranquil\n",
      " bom\n",
      " usar\n",
      " app\n",
      " consig\n",
      " zer\n",
      " ea\n",
      " econhec\n",
      " econm\n",
      " econom\n",
      " edit\n",
      " edson\n",
      " efetu\n",
      " eleitoral\n",
      " eficaz\n",
      " duv\n",
      " emagrec\n",
      "Cluster 4:\n",
      " horrivel\n",
      " senh\n",
      " pessim\n",
      " recuper\n",
      " nao\n",
      " atrapalh\n",
      " carreg\n",
      " work\n",
      " experienc\n",
      " abre\n",
      " aplic\n",
      " centralizaca\n",
      " reculper\n",
      " vsf\n",
      " promet\n",
      " perd\n",
      " nunc\n",
      " cumpr\n",
      " nad\n",
      " acess\n",
      "Cluster 5:\n",
      " nao\n",
      " app\n",
      " aplic\n",
      " pra\n",
      " faz\n",
      " fot\n",
      " consegu\n",
      " lix\n",
      " acess\n",
      " pessim\n",
      " cnh\n",
      " nad\n",
      " erro\n",
      " senh\n",
      " consig\n",
      " vid\n",
      " fic\n",
      " tod\n",
      " biometr\n",
      " tir\n"
     ]
    }
   ],
   "source": [
    "from sklearn.feature_extraction.text import TfidfVectorizer\n",
    "from sklearn.cluster import KMeans\n",
    "from sklearn.metrics import adjusted_rand_score\n",
    "\n",
    "vectorizer = TfidfVectorizer()\n",
    "X = vectorizer.fit_transform(documents)\n",
    "\n",
    "true_k = 6\n",
    "model = KMeans(n_clusters=true_k, init='k-means++', max_iter=100, n_init=1)\n",
    "model.fit(X)\n",
    "\n",
    "print(\"10 palavras mais frequentes por cluster:\")\n",
    "order_centroids = model.cluster_centers_.argsort()[:, ::-1]\n",
    "terms = vectorizer.get_feature_names()\n",
    "for i in range(true_k):\n",
    "    print(\"Cluster %d:\" % i),\n",
    "    for ind in order_centroids[i, :20]:\n",
    "        print(' %s' % terms[ind])"
   ]
  },
  {
   "cell_type": "code",
   "execution_count": 791,
   "metadata": {},
   "outputs": [
    {
     "data": {
      "text/plain": [
       "array([1], dtype=int32)"
      ]
     },
     "execution_count": 791,
     "metadata": {},
     "output_type": "execute_result"
    }
   ],
   "source": [
    "Y = vectorizer.transform([\"meu cpf nao esta funcionando\"])\n",
    "prediction = model.predict(Y)\n",
    "prediction"
   ]
  },
  {
   "cell_type": "code",
   "execution_count": 784,
   "metadata": {},
   "outputs": [
    {
     "data": {
      "image/png": "[encoded data removed]",
      "text/plain": [
       "<Figure size 720x504 with 1 Axes>"
      ]
     },
     "metadata": {
      "needs_background": "light"
     },
     "output_type": "display_data"
    }
   ],
   "source": [
    "import matplotlib.pyplot as plt\n",
    "from scipy.cluster.hierarchy import dendrogram, linkage\n",
    "from sklearn.cluster import AgglomerativeClustering\n",
    "from sklearn.preprocessing import StandardScaler\n",
    "\n",
    "X = vectorizer.fit_transform(documents)\n",
    "\n",
    "plt.figure(figsize=(10, 7))\n",
    "plt.title(\"Dendograma\")\n",
    "dend = dendrogram(linkage(X.toarray(), method='ward'))"
   ]
  },
  {
   "cell_type": "code",
   "execution_count": 785,
   "metadata": {},
   "outputs": [
    {
     "data": {
      "text/plain": [
       "array([0, 0, 0, 0, 0, 3, 3, 0, 0, 3, 3, 0, 0, 3, 2, 3, 3, 3, 3, 3, 3, 3,\n",
       "       3, 0, 4, 4, 0, 3, 4, 4, 0, 0, 0, 0, 4, 1, 1, 0, 0, 0, 1, 0, 1, 1,\n",
       "       1, 1, 1, 1, 0, 0, 0, 0, 0, 5, 5, 0, 0, 0, 1, 5, 0, 5, 5, 5, 5, 5,\n",
       "       5, 0, 0, 0, 0, 5, 0, 0, 5, 0, 0, 3, 1, 0, 0, 0, 3, 3, 3, 0, 3, 3,\n",
       "       3, 3, 3, 3, 0, 0, 2, 4, 4, 0, 4, 0, 3, 3, 3, 3, 4, 4, 4, 4, 0, 1,\n",
       "       0, 0, 0, 5, 0, 0, 0, 0, 0, 0, 0, 1, 0, 5, 5, 0, 0, 0, 0, 0, 0, 0,\n",
       "       0, 0, 0, 2, 0, 5, 2, 2, 0, 3, 0, 0, 0, 2, 0, 0, 0, 0, 0, 0, 0, 0,\n",
       "       0, 5, 0, 2, 0, 0, 0, 0, 0, 0, 0, 0, 2, 0, 0, 0, 0, 0, 0, 0, 0, 0,\n",
       "       0, 0, 0, 0, 0, 0, 0, 0, 5, 0, 0, 0, 0, 5, 0, 0, 0, 0, 3, 0, 0, 0,\n",
       "       0, 0, 0, 0, 0, 2, 0, 0, 0, 0, 2, 0, 0, 0, 0, 2, 0, 0, 0, 0, 0, 0,\n",
       "       0, 0, 2, 0, 0, 0, 0, 0, 2, 2, 0, 0, 0, 0, 0, 0, 2, 0, 0, 0, 0, 0,\n",
       "       2, 0, 5, 0, 0, 0, 0, 0, 0, 0, 0, 0, 2, 2, 2, 0, 2, 2, 5, 0, 0, 0,\n",
       "       0, 0, 0, 0, 0, 0, 0, 0, 0, 5, 2, 0, 0, 0, 0, 2, 0, 2, 2, 0, 0, 0,\n",
       "       0, 0, 0, 0, 0, 0, 0, 0, 2, 2, 2, 0, 2, 0, 2, 0, 0, 0, 2, 0, 2, 2,\n",
       "       2, 2, 0, 2, 2, 0, 0, 0, 0, 2, 0, 0, 2, 2, 0, 0, 2, 0, 0, 2, 0, 0,\n",
       "       0, 2, 0, 2, 0, 0, 2, 0, 0, 0, 0, 2, 0, 0, 0, 0, 2, 0, 0, 2, 0, 5,\n",
       "       0, 2, 0, 2, 2, 0, 0, 0, 0, 0, 0, 0, 0, 0, 0, 0, 0, 2, 0, 0, 0, 0,\n",
       "       2, 0, 0, 0, 0, 0, 2, 0, 2, 0, 0, 0, 0, 2, 2, 2, 2, 2, 0, 0, 2, 2,\n",
       "       2, 0, 0, 0, 2, 0, 0, 0, 2, 0, 0, 2, 2, 0, 0, 0, 0, 0, 0, 0, 0, 0,\n",
       "       0, 0, 2, 0, 0, 2, 0, 0, 2, 0, 0, 2, 0, 2, 0, 2, 0, 2, 0, 0, 2, 0,\n",
       "       0, 2, 0, 2, 2, 0, 0, 0, 0, 0, 0, 0, 0, 2, 2, 0, 0, 0, 2, 0, 0, 0,\n",
       "       0, 0, 0, 0, 2, 2, 2, 2, 2, 2, 0, 0, 2, 0, 0, 2, 0, 2, 2, 2, 0, 0,\n",
       "       0, 0, 0, 0, 0, 0, 0, 0, 0, 0, 0, 2, 0, 2, 0, 2, 2, 0, 0, 0, 0, 0,\n",
       "       0, 0, 2, 0, 0, 2, 2, 2, 2, 2, 2, 0, 0, 0, 2, 0, 0, 0, 0, 0, 2, 0,\n",
       "       0, 2, 2, 2, 2, 0, 2, 2, 2, 0, 0, 2, 2, 2, 0, 0, 2, 2, 2, 0, 0, 0,\n",
       "       0, 0, 2, 0, 0, 2, 2, 0, 2, 0, 0, 0, 0, 0, 0, 0, 0, 2, 0, 0, 0, 2,\n",
       "       2, 2, 2, 0, 0, 2, 0, 0, 0, 0, 0, 0, 2, 2, 0, 2, 0, 0, 2, 0, 0, 2,\n",
       "       0, 0, 0, 0, 0, 2, 0, 0, 2, 2, 2, 2, 2, 0, 0, 0, 0, 2, 2, 0, 0, 0,\n",
       "       0, 0, 0, 0, 0, 0, 0, 0, 0, 0, 0, 2, 2, 0, 2, 0, 2, 2, 2, 0, 2, 0,\n",
       "       2, 2, 0, 2, 2, 0, 0, 0, 0, 0, 2, 2, 2, 0, 2, 2, 0, 0, 2, 0, 0, 0,\n",
       "       0, 0, 0, 0, 0, 2, 0, 0, 0, 2, 2, 2, 2, 2, 0, 0, 0, 0, 2, 0, 2, 0,\n",
       "       2, 0, 0, 2, 0, 0, 2, 2, 0, 0, 0, 2, 2, 2, 0, 0, 0, 2, 2, 0, 0, 0,\n",
       "       2, 0, 2, 0, 0, 0, 0, 0, 2, 0, 2, 0, 0, 0, 2, 2, 0, 0, 0, 0, 2, 0,\n",
       "       2, 0, 2, 2, 2, 2, 2, 0, 0, 0, 0, 2, 2, 2, 2, 0, 2, 0, 0, 2, 0, 0,\n",
       "       0, 2, 0, 2, 0, 2, 2, 0, 2, 0, 2, 2, 0, 2, 0, 2, 0, 0, 0, 0, 2, 2,\n",
       "       0, 0, 2, 2, 2, 0, 2, 2, 2, 0, 0, 2, 0, 0, 2, 2, 2, 2, 0, 0, 2, 2,\n",
       "       0, 0, 2, 0, 2, 2, 0, 2, 2, 0, 0, 0, 2, 0, 0, 2, 2, 0, 0, 2, 0, 0,\n",
       "       0, 2, 0, 0, 0, 2, 0, 2, 0, 2, 2, 2, 2, 2, 2, 0, 0, 2, 2, 0, 0, 0,\n",
       "       0, 0, 0, 0, 2, 0, 0, 2, 2, 2, 2, 0, 0, 2, 0, 0, 2, 2, 2, 2, 2, 0,\n",
       "       0, 0, 0, 0, 0, 2, 0, 0, 2, 0, 0, 2, 2, 0, 2, 2, 2, 2, 0, 2, 2, 2,\n",
       "       2, 2, 2, 2, 2, 0, 0, 0, 2, 0, 2, 0, 0, 0, 2, 0, 0, 2, 2, 0, 2, 0,\n",
       "       0, 2, 0, 0, 2, 2, 0, 0, 0, 2, 2, 2, 2, 2, 2, 0, 0, 0, 2, 2, 2, 2,\n",
       "       0, 0, 0, 2, 0, 2])"
      ]
     },
     "execution_count": 785,
     "metadata": {},
     "output_type": "execute_result"
    }
   ],
   "source": [
    "cluster = AgglomerativeClustering(n_clusters=6, affinity='euclidean', linkage='ward')\n",
    "cluster.fit_predict(X.toarray())"
   ]
  },
  {
   "cell_type": "code",
   "execution_count": 786,
   "metadata": {},
   "outputs": [
    {
     "data": {
      "image/png": "[encoded data removed]",
      "text/plain": [
       "<Figure size 720x504 with 1 Axes>"
      ]
     },
     "metadata": {
      "needs_background": "light"
     },
     "output_type": "display_data"
    }
   ],
   "source": [
    "plt.figure(figsize=(10, 7))\n",
    "plt.scatter(X.toarray()[:,0], X.toarray()[:,930], c=cluster.labels_, cmap='rainbow')\n",
    "plt.show()"
   ]
  }
 ],
 "metadata": {
  "kernelspec": {
   "display_name": "Python 3",
   "language": "python",
   "name": "python3"
  },
  "language_info": {
   "codemirror_mode": {
    "name": "ipython",
    "version": 3
   },
   "file_extension": ".py",
   "mimetype": "text/x-python",
   "name": "python",
   "nbconvert_exporter": "python",
   "pygments_lexer": "ipython3",
   "version": "3.7.3"
  }
 },
 "nbformat": 4,
 "nbformat_minor": 4
}
