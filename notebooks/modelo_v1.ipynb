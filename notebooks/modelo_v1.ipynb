{
 "cells": [
  {
   "cell_type": "markdown",
   "metadata": {},
   "source": [
    "# TCC Augusto e Ícaro\n",
    "## Modelo de automatização das Heurísticas de Nielsen para comentários em reviews de Apps\n",
    "\n",
    "* Versão 1.0\n",
    "* Bibliotecas utilizadas: pandas, numpy, texthero, ntlk e corpus do ntlk em português\n",
    "* Dataset utilizado: dataset_v4.csv\n",
    "* Data: 22/07/2020\n",
    "\n",
    "### Objetivos:\n",
    "\n",
    "[x] Pre processamento detalhado\n",
    "\n",
    "[x] Pipeline de pre-processamento\n",
    "\n",
    "[x] Classificador baseado em ocorrência"
   ]
  },
  {
   "cell_type": "code",
   "execution_count": 1,
   "metadata": {},
   "outputs": [
    {
     "name": "stdout",
     "output_type": "stream",
     "text": [
      "Requirement already satisfied: pandas in /home/icaro/.pyenv/versions/3.7.3/lib/python3.7/site-packages (1.0.5)\n",
      "Requirement already satisfied: pytz>=2017.2 in /home/icaro/.pyenv/versions/3.7.3/lib/python3.7/site-packages (from pandas) (2020.1)\n",
      "Requirement already satisfied: numpy>=1.13.3 in /home/icaro/.pyenv/versions/3.7.3/lib/python3.7/site-packages (from pandas) (1.18.5)\n",
      "Requirement already satisfied: python-dateutil>=2.6.1 in /home/icaro/.pyenv/versions/3.7.3/lib/python3.7/site-packages (from pandas) (2.8.1)\n",
      "Requirement already satisfied: six>=1.5 in /home/icaro/.pyenv/versions/3.7.3/lib/python3.7/site-packages (from python-dateutil>=2.6.1->pandas) (1.15.0)\n",
      "Requirement already satisfied: numpy in /home/icaro/.pyenv/versions/3.7.3/lib/python3.7/site-packages (1.18.5)\n",
      "Requirement already satisfied: texthero in /home/icaro/.pyenv/versions/3.7.3/lib/python3.7/site-packages (1.0.9)\n",
      "Requirement already satisfied: tqdm>=4.3 in /home/icaro/.pyenv/versions/3.7.3/lib/python3.7/site-packages (from texthero) (4.46.1)\n",
      "Requirement already satisfied: scikit-learn>=0.22 in /home/icaro/.pyenv/versions/3.7.3/lib/python3.7/site-packages (from texthero) (0.23.1)\n",
      "Requirement already satisfied: pandas>=1.0.2 in /home/icaro/.pyenv/versions/3.7.3/lib/python3.7/site-packages (from texthero) (1.0.5)\n",
      "Requirement already satisfied: wordcloud>=1.5.0 in /home/icaro/.pyenv/versions/3.7.3/lib/python3.7/site-packages (from texthero) (1.7.0)\n",
      "Requirement already satisfied: matplotlib>=3.1.0 in /home/icaro/.pyenv/versions/3.7.3/lib/python3.7/site-packages (from texthero) (3.2.2)\n",
      "Requirement already satisfied: spacy>=2.2.2 in /home/icaro/.pyenv/versions/3.7.3/lib/python3.7/site-packages (from texthero) (2.3.2)\n",
      "Requirement already satisfied: unidecode>=1.1.1 in /home/icaro/.pyenv/versions/3.7.3/lib/python3.7/site-packages (from texthero) (1.1.1)\n",
      "Requirement already satisfied: nltk>=3.3 in /home/icaro/.pyenv/versions/3.7.3/lib/python3.7/site-packages (from texthero) (3.5)\n",
      "Requirement already satisfied: numpy>=1.17 in /home/icaro/.pyenv/versions/3.7.3/lib/python3.7/site-packages (from texthero) (1.18.5)\n",
      "Requirement already satisfied: gensim>=3.6.0 in /home/icaro/.pyenv/versions/3.7.3/lib/python3.7/site-packages (from texthero) (3.8.3)\n",
      "Requirement already satisfied: plotly>=4.2.0 in /home/icaro/.pyenv/versions/3.7.3/lib/python3.7/site-packages (from texthero) (4.9.0)\n",
      "Requirement already satisfied: threadpoolctl>=2.0.0 in /home/icaro/.pyenv/versions/3.7.3/lib/python3.7/site-packages (from scikit-learn>=0.22->texthero) (2.1.0)\n",
      "Requirement already satisfied: joblib>=0.11 in /home/icaro/.pyenv/versions/3.7.3/lib/python3.7/site-packages (from scikit-learn>=0.22->texthero) (0.15.1)\n",
      "Requirement already satisfied: scipy>=0.19.1 in /home/icaro/.pyenv/versions/3.7.3/lib/python3.7/site-packages (from scikit-learn>=0.22->texthero) (1.4.1)\n",
      "Requirement already satisfied: pytz>=2017.2 in /home/icaro/.pyenv/versions/3.7.3/lib/python3.7/site-packages (from pandas>=1.0.2->texthero) (2020.1)\n",
      "Requirement already satisfied: python-dateutil>=2.6.1 in /home/icaro/.pyenv/versions/3.7.3/lib/python3.7/site-packages (from pandas>=1.0.2->texthero) (2.8.1)\n",
      "Requirement already satisfied: pillow in /home/icaro/.pyenv/versions/3.7.3/lib/python3.7/site-packages (from wordcloud>=1.5.0->texthero) (7.1.2)\n",
      "Requirement already satisfied: pyparsing!=2.0.4,!=2.1.2,!=2.1.6,>=2.0.1 in /home/icaro/.pyenv/versions/3.7.3/lib/python3.7/site-packages (from matplotlib>=3.1.0->texthero) (2.4.7)\n",
      "Requirement already satisfied: cycler>=0.10 in /home/icaro/.pyenv/versions/3.7.3/lib/python3.7/site-packages (from matplotlib>=3.1.0->texthero) (0.10.0)\n",
      "Requirement already satisfied: kiwisolver>=1.0.1 in /home/icaro/.pyenv/versions/3.7.3/lib/python3.7/site-packages (from matplotlib>=3.1.0->texthero) (1.2.0)\n",
      "Requirement already satisfied: thinc==7.4.1 in /home/icaro/.pyenv/versions/3.7.3/lib/python3.7/site-packages (from spacy>=2.2.2->texthero) (7.4.1)\n",
      "Requirement already satisfied: srsly<1.1.0,>=1.0.2 in /home/icaro/.pyenv/versions/3.7.3/lib/python3.7/site-packages (from spacy>=2.2.2->texthero) (1.0.2)\n",
      "Requirement already satisfied: requests<3.0.0,>=2.13.0 in /home/icaro/.pyenv/versions/3.7.3/lib/python3.7/site-packages (from spacy>=2.2.2->texthero) (2.23.0)\n",
      "Requirement already satisfied: blis<0.5.0,>=0.4.0 in /home/icaro/.pyenv/versions/3.7.3/lib/python3.7/site-packages (from spacy>=2.2.2->texthero) (0.4.1)\n",
      "Requirement already satisfied: setuptools in /home/icaro/.pyenv/versions/3.7.3/lib/python3.7/site-packages (from spacy>=2.2.2->texthero) (47.3.1)\n",
      "Requirement already satisfied: wasabi<1.1.0,>=0.4.0 in /home/icaro/.pyenv/versions/3.7.3/lib/python3.7/site-packages (from spacy>=2.2.2->texthero) (0.7.1)\n",
      "Requirement already satisfied: preshed<3.1.0,>=3.0.2 in /home/icaro/.pyenv/versions/3.7.3/lib/python3.7/site-packages (from spacy>=2.2.2->texthero) (3.0.2)\n",
      "Requirement already satisfied: cymem<2.1.0,>=2.0.2 in /home/icaro/.pyenv/versions/3.7.3/lib/python3.7/site-packages (from spacy>=2.2.2->texthero) (2.0.3)\n",
      "Requirement already satisfied: plac<1.2.0,>=0.9.6 in /home/icaro/.pyenv/versions/3.7.3/lib/python3.7/site-packages (from spacy>=2.2.2->texthero) (1.1.3)\n",
      "Requirement already satisfied: catalogue<1.1.0,>=0.0.7 in /home/icaro/.pyenv/versions/3.7.3/lib/python3.7/site-packages (from spacy>=2.2.2->texthero) (1.0.0)\n",
      "Requirement already satisfied: murmurhash<1.1.0,>=0.28.0 in /home/icaro/.pyenv/versions/3.7.3/lib/python3.7/site-packages (from spacy>=2.2.2->texthero) (1.0.2)\n",
      "Requirement already satisfied: click in /home/icaro/.pyenv/versions/3.7.3/lib/python3.7/site-packages (from nltk>=3.3->texthero) (7.1.2)\n",
      "Requirement already satisfied: regex in /home/icaro/.pyenv/versions/3.7.3/lib/python3.7/site-packages (from nltk>=3.3->texthero) (2020.6.8)\n",
      "Requirement already satisfied: smart-open>=1.8.1 in /home/icaro/.pyenv/versions/3.7.3/lib/python3.7/site-packages (from gensim>=3.6.0->texthero) (2.1.0)\n",
      "Requirement already satisfied: six>=1.5.0 in /home/icaro/.pyenv/versions/3.7.3/lib/python3.7/site-packages (from gensim>=3.6.0->texthero) (1.15.0)\n",
      "Requirement already satisfied: retrying>=1.3.3 in /home/icaro/.pyenv/versions/3.7.3/lib/python3.7/site-packages (from plotly>=4.2.0->texthero) (1.3.3)\n",
      "Requirement already satisfied: certifi>=2017.4.17 in /home/icaro/.pyenv/versions/3.7.3/lib/python3.7/site-packages (from requests<3.0.0,>=2.13.0->spacy>=2.2.2->texthero) (2020.4.5.2)\n",
      "Requirement already satisfied: chardet<4,>=3.0.2 in /home/icaro/.pyenv/versions/3.7.3/lib/python3.7/site-packages (from requests<3.0.0,>=2.13.0->spacy>=2.2.2->texthero) (3.0.4)\n",
      "Requirement already satisfied: idna<3,>=2.5 in /home/icaro/.pyenv/versions/3.7.3/lib/python3.7/site-packages (from requests<3.0.0,>=2.13.0->spacy>=2.2.2->texthero) (2.9)\n",
      "Requirement already satisfied: urllib3!=1.25.0,!=1.25.1,<1.26,>=1.21.1 in /home/icaro/.pyenv/versions/3.7.3/lib/python3.7/site-packages (from requests<3.0.0,>=2.13.0->spacy>=2.2.2->texthero) (1.25.9)\n",
      "Requirement already satisfied: importlib-metadata>=0.20; python_version < \"3.8\" in /home/icaro/.pyenv/versions/3.7.3/lib/python3.7/site-packages (from catalogue<1.1.0,>=0.0.7->spacy>=2.2.2->texthero) (1.6.1)\n",
      "Requirement already satisfied: boto in /home/icaro/.pyenv/versions/3.7.3/lib/python3.7/site-packages (from smart-open>=1.8.1->gensim>=3.6.0->texthero) (2.49.0)\n",
      "Requirement already satisfied: boto3 in /home/icaro/.pyenv/versions/3.7.3/lib/python3.7/site-packages (from smart-open>=1.8.1->gensim>=3.6.0->texthero) (1.14.23)\n",
      "Requirement already satisfied: zipp>=0.5 in /home/icaro/.pyenv/versions/3.7.3/lib/python3.7/site-packages (from importlib-metadata>=0.20; python_version < \"3.8\"->catalogue<1.1.0,>=0.0.7->spacy>=2.2.2->texthero) (3.1.0)\n",
      "Requirement already satisfied: s3transfer<0.4.0,>=0.3.0 in /home/icaro/.pyenv/versions/3.7.3/lib/python3.7/site-packages (from boto3->smart-open>=1.8.1->gensim>=3.6.0->texthero) (0.3.3)\n",
      "Requirement already satisfied: jmespath<1.0.0,>=0.7.1 in /home/icaro/.pyenv/versions/3.7.3/lib/python3.7/site-packages (from boto3->smart-open>=1.8.1->gensim>=3.6.0->texthero) (0.10.0)\n",
      "Requirement already satisfied: botocore<1.18.0,>=1.17.23 in /home/icaro/.pyenv/versions/3.7.3/lib/python3.7/site-packages (from boto3->smart-open>=1.8.1->gensim>=3.6.0->texthero) (1.17.23)\n",
      "Requirement already satisfied: docutils<0.16,>=0.10 in /home/icaro/.pyenv/versions/3.7.3/lib/python3.7/site-packages (from botocore<1.18.0,>=1.17.23->boto3->smart-open>=1.8.1->gensim>=3.6.0->texthero) (0.15.2)\n"
     ]
    },
    {
     "name": "stdout",
     "output_type": "stream",
     "text": [
      "Requirement already satisfied: nltk in /home/icaro/.pyenv/versions/3.7.3/lib/python3.7/site-packages (3.5)\n",
      "Requirement already satisfied: regex in /home/icaro/.pyenv/versions/3.7.3/lib/python3.7/site-packages (from nltk) (2020.6.8)\n",
      "Requirement already satisfied: tqdm in /home/icaro/.pyenv/versions/3.7.3/lib/python3.7/site-packages (from nltk) (4.46.1)\n",
      "Requirement already satisfied: click in /home/icaro/.pyenv/versions/3.7.3/lib/python3.7/site-packages (from nltk) (7.1.2)\n",
      "Requirement already satisfied: joblib in /home/icaro/.pyenv/versions/3.7.3/lib/python3.7/site-packages (from nltk) (0.15.1)\n"
     ]
    }
   ],
   "source": [
    "import sys\n",
    "!{sys.executable} -m pip install pandas\n",
    "!{sys.executable} -m pip install numpy\n",
    "!{sys.executable} -m pip install texthero \n",
    "!{sys.executable} -m pip install nltk "
   ]
  },
  {
   "cell_type": "code",
   "execution_count": 1,
   "metadata": {},
   "outputs": [],
   "source": [
    "import pandas as pd\n",
    "import texthero as hero\n",
    "import nltk\n",
    "import numpy as np\n",
    "# nltk.download()"
   ]
  },
  {
   "cell_type": "markdown",
   "metadata": {},
   "source": [
    "## Pré-processamento"
   ]
  },
  {
   "cell_type": "markdown",
   "metadata": {},
   "source": [
    "Nessa versão iremos testar apenas com textos em ingles, sem adicionar os pesos de sentimentos e heurísticas de Nielsen. Queremos treinar o modelo para classificar apenas em usabilidade ou não."
   ]
  },
  {
   "cell_type": "code",
   "execution_count": 2,
   "metadata": {},
   "outputs": [
    {
     "data": {
      "text/html": [
       "<div>\n",
       "<style scoped>\n",
       "    .dataframe tbody tr th:only-of-type {\n",
       "        vertical-align: middle;\n",
       "    }\n",
       "\n",
       "    .dataframe tbody tr th {\n",
       "        vertical-align: top;\n",
       "    }\n",
       "\n",
       "    .dataframe thead th {\n",
       "        text-align: right;\n",
       "    }\n",
       "</style>\n",
       "<table border=\"1\" class=\"dataframe\">\n",
       "  <thead>\n",
       "    <tr style=\"text-align: right;\">\n",
       "      <th></th>\n",
       "      <th>text</th>\n",
       "      <th>is_usability</th>\n",
       "      <th>is_classified</th>\n",
       "    </tr>\n",
       "  </thead>\n",
       "  <tbody>\n",
       "    <tr>\n",
       "      <th>0</th>\n",
       "      <td>Negócio de reconhecimento facialnão funciona. ...</td>\n",
       "      <td>True</td>\n",
       "      <td>True</td>\n",
       "    </tr>\n",
       "    <tr>\n",
       "      <th>1</th>\n",
       "      <td>Um lixo!!! 9 tentativas de econhecimento facia...</td>\n",
       "      <td>False</td>\n",
       "      <td>True</td>\n",
       "    </tr>\n",
       "    <tr>\n",
       "      <th>2</th>\n",
       "      <td>Horrível! Pior que FBI! Se fosse pra receberem...</td>\n",
       "      <td>True</td>\n",
       "      <td>True</td>\n",
       "    </tr>\n",
       "    <tr>\n",
       "      <th>3</th>\n",
       "      <td>Meio difícil fazer sem óculos mais deu certo</td>\n",
       "      <td>True</td>\n",
       "      <td>True</td>\n",
       "    </tr>\n",
       "    <tr>\n",
       "      <th>4</th>\n",
       "      <td>Não serve pra nada , não dá para acessar,péssimo.</td>\n",
       "      <td>True</td>\n",
       "      <td>True</td>\n",
       "    </tr>\n",
       "  </tbody>\n",
       "</table>\n",
       "</div>"
      ],
      "text/plain": [
       "                                                text  is_usability  \\\n",
       "0  Negócio de reconhecimento facialnão funciona. ...          True   \n",
       "1  Um lixo!!! 9 tentativas de econhecimento facia...         False   \n",
       "2  Horrível! Pior que FBI! Se fosse pra receberem...          True   \n",
       "3       Meio difícil fazer sem óculos mais deu certo          True   \n",
       "4  Não serve pra nada , não dá para acessar,péssimo.          True   \n",
       "\n",
       "  is_classified  \n",
       "0          True  \n",
       "1          True  \n",
       "2          True  \n",
       "3          True  \n",
       "4          True  "
      ]
     },
     "execution_count": 2,
     "metadata": {},
     "output_type": "execute_result"
    }
   ],
   "source": [
    "cols = ['Text', 'is_usability', 'is_classified']\n",
    "df = pd.read_csv(\"reviews_v4.csv\", index_col=False, usecols=cols)\n",
    "df = df.rename(columns={'Text': 'text'})\n",
    "df.head()"
   ]
  },
  {
   "cell_type": "code",
   "execution_count": 3,
   "metadata": {},
   "outputs": [
    {
     "data": {
      "text/plain": [
       "False    755\n",
       "True     175\n",
       "Name: is_usability, dtype: int64"
      ]
     },
     "execution_count": 3,
     "metadata": {},
     "output_type": "execute_result"
    }
   ],
   "source": [
    "df['is_usability'].value_counts()"
   ]
  },
  {
   "cell_type": "code",
   "execution_count": 4,
   "metadata": {},
   "outputs": [
    {
     "data": {
      "text/plain": [
       "False    548\n",
       "True     381\n",
       "Name: is_classified, dtype: int64"
      ]
     },
     "execution_count": 4,
     "metadata": {},
     "output_type": "execute_result"
    }
   ],
   "source": [
    "df['is_classified'].value_counts()"
   ]
  },
  {
   "cell_type": "markdown",
   "metadata": {},
   "source": [
    "### Limpando dados\n",
    "\n",
    "O pipeline padrão remove dígitos, pontuação, remove diacritics, stopwords em inglês e whitespace"
   ]
  },
  {
   "cell_type": "code",
   "execution_count": 5,
   "metadata": {},
   "outputs": [
    {
     "data": {
      "text/plain": [
       "0      negocio de reconhecimento facialnao funciona n...\n",
       "1      um lixo tentativas de econhecimento facial sem...\n",
       "2      horrivel pior que fbi se fosse pra receberem a...\n",
       "3           meio dificil fazer sem oculos mais deu certo\n",
       "4         nao serve pra nada nao da para acessar pessimo\n",
       "                             ...                        \n",
       "925    como eu faco pra entrar na minha conta enem pe...\n",
       "926    sim facilita muito em varios servicos e mais i...\n",
       "927    nao consigo acessar meu auxilio como faco pra ...\n",
       "928                                  seguro hiper seguro\n",
       "929    otimo porem e bom implementar novas funcionali...\n",
       "Name: text, Length: 930, dtype: object"
      ]
     },
     "execution_count": 5,
     "metadata": {},
     "output_type": "execute_result"
    }
   ],
   "source": [
    "pipeline = hero.preprocessing.get_default_pipeline()\n",
    "selected_functions_indexes = [0, 1, 2, 5, 6]\n",
    "pipeline = [pipeline[i] for i in selected_functions_indexes]\n",
    "df['text'] = hero.preprocessing.clean(df['text'])\n",
    "df['text']"
   ]
  },
  {
   "cell_type": "markdown",
   "metadata": {},
   "source": [
    "### Stopwords\n",
    "\n",
    "Removendo stopwords em português com o corpus em portugês do NTLK"
   ]
  },
  {
   "cell_type": "code",
   "execution_count": 6,
   "metadata": {},
   "outputs": [
    {
     "data": {
      "text/plain": [
       "'negocio  reconhecimento facialnao funciona nao  pra ficar dia todo nisso nao arrumem   favor'"
      ]
     },
     "execution_count": 6,
     "metadata": {},
     "output_type": "execute_result"
    }
   ],
   "source": [
    "from nltk.corpus import stopwords\n",
    "stopwords = stopwords.words('portuguese')\n",
    "df['text'] = hero.remove_stopwords(df['text'], stopwords=stopwords)\n",
    "df['text'][0]"
   ]
  },
  {
   "cell_type": "markdown",
   "metadata": {},
   "source": [
    "### Stemização"
   ]
  },
  {
   "cell_type": "code",
   "execution_count": 7,
   "metadata": {},
   "outputs": [
    {
     "data": {
      "text/plain": [
       "'negoci reconhec facialna funcion nao pra fic dia tod niss nao arrum favor'"
      ]
     },
     "execution_count": 7,
     "metadata": {},
     "output_type": "execute_result"
    }
   ],
   "source": [
    "df['text'] = hero.stem(df['text'], language='portuguese')\n",
    "df['text']\n",
    "df['text'][0]"
   ]
  },
  {
   "cell_type": "markdown",
   "metadata": {},
   "source": [
    "### Tokenização"
   ]
  },
  {
   "cell_type": "code",
   "execution_count": 8,
   "metadata": {
    "scrolled": true
   },
   "outputs": [
    {
     "data": {
      "text/html": [
       "<div>\n",
       "<style scoped>\n",
       "    .dataframe tbody tr th:only-of-type {\n",
       "        vertical-align: middle;\n",
       "    }\n",
       "\n",
       "    .dataframe tbody tr th {\n",
       "        vertical-align: top;\n",
       "    }\n",
       "\n",
       "    .dataframe thead th {\n",
       "        text-align: right;\n",
       "    }\n",
       "</style>\n",
       "<table border=\"1\" class=\"dataframe\">\n",
       "  <thead>\n",
       "    <tr style=\"text-align: right;\">\n",
       "      <th></th>\n",
       "      <th>text</th>\n",
       "      <th>is_usability</th>\n",
       "      <th>is_classified</th>\n",
       "    </tr>\n",
       "  </thead>\n",
       "  <tbody>\n",
       "    <tr>\n",
       "      <th>0</th>\n",
       "      <td>[negoci, reconhec, facialna, funcion, nao, pra...</td>\n",
       "      <td>True</td>\n",
       "      <td>True</td>\n",
       "    </tr>\n",
       "    <tr>\n",
       "      <th>1</th>\n",
       "      <td>[lix, tentat, econhec, facial, exit, dur, depe...</td>\n",
       "      <td>False</td>\n",
       "      <td>True</td>\n",
       "    </tr>\n",
       "    <tr>\n",
       "      <th>2</th>\n",
       "      <td>[horrivel, pior, fbi, pra, receb, algo, gent, ...</td>\n",
       "      <td>True</td>\n",
       "      <td>True</td>\n",
       "    </tr>\n",
       "    <tr>\n",
       "      <th>3</th>\n",
       "      <td>[mei, dificil, faz, ocul, deu, cert]</td>\n",
       "      <td>True</td>\n",
       "      <td>True</td>\n",
       "    </tr>\n",
       "    <tr>\n",
       "      <th>4</th>\n",
       "      <td>[nao, serv, pra, nad, nao, acess, pessim]</td>\n",
       "      <td>True</td>\n",
       "      <td>True</td>\n",
       "    </tr>\n",
       "  </tbody>\n",
       "</table>\n",
       "</div>"
      ],
      "text/plain": [
       "                                                text  is_usability  \\\n",
       "0  [negoci, reconhec, facialna, funcion, nao, pra...          True   \n",
       "1  [lix, tentat, econhec, facial, exit, dur, depe...         False   \n",
       "2  [horrivel, pior, fbi, pra, receb, algo, gent, ...          True   \n",
       "3               [mei, dificil, faz, ocul, deu, cert]          True   \n",
       "4          [nao, serv, pra, nad, nao, acess, pessim]          True   \n",
       "\n",
       "  is_classified  \n",
       "0          True  \n",
       "1          True  \n",
       "2          True  \n",
       "3          True  \n",
       "4          True  "
      ]
     },
     "execution_count": 8,
     "metadata": {},
     "output_type": "execute_result"
    }
   ],
   "source": [
    "df['text'] = hero.tokenize(df['text'])\n",
    "df.head()"
   ]
  },
  {
   "cell_type": "code",
   "execution_count": 9,
   "metadata": {},
   "outputs": [],
   "source": [
    "df['class_name'] = df.apply(lambda row: 'usability' if row['is_usability'] else 'not_usability', axis=1)"
   ]
  },
  {
   "cell_type": "code",
   "execution_count": 10,
   "metadata": {},
   "outputs": [
    {
     "data": {
      "text/plain": [
       "{'text': ['negoci',\n",
       "  'reconhec',\n",
       "  'facialna',\n",
       "  'funcion',\n",
       "  'nao',\n",
       "  'pra',\n",
       "  'fic',\n",
       "  'dia',\n",
       "  'tod',\n",
       "  'niss',\n",
       "  'nao',\n",
       "  'arrum',\n",
       "  'favor'],\n",
       " 'is_classified': True,\n",
       " 'class_name': 'usability'}"
      ]
     },
     "execution_count": 10,
     "metadata": {},
     "output_type": "execute_result"
    }
   ],
   "source": [
    "df = df.drop('is_usability', 1)\n",
    "df = df.to_dict('records')\n",
    "df[0]"
   ]
  },
  {
   "cell_type": "markdown",
   "metadata": {},
   "source": [
    "## NLP\n",
    "\n",
    "Nessa parte, iremos treinar e utilizar o modelo"
   ]
  },
  {
   "cell_type": "markdown",
   "metadata": {},
   "source": [
    "Função para aprendizado dos dados: "
   ]
  },
  {
   "cell_type": "code",
   "execution_count": 11,
   "metadata": {},
   "outputs": [],
   "source": [
    "def learning(training_data):\n",
    "    corpus_words = {}\n",
    "    for data in training_data: \n",
    "        class_name = data['class_name']\n",
    "        frase = data['text']\n",
    "        if class_name not in list(corpus_words.keys()):\n",
    "            corpus_words[class_name] = {}\n",
    "        for word in frase:\n",
    "            if word not in list(corpus_words[class_name].keys()):\n",
    "                corpus_words[class_name][word] = 1\n",
    "            else:\n",
    "                corpus_words[class_name][word] += 1\n",
    "    return corpus_words"
   ]
  },
  {
   "cell_type": "markdown",
   "metadata": {},
   "source": [
    "Função para calcular scores"
   ]
  },
  {
   "cell_type": "code",
   "execution_count": 12,
   "metadata": {},
   "outputs": [],
   "source": [
    "def classificate(corpus, sentence):\n",
    "    def calculate_class_score(corpus_words, sentence, class_name):\n",
    "        score = 0 \n",
    "        for word in sentence:\n",
    "            if word in corpus_words[class_name]:\n",
    "                score += corpus_words[class_name][word]\n",
    "        return score\n",
    "    classifications = []\n",
    "    for class_name in corpus.keys():\n",
    "        classifications.append({'class_name': class_name, 'score': calculate_class_score(corpus, sentence, class_name)})    \n",
    "    return classifications"
   ]
  },
  {
   "cell_type": "markdown",
   "metadata": {},
   "source": [
    "Função para normalizar os scores"
   ]
  },
  {
   "cell_type": "code",
   "execution_count": 13,
   "metadata": {},
   "outputs": [],
   "source": [
    "def normalize_scores(classification):\n",
    "    total_score = sum(score['score'] for score in classification['scores'])\n",
    "    if total_score != 0:\n",
    "        for score in classification['scores']:\n",
    "            score['score'] = score['score']/total_score\n",
    "    return classification"
   ]
  },
  {
   "cell_type": "markdown",
   "metadata": {},
   "source": [
    "### Função principal\n",
    "\n",
    "* Divide o dataset em classificados e não classificados.\n",
    "* Divide os classificados para teste e treino: 20% teste e 80% treino.\n",
    "* Calcula em 50 interações a média da acurácia do modelo."
   ]
  },
  {
   "cell_type": "code",
   "execution_count": 14,
   "metadata": {},
   "outputs": [
    {
     "name": "stdout",
     "output_type": "stream",
     "text": [
      "Iteration 0 - Accuracy 0.6233766233766234\n",
      "-----------------\n",
      "Final accuracy 0.6233766233766234\n",
      "-----------------\n"
     ]
    }
   ],
   "source": [
    "import numpy\n",
    "import random\n",
    "\n",
    "classified_df = []\n",
    "unclassified_df = []\n",
    "\n",
    "for data in df:\n",
    "    classified_df.append(data) if data['is_classified'] else unclassified_df.append(data)\n",
    "\n",
    "accuracies = []\n",
    "iterations = 1\n",
    "for i in range(iterations):\n",
    "    train_dataset = []\n",
    "    test_dataset = []\n",
    "    random.shuffle(classified_df)\n",
    "    train_dataset, test_dataset = np.split(classified_df, [int(len(classified_df)*0.8)])\n",
    "    \n",
    "    corpus = learning(train_dataset)\n",
    "    classifications = [{'test_data': test_data, 'scores': classificate(corpus, test_data['text'])} for test_data in test_dataset]\n",
    "    classifications = [normalize_scores(classification) for classification in classifications]\n",
    "    \n",
    "    right_answers = 0\n",
    "    for classification in classifications:\n",
    "        higher_score = max(classification['scores'], key=lambda x:x['score'])\n",
    "        if classification['test_data']['class_name'] == higher_score['class_name']:\n",
    "            right_answers += 1\n",
    "    \n",
    "    accuracy = right_answers/len(classifications)\n",
    "    accuracies.append(accuracy)\n",
    "    print(f'Iteration {i} - Accuracy {accuracy}')\n",
    "\n",
    "print('-----------------')\n",
    "print(f'Final accuracy {sum(accuracies)/len(accuracies)}')\n",
    "print('-----------------')"
   ]
  },
  {
   "cell_type": "code",
   "execution_count": 15,
   "metadata": {},
   "outputs": [
    {
     "name": "stdout",
     "output_type": "stream",
     "text": [
      "{'tent': 35, 'recuper': 25, 'senh': 50, 'nao': 174, 'aparec': 16, 'opco': 8, 'reenvi': 1, 'codig': 7, 'via': 2, 'sms': 1, 'mail': 9, 'par': 1, 'funcion': 30, 'aceit': 1, 'permit': 1, 'reemisa': 1, 'descrica': 1, 'erro': 28, 'internal': 1, 'serv': 2, 'favor': 7, 'corrig': 2, 'app': 31, 'dev': 8, 'facilit': 4, 'complic': 4, 'vid': 16, 'usuari': 2, 'ja': 35, 'faz': 51, 'biometr': 6, 'facial': 30, 'divers': 2, 'vez': 13, 'consig': 34, 'conclu': 4, 'proced': 3, 'coloc': 5, 'rost': 8, 'tod': 20, 'posico': 2, 'solicit': 6, 'expir': 2, 'temp': 18, 'govern': 8, 'inutil': 2, 'enta': 1, 'lib': 2, 'opca': 13, 'entrar': 16, 'nov': 7, 'adequ': 2, 'ser': 14, 'horrivel': 8, 'ter': 6, 'acess': 24, 'consegu': 14, 'ruim': 7, 'program': 1, 'aind': 3, 'estal': 1, 'lo': 3, 'celul': 9, 'ta': 9, 'cadastr': 38, 'ajud': 11, 'algu': 8, 'soub': 1, 'obrig': 3, 'cpf': 12, 'assoc': 1, 'nunc': 20, 'use': 1, 'pra': 39, 'redefin': 1, 'quas': 4, 'impossivel': 5, 'dao': 1, 'banc': 5, 'validaca': 9, 'cnh': 14, 'nenhum': 11, 'pessim': 21, 'quer': 6, 'ped': 12, 'agend': 1, 'pesso': 5, 'sistem': 8, 'embaralh': 1, 'tud': 7, 'jog': 1, 'caminh': 1, 'chei': 1, 'duv': 2, 'precis': 25, 'simplific': 3, 'atend': 1, 'internet': 1, 'alter': 2, 'numer': 5, 'cad': 5, 'unic': 3, 'pod': 14, 'valid': 6, 'aplic': 25, 'caix': 3, 'fac': 14, 'agor': 11, 'deus': 4, 'reconhec': 29, 'usar': 8, 'facil': 9, 'form': 7, 'algum': 5, 'sei': 5, 'pq': 9, 'abri': 1, 'cont': 16, 'gov': 10, 'pec': 3, 'revup': 1, 'inval': 2, 'brasil': 1, 'trabalh': 9, 'tao': 4, 'burocrat': 2, 'sincer': 1, 'viv': 3, 'realidad': 1, 'diferent': 2, 'finalizaca': 1, 'qualqu': 1, 'process': 2, 'nest': 1, 'aqu': 6, 'respond': 2, 'ctps': 1, 'problem': 6, 'benefici': 2, 'fic': 20, 'aprec': 1, 'mim': 3, 'respod': 1, 'uns': 2, 'questionari': 2, 'pergunt': 1, 'dand': 6, 'requisica': 1, 'ligu': 2, 'cert': 9, 'perd': 4, 'segur': 5, 'desempreg': 4, 'caus': 1, 'diss': 1, 'lent': 2, 'abre': 2, 'nad': 17, 'sempr': 8, 'tend': 1, 'muit': 4, 'dor': 1, 'cabec': 3, 'refaz': 2, 'porqu': 2, 'provisor': 1, 'resolv': 5, 'cois': 4, 'import': 1, 'ultim': 1, 'atualizaca': 1, 'pior': 7, 'imprim': 1, 'bolet': 2, 'enem': 7, 'inscrev': 1, 'dia': 7, 'dess': 4, 'outr': 5, 'oqu': 2, 'cas': 1, 'contrari': 1, 'vou': 6, 'bom': 5, 'centralizaca': 1, 'dificil': 6, 'qr': 8, 'ger': 2, 'leitor': 1, 'usad': 1, 'ache': 3, 'rap': 1, 'objet': 1, 'por': 5, 'dorm': 1, 'curt': 1, 'ridicul': 3, 'pass': 7, 'raiv': 4, 'ness': 6, 'pouc': 2, 'ide': 4, 'incrivel': 1, 'melhor': 4, 'altern': 1, 'tav': 1, 'antes': 5, 'sit': 7, 'mud': 4, 'lix': 1, 'genteee': 1, 'amor': 2, 'mes': 2, 'divergenc': 1, 'respost': 6, 'esper': 3, 'hs': 1, 'maos': 1, 'lig': 1, 'sucess': 7, 'econm': 1, 'ministeri': 1, 'mand': 6, 'procur': 2, 'pats': 1, 'onde': 4, 'regia': 1, 'encontr': 1, 'ab': 1, 'c': 1, 'esto': 1, 'desesper': 1, 'rum': 1, 'sab': 2, 'orientaca': 1, 'receb': 4, 'pag': 1, 'aluguel': 1, 'dias': 6, 'dar': 5, 'entrad': 2, 'finaliz': 2, 'fiz': 9, 'reclamaca': 1, 'escrit': 1, 'apresent': 1, 'ate': 6, 'moment': 1, 'ressalt': 1, 'ha': 4, 'urgenc': 1, 'vist': 2, 'praz': 1, 'cumpr': 1, 'junt': 2, 'inss': 6, 'document': 2, 'digit': 3, 'vc': 3, 'lembr': 3, 'bota': 1, 'tant': 1, 'tecnolog': 1, 'perc': 1, 'instal': 2, 'trav': 2, 'identificaca': 1, 'gent': 9, 'inves': 1, 'aproxim': 1, 'afast': 2, 'urgent': 1, 'carr': 3, 'diz': 9, 'poss': 3, 'afirm': 1, 'ai': 2, 'aba': 1, 'confer': 2, 'dad': 6, 'email': 13, 'telefon': 4, 'parec': 3, 'cri': 7, 'envi': 3, 'vem': 1, 'automat': 1, 'soluca': 3, 'conseg': 4, 'prov': 11, 'sao': 4, 'dific': 1, 'dificult': 1, 'cidada': 5, 'realiz': 3, 'inscrica': 2, 'entre': 2, 'voc': 7, 'recomend': 1, 'carreg': 1, 'pagin': 5, 'esquec': 4, 'realizaca': 1, 'verificaca': 3, 'fot': 11, 'centraliz': 1, 'vir': 8, 'direit': 6, 'esquerd': 3, 'acab': 2, 'retom': 1, 'eficaz': 1, 'men': 1, 'registr': 1, 'tip': 2, 'recuperaca': 6, 'send': 4, 'la': 6, 'cadstr': 1, 'vi': 4, 'comentari': 1, 'link': 1, 'vcs': 8, 'adiant': 2, 'jeit': 5, 'usand': 2, 'pois': 7, 'inform': 1, 'acontec': 2, 'crim': 1, 'bem': 2, 'carteir': 4, 'digital': 2, 'avo': 2, 'hor': 7, 'selfi': 1, 'anos': 2, 'lev': 2, 'pandem': 1, 'mei': 2, 'ocul': 1, 'deu': 4, 'fal': 5, 'q': 4, 'entend': 3, 'roub': 2, 'ia': 1, 'not': 3, 'deix': 3, 'estrel': 3, 'ver': 4, 'tal': 2, 'fiqu': 2, 'olhand': 1, 'cam': 1, 'olha': 2, 'baix': 5, 'cel': 1, 'abrir': 1, 'msm': 2, 'primeir': 2, 'autentic': 1, 'segu': 2, 'comand': 1, 'var': 5, 'liber': 1, 'brincadeir': 1, 'car': 2, 'recom': 1, 'complicaco': 2, 'ofec': 1, 'const': 4, 'falh': 2, 'lug': 2, 'torn': 1, 'possiv': 2, 'soluco': 1, 'bat': 1, 'disponiv': 1, 'burocrac': 2, 'demor': 2, 'tamb': 3, 'comec': 1, 'possivel': 3, 'entretant': 1, 'saiu': 1, 'comprov': 1, 'certez': 1, 'br': 3, 'adcion': 1, 'onlin': 1, 'chrom': 1, 'acho': 2, 'vam': 2, 'venh': 1, 'concord': 1, 'comig': 2, 'quisit': 1, 'impressa': 2, 'dig': 1, 'ano': 2, 'seguint': 1, 'engord': 1, 'emagrec': 1, 'fisionom': 1, 'anterior': 1, 'vai': 7, 'exig': 3, 'ne': 1, 'aff': 1, 'indign': 2, 'recadastr': 2, 'candratod': 1, 'boa': 3, 'palhac': 1, '40min': 1, 'n': 3, 'final': 3, 'repet': 1, 'orientaco': 2, 'tel': 3, 'lid': 1, 'orient': 1, 'fech': 5, 'olhos': 2, 'lad': 1, 'bol': 1, 'ler': 2, 'espir': 1, 'falt': 3, 'desd': 2, 'mai': 1, 'acord': 1, 'preservaca': 1, 'empreg': 1, 'grup': 1, 'risc': 1, 'empres': 1, 'reclam': 1, 'entro': 1, 'tir': 7, 'identific': 1, 'usa': 2, 'list': 1, 'servic': 3, 'disponibiliz': 1, 'federal': 3, 'titul': 1, 'carta': 1, 'sus': 1, 'passaport': 1, 'etc': 2, 'assim': 5, 'motor': 1, 'seri': 1, 'dinheir': 1, 'vergonh': 2, 'pais': 1, 'desconhec': 2, 'irrespons': 1, 'esta': 3, 'prejudic': 2, 'estud': 1, 'itau': 1, 'servidor': 1, 'experienc': 2, 'resum': 2, 'desfaz': 1, 'irregul': 1, 'boletim': 1, 'ocorrenc': 1, 'clar': 2, 'exist': 1, 'uso': 1, 'indev': 1, 'mensag': 3, 'pront': 2, '[?]': 1, 'definit': 2, 'corret': 1, 'abil': 1, 'orrivel': 1, 'particip': 3, 'atual': 1, 'trat': 1, 'utiliz': 1, 'tbm': 2, 'idos': 1, 'simpl': 1, 'objetiv': 1, 'deficient': 2, 'sem': 1, 'visu': 1, 'total': 1, 'pai': 1, 'bendit': 1, 'laboral': 1, 'faq': 3, 'agent': 2, 'ir': 2, 'consigu': 1, 'fotograf': 1, 'sorr': 3, 'bas': 1, 'informaco': 2, 'acompanh': 2, 'fat': 1, 'isent': 1, 'sent': 1, 'nesci': 1, 'posica': 1, 'ningu': 2, 'uai': 1, 'cham': 1, 'bob': 1, 'evolu': 1, 'sup': 1, 'revis': 1, 'pisc': 2, 'olho': 2, 'val': 2, 'bast': 1, 'vao': 1, 'movimentaca': 1, 'possu': 2, 'fbi': 1, 'algo': 1, 'notific': 1, 'sobr': 2, 'expiraca': 1, 'vari': 2, 'moviment': 1, 'rind': 1, 'verific': 1, 'metad': 1, 'pagament': 1, 'metod': 1, 'leitur': 3, 'cod': 6, 'comput': 4, 'localiz': 1, 'apos': 1, 'tentat': 2, 'frustrant': 1, 'bor': 1, 'desinstal': 1, 'part': 1, 'imagens': 1, 'cadrastr': 1, 'mostr': 1, 'imagin': 2, 'long': 1, 'funcional': 2, 'pratic': 1, 'zer': 1, 'andand': 1, 'circul': 1, 'progressa': 1, 'respeit': 3, 'molequ': 1, 'ok': 1, 'coit': 1, 'dentadur': 1, 'constrang': 2, 'dent': 1, 'frent': 1, 'camb': 1, 'interess': 2, 'recurs': 1, 'terrivel': 1, 'drog': 1, 'agenc': 1, 'peg': 1, 'demonstr': 1, 'rendiment': 1, 'impost': 1, 'rend': 1, 'extrat': 1, 'desenvolv': 1, 'primari': 1, 'plataform': 1, 'podr': 1, 'oit': 1, 'log': 1, 'legal': 1, 'inic': 1, 'login': 2, 'integraca': 1, 'qndo': 1, 'capaz': 1, 'futur': 1, 'negoci': 1, 'facialna': 1, 'niss': 2, 'arrum': 2, 'umas': 1, 'advog': 1, 'relaca': 1, 'infeliz': 3, 'poupatemp': 1, 'covid': 1, 'instruco': 1, 'ca': 1, 'sair': 1, 'rob': 1, 'lucr': 1, 'lut': 1, 'detran': 1, 'sequ': 1, 'atualiz': 1, 'motoboy': 1, 'papel': 1, 'deem': 2, 'util': 1, 'qie': 1, 'vag': 1, 'qrcod': 1, 'realment': 1, 'volt': 1, 'lamentavel': 1, 'tard': 1, 'bax': 1, 'aguard': 1, 'otim': 1, 'feedback': 1, 'verdad': 1, 'merec': 1, 'inadmissivel': 1, 'louc': 1, 'pera': 1, 'pov': 1, 'ric': 1, 'ganh': 1, 'auxili': 1, 'emergencial': 1, 'piad': 1, 'pobr': 1, 'traduca': 1, 'va': 1, 'maior': 1, 'etap': 1, 'mensagens': 1, 'inteir': 1, 'desanim': 1, 'acessivel': 1, 'inum': 1, 'dem': 1, 'desenvolvedor': 1, 'olhad': 1, 'gest': 1, 'certinh': 1, 'antig': 1, 'pur': 1, 'descas': 1, 'ti': 1, 'equip': 1, 'profissional': 1, 'competent': 1, 'criaca': 1, 'criador': 1, 'leam': 1, 'consert': 1, 'print': 1, 'mal': 1, 'camp': 1, 'cheg': 1}\n"
     ]
    }
   ],
   "source": [
    "print(corpus['usability'])"
   ]
  },
  {
   "cell_type": "code",
   "execution_count": 16,
   "metadata": {},
   "outputs": [
    {
     "name": "stdout",
     "output_type": "stream",
     "text": [
      "{'tent': 9, 'recuper': 10, 'senh': 20, 'gov': 7, 'trav': 3, 'avanc': 5, 'nao': 93, 'sequenc': 2, 'process': 3, 'complic': 3, 'epoc': 1, 'pandem': 1, 'pra': 21, 'fic': 6, 'servic': 1, 'public': 1, 'funcion': 23, 'acess': 14, 'primeir': 1, 'vez': 4, 'lix': 8, 'aplic': 19, 'vergonh': 1, 'simples': 5, 'sequ': 1, 'consig': 22, 'inic': 2, 'complet': 2, 'perc': 1, 'temp': 6, 'nad': 9, 'pur': 1, 'enganaca': 1, 'dev': 6, 'ser': 9, 'pres': 1, 'band': 1, 'bom': 9, 'ultim': 2, 'atualizaca': 1, 'inutiliz': 1, 'ped': 7, 'faz': 28, 'nov': 4, 'validaca': 7, 'facial': 25, 'par': 2, 'pront': 2, 'ja': 14, 'hav': 1, 'feit': 3, 'agor': 2, 'app': 18, 'morr': 1, 'afff': 2, 'pessim': 33, 'nel': 2, 'ruim': 15, 'voc': 3, 'igual': 2, 'retard': 1, 'mov': 1, 'rost': 3, 'encerr': 1, 'reconhec': 15, 'fac': 6, 'sistem': 3, 'mapeament': 1, 'novel': 1, 'coloc': 5, 'dat': 3, 'emissa': 3, 'cnh': 10, 'bota': 3, 'ir': 1, 'n': 2, 'aconselh': 1, 'ningu': 1, 'ussar': 1, 'pecim': 1, 'carteir': 6, 'habilitaco': 1, 'gent': 2, 'tod': 6, 'fot': 4, 'rap': 1, 'deix': 1, 'agent': 1, 'ler': 4, 'direit': 3, 'vai': 4, 'finaliz': 1, 'especial': 1, 'horrivel': 7, 'cri': 6, 'cont': 9, 'jeit': 1, 'nenhum': 3, 'not': 1, 'estrel': 4, 'porqu': 5, 'pesso': 6, 'conseg': 3, 'avali': 1, 'dess': 3, 'form': 5, 'gost': 5, 'informaca': 1, 'biometr': 6, 'patif': 1, 'horivel': 1, 'tip': 1, 'benefici': 2, 'oferec': 2, 'populaca': 2, 'dou': 1, 'zer': 3, 'pq': 1, 'drog': 2, 'pior': 3, 'govern': 2, 'fiz': 3, 'maneir': 1, 'pec': 1, 'favor': 2, 'verifiqu': 1, 'suport': 1, 'melhor': 1, 'consegu': 9, 'instal': 1, 'autenticaca': 1, 'ridicul': 3, 'dar': 1, 'entrad': 2, 'segur': 3, 'desempreg': 2, 'tempor': 2, 'envi': 1, 'aprov': 1, 'identificaca': 1, 'emergencial': 1, 'cadastr': 20, 'ness': 2, 'sit': 1, 'caix': 1, 'banc': 1, 'const': 3, 'cpf': 9, 'receb': 2, 'empres': 1, 'aleg': 1, 'pod': 5, 'henriqu': 1, 'bell': 1, 'duv': 1, 'experienc': 7, 'irracion': 1, 'alem': 1, 'tud': 3, 'descriminatori': 1, 'exig': 1, 'tir': 4, 'ocul': 2, 'angul': 1, 'necessari': 1, 'tel': 1, 'comand': 1, 'usa': 1, 'precis': 6, 'titul': 1, 'entend': 1, 'merec': 1, 'orrivel': 2, 'prov': 5, 'vid': 8, 'erro': 6, 'ache': 1, 'pouc': 1, 'dificil': 4, 'idad': 1, 'diz': 2, 'possu': 1, 'bas': 1, 'dad': 5, 'mei': 1, 'terrivel': 1, 'dor': 1, 'pescoc': 1, 'tant': 3, 'vira': 1, 'selfi': 1, 'final': 1, 'acab': 1, 'expir': 1, 'quatr': 1, 'tentat': 2, 'exit': 2, 'otim': 5, 'boa': 5, 'sempr': 5, 'trabalh': 4, 'resolv': 1, 'problem': 3, 'aparec': 2, 'telefon': 3, 'email': 2, 'sao': 1, 'porfavor': 1, 'soluca': 1, 'algu': 3, 'utiliz': 1, 'usand': 1, 'digit': 1, 'fal': 2, 'tou': 1, 'poss': 1, 'verific': 1, 'naveg': 3, 'ter': 3, 'opca': 2, 'necess': 1, 'pois': 2, 'mund': 1, 'mbbnb': 1, 'realment': 2, 'impossivel': 3, 'recuperaca': 4, 'funcional': 1, 'tend': 2, 'digital': 2, 'estar': 3, 'atrav': 1, 'ne': 1, '[?]': 1, 'atend': 1, 'ae': 1, 'esper': 1, 'le': 1, 'codig': 2, 'qrcod': 1, 'dem': 1, 'ganh': 1, 'viu': 1, 'perd': 3, 'valid': 2, 'brasileir': 1, 'verificaca': 3, 'inval': 2, 'lamentavel': 3, 'onde': 1, 'ultiliz': 1, 'dias': 1, 'quarenten': 1, 'pos': 1, 'asses': 1, 'entra': 1, 'usuari': 1, 'celul': 2, 'cod': 3, 'inform': 3, 'entrar': 3, 'outr': 2, 'work': 1, 'promess': 1, 'burrocrac': 1, 'restant': 1, 'dinheir': 1, 'contribuint': 1, 'jog': 1, 'apnic': 1, 'recadastr': 1, 'sup': 2, 'insatisfeit': 1, 'etap': 2, 'ignor': 1, 'continu': 1, 'apric': 1, 'aind': 4, 'ta': 1, 'test': 2, 'previst': 1, 'dezembr': 1, 'util': 2, 'noit': 1, 'habilitaca': 4, 'hor': 2, 'facil': 3, 'segund': 4, 'tdo': 1, 'cert': 2, 'vcs': 1, 'lig': 1, 'carreg': 1, 'atualiz': 3, 'numer': 5, 'comput': 2, 'cep': 2, 'tamb': 3, 'comec': 1, 'aceit': 1, 'apag': 1, 'edit': 2, 'use': 3, 'br': 2, 'lent': 1, 'esquec': 1, 'mand': 1, 'codic': 1, 'sai': 2, 'ver': 1, 'qd': 1, 'volt': 3, 'inici': 1, 'autentificaca': 1, 'arrum': 1, 'recom': 1, 'fcilidad': 1, 'uso': 1, 'quer': 2, 'adiant': 1, 'princip': 1, 'pagin': 2, 'estagn': 1, 'formulari': 1, 'obrig': 1, 'ajud': 2, 'exist': 2, 'nunc': 4, 'redefin': 2, 'algum': 2, 'respost': 2, 'cop': 1, 'col': 1, 'retorn': 1, 'assim': 2, 'sei': 1, 'ide': 1, 'part': 1, 'item': 1, 'prosegu': 1, 'vi': 2, 'apps': 1, 'ruins': 1, 'super': 1, 'chat': 2, 'prest': 1, 'leitur': 4, 'pratic': 2, 'clarez': 1, 'import': 1, 'mim': 1, 'vo': 1, 'deus': 2, 'usar': 1, 'registr': 1, 'cancel': 1, 'comsig': 1, 'acho': 1, 'vou': 1, 'comsequ': 1, 'casatr': 1, 'mostr': 1, 'errad': 2, 'cel': 3, 'plataform': 1, 'opco': 1, 'fornec': 1, 'transtorn': 1, 'execut': 2, 'vist': 1, 'muit': 2, 'nest': 1, 'moment': 1, 'dificuldad': 2, 'present': 1, 'virtual': 1, 'cad': 2, 'dia': 2, 'cam': 1, 'centraliz': 1, 'ate': 1, 'fech': 1, 'olhos': 1, 'hack': 1, 'desenvolv': 1, 'algo': 1, 'tao': 1, 'amador': 1, 'coloqu': 1, 'negat': 1, 'segu': 1, 'ha': 1, 'tecnolog': 1, 'comport': 1, 'curt': 2, 'leitor': 1, 'var': 1, 'ves': 1, 'consegui': 1, 'perfeit': 1, 'maravilh': 1, 'corret': 1, 'serv': 2, 'estress': 1, 'cidada': 1, 'facilit': 1, 'troc': 1, 'burocrac': 1, 'parabens': 3, 'imediat': 1, 'hilari': 1, 'pitoresc': 1, 'estapafurd': 1, 'diversa': 1, 'garant': 1, 'rir': 1, 'divert': 1, 'lembr': 1, 'grav': 1, 'compartilh': 1, 'alegr': 1, 'excelent': 1, 'atecnolog': 1, 'aprxim': 1, 'falt': 1, 'abas': 1, 'pedrer': 1, 'construca': 1, 'civil': 1, 'amo': 1, 'realiz': 1, 'mensag': 1, 'ap': 1, 'funca': 1, 'login': 1, 'urgent': 1, 'belez': 1, 'feliz': 1, 'bem': 2, 'pens': 1, 'geit': 1, 'por': 1, 'la': 1, 'mail': 1, 'baix': 2, 'reclam': 1, 'cheg': 1, 'constrangedor': 1, 'exclu': 1, 'recri': 1, 'piad': 1, 'mal': 1, 'pass': 1, 'humilh': 1, 'econhec': 1, 'dur': 1, 'depend': 1, 'dest': 1, 'soluco': 1, 'amor': 1, 'acontec': 1, 'soub': 1, 'antig': 1, 'ia': 1, 'denov': 1, 'ok': 1, 'cham': 1, 'decent': 1, 'mont': 1, 'qr': 2, 'porq': 1, 'fod': 1, 'bastant': 1, 'apes': 1, 'observ': 1, 'sim': 1, 'traz': 1, 'informaco': 1, 'incorret': 1, 'sus': 2, 'carta': 1, 'permit': 1, 'corrig': 1, 'opte': 1, 'document': 1, 'oqu': 1, 'alter': 1, 'apos': 1}\n"
     ]
    }
   ],
   "source": [
    "print(corpus['not_usability'])"
   ]
  },
  {
   "cell_type": "code",
   "execution_count": null,
   "metadata": {},
   "outputs": [],
   "source": []
  },
  {
   "cell_type": "code",
   "execution_count": null,
   "metadata": {},
   "outputs": [],
   "source": []
  }
 ],
 "metadata": {
  "kernelspec": {
   "display_name": "Python 3",
   "language": "python",
   "name": "python3"
  },
  "language_info": {
   "codemirror_mode": {
    "name": "ipython",
    "version": 3
   },
   "file_extension": ".py",
   "mimetype": "text/x-python",
   "name": "python",
   "nbconvert_exporter": "python",
   "pygments_lexer": "ipython3",
   "version": "3.7.3"
  }
 },
 "nbformat": 4,
 "nbformat_minor": 4
}
